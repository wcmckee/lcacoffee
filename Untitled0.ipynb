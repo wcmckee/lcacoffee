{
 "metadata": {
  "name": "",
  "signature": "sha256:a374c8c50978f18df62805d430bcb375c5068629c1dec019beb5d56c5cdbf76b"
 },
 "nbformat": 3,
 "nbformat_minor": 0,
 "worksheets": []
}