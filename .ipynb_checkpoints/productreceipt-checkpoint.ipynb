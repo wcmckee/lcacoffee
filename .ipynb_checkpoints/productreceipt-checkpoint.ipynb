{
 "cells": [
  {
   "cell_type": "markdown",
   "metadata": {},
   "source": [
    "Product Receipt\n",
    "\n",
    "Adds together items and content from sellcofee/archive"
   ]
  },
  {
   "cell_type": "code",
   "execution_count": 1,
   "metadata": {
    "collapsed": true
   },
   "outputs": [],
   "source": [
    "import os\n",
    "import json\n",
    "import dominate\n",
    "from dominate.tags import * \n",
    "from time import gmtime, strftime\n",
    "import time\n"
   ]
  },
  {
   "cell_type": "code",
   "execution_count": 2,
   "metadata": {
    "collapsed": true
   },
   "outputs": [],
   "source": [
    "arctdir = ('/home/wcmckee/sellcoffee/archive/')"
   ]
  },
  {
   "cell_type": "code",
   "execution_count": 3,
   "metadata": {
    "collapsed": false
   },
   "outputs": [
    {
     "data": {
      "text/plain": [
       "'/home/wcmckee/sellcoffee/archive/'"
      ]
     },
     "execution_count": 3,
     "metadata": {},
     "output_type": "execute_result"
    }
   ],
   "source": [
    "arctdir"
   ]
  },
  {
   "cell_type": "code",
   "execution_count": 4,
   "metadata": {
    "collapsed": false
   },
   "outputs": [],
   "source": [
    "lisar = os.listdir(arctdir)"
   ]
  },
  {
   "cell_type": "code",
   "execution_count": 5,
   "metadata": {
    "collapsed": true
   },
   "outputs": [],
   "source": [
    "finlis = []"
   ]
  },
  {
   "cell_type": "code",
   "execution_count": 7,
   "metadata": {
    "collapsed": false
   },
   "outputs": [
    {
     "name": "stdout",
     "output_type": "stream",
     "text": [
      "2015-03-03-032951.json\n",
      "2015-03-03-033840.json\n",
      "2015-03-03-033001.json\n",
      "2015-03-03-033017.json\n",
      "2015-03-03-033847.json\n",
      "2015-03-03-033007.json\n"
     ]
    }
   ],
   "source": [
    "for li in lisar:\n",
    "    print (li)\n",
    "    opli = open(arctdir + li, 'r')\n",
    "    oprd = opli.read()\n",
    "    finlis.append(oprd)"
   ]
  },
  {
   "cell_type": "code",
   "execution_count": 8,
   "metadata": {
    "collapsed": true
   },
   "outputs": [],
   "source": [
    "#Merge together sales by time."
   ]
  },
  {
   "cell_type": "code",
   "execution_count": 9,
   "metadata": {
    "collapsed": false
   },
   "outputs": [],
   "source": [
    "#deblis = "
   ]
  },
  {
   "cell_type": "code",
   "execution_count": 10,
   "metadata": {
    "collapsed": false
   },
   "outputs": [
    {
     "name": "stdout",
     "output_type": "stream",
     "text": [
      "debian\n",
      "{'time': '032951', 'amount': 3, 'date': '2015-03-03', 'product': 'debian'}\n",
      "032951\n",
      "2015-03-03\n",
      "3\n",
      "debian\n",
      "{'time': '033840', 'amount': 3, 'date': '2015-03-03', 'product': 'debian'}\n",
      "033840\n",
      "2015-03-03\n",
      "3\n",
      "portrait\n",
      "{'time': '033001', 'amount': 2, 'date': '2015-03-03', 'product': 'portrait'}\n",
      "033001\n",
      "2015-03-03\n",
      "2\n",
      "portrait\n",
      "{'time': '033017', 'amount': 5, 'date': '2015-03-03', 'product': 'portrait'}\n",
      "033017\n",
      "2015-03-03\n",
      "5\n",
      "portrait\n",
      "{'time': '033847', 'amount': 2, 'date': '2015-03-03', 'product': 'portrait'}\n",
      "033847\n",
      "2015-03-03\n",
      "2\n",
      "debian\n",
      "{'time': '033007', 'amount': 1, 'date': '2015-03-03', 'product': 'debian'}\n",
      "033007\n",
      "2015-03-03\n",
      "1\n"
     ]
    }
   ],
   "source": [
    "for fi in finlis:\n",
    "    #print fi\n",
    "    newjs = json.loads(fi)\n",
    "    print (newjs['product'])\n",
    "    print (newjs)\n",
    "    #print newjs['cost']\n",
    "    print (newjs['time'])\n",
    "    print (newjs['date'])\n",
    "    print (newjs['amount'])"
   ]
  },
  {
   "cell_type": "code",
   "execution_count": 14,
   "metadata": {
    "collapsed": true
   },
   "outputs": [],
   "source": [
    "jsdic = dict()"
   ]
  },
  {
   "cell_type": "code",
   "execution_count": null,
   "metadata": {
    "collapsed": true
   },
   "outputs": [],
   "source": []
  },
  {
   "cell_type": "code",
   "execution_count": null,
   "metadata": {
    "collapsed": true
   },
   "outputs": [],
   "source": [
    "for fi in finlis:\n",
    "            #print fi\n",
    "            newjs = json.loads(fi)\n",
    "            h1(newjs['product'])\n",
    "            #print newjs\n",
    "            #print newjs['cost']\n",
    "            p(newjs['time'])\n",
    "            p(newjs['date'])\n",
    "            p(newjs['amount'])"
   ]
  },
  {
   "cell_type": "code",
   "execution_count": 11,
   "metadata": {
    "collapsed": false
   },
   "outputs": [
    {
     "data": {
      "text/plain": [
       "['{\"date\": \"2015-03-03\", \"product\": \"debian\", \"amount\": 3, \"time\": \"032951\"}',\n",
       " '{\"date\": \"2015-03-03\", \"product\": \"debian\", \"amount\": 3, \"time\": \"033840\"}',\n",
       " '{\"date\": \"2015-03-03\", \"product\": \"portrait\", \"amount\": 2, \"time\": \"033001\"}',\n",
       " '{\"date\": \"2015-03-03\", \"product\": \"portrait\", \"amount\": 5, \"time\": \"033017\"}',\n",
       " '{\"date\": \"2015-03-03\", \"product\": \"portrait\", \"amount\": 2, \"time\": \"033847\"}',\n",
       " '{\"date\": \"2015-03-03\", \"product\": \"debian\", \"amount\": 1, \"time\": \"033007\"}']"
      ]
     },
     "execution_count": 11,
     "metadata": {},
     "output_type": "execute_result"
    }
   ],
   "source": [
    "finlis"
   ]
  },
  {
   "cell_type": "code",
   "execution_count": 13,
   "metadata": {
    "collapsed": false
   },
   "outputs": [
    {
     "name": "stdout",
     "output_type": "stream",
     "text": [
      "<!DOCTYPE html>\n",
      "<html>\n",
      "  <head>\n",
      "    <title>BroBeur CyberCafe Transactions</title>\n",
      "    <link href=\"style.css\" rel=\"stylesheet\"><script src=\"script.js\" type=\"text/javascript\"></script>\n",
      "    <div class=\"header\">\n",
      "      <h1>BroBeur CyberCafe Transactions</h1>\n",
      "      <h3>BroBeur CyberCafe Transactions</h3>\n",
      "      <p>Updated Sun, 02 Aug 2015 05:55:08 +0000</p>\n",
      "    </div>\n",
      "  </head>\n",
      "  <body>\n",
      "    <div id=\"body\">\n",
      "      <ol>\n",
      "        <h1>debian</h1>\n",
      "        <p>032951</p>\n",
      "        <p>2015-03-03</p>\n",
      "        <p>3</p>\n",
      "        <h1>debian</h1>\n",
      "        <p>033840</p>\n",
      "        <p>2015-03-03</p>\n",
      "        <p>3</p>\n",
      "        <h1>portrait</h1>\n",
      "        <p>033001</p>\n",
      "        <p>2015-03-03</p>\n",
      "        <p>2</p>\n",
      "        <h1>portrait</h1>\n",
      "        <p>033017</p>\n",
      "        <p>2015-03-03</p>\n",
      "        <p>5</p>\n",
      "        <h1>portrait</h1>\n",
      "        <p>033847</p>\n",
      "        <p>2015-03-03</p>\n",
      "        <p>2</p>\n",
      "        <h1>debian</h1>\n",
      "        <p>033007</p>\n",
      "        <p>2015-03-03</p>\n",
      "        <p>1</p>\n",
      "      </ol>\n",
      "    </div>\n",
      "    <div class=\"body\">\n",
      "      <p>sellcoffee is open source</p>\n",
      "      <a>https://github.com/wcmckee/lcacoffee</a>\n",
      "    </div>\n",
      "  </body>\n",
      "</html>\n"
     ]
    }
   ],
   "source": [
    "doc = dominate.document(title='BroBeur CyberCafe Transactions')\n",
    "\n",
    "with doc.head:\n",
    "    link(rel='stylesheet', href='style.css')\n",
    "    script(type ='text/javascript', src='script.js')\n",
    "    #str(str2)\n",
    "    \n",
    "    with div():\n",
    "        attr(cls='header')\n",
    "        h1('BroBeur CyberCafe Transactions')\n",
    "        h3('BroBeur CyberCafe Transactions')\n",
    "        #p(img('imgs/getsdrawn-bw.png', src='imgs/getsdrawn-bw.png'))\n",
    "        #p(img('imgs/15/01/02/ReptileLover82-reference.png', src= 'imgs/15/01/02/ReptileLover82-reference.png'))\n",
    "        p('Updated ', strftime(\"%a, %d %b %Y %H:%M:%S +0000\", gmtime()))\n",
    "        #p(panz)\n",
    "        #p(bodycom)\n",
    "    \n",
    "    \n",
    "\n",
    "with doc:\n",
    "    with div(id='body').add(ol()):\n",
    "        for fi in finlis:\n",
    "            #print fi\n",
    "            newjs = json.loads(fi)\n",
    "            h1(newjs['product'])\n",
    "            #print newjs\n",
    "            #print newjs['cost']\n",
    "            p(newjs['time'])\n",
    "            p(newjs['date'])\n",
    "            p(newjs['amount'])\n",
    "            #print newjs['cost']\n",
    "            #oprdz = open((prodir + rdz + '/' + rdz + '-id'), 'r')\n",
    "            #p('id: ' + oprdz.read())\n",
    "            #oprdz.close()\n",
    "            \n",
    "            #prrdz = open((prodir + rdz + '/' + rdz + '-price'), 'r')\n",
    "            #p('price: ' + prrdz.read())\n",
    "            #prrdz.close()\n",
    "\n",
    "\n",
    "                \n",
    "            #print rdz.url\n",
    "            #if '.jpg' in rdz.url:\n",
    "            #    img(rdz.urlz)\n",
    "            #else:\n",
    "            #    a(rdz.urlz)\n",
    "            #h1(str(rdz.author))\n",
    "            \n",
    "            #li(img(i.lower(), src='%s' % i))\n",
    "\n",
    "    with div():\n",
    "        attr(cls='body')\n",
    "        p('sellcoffee is open source')\n",
    "        a('https://github.com/wcmckee/lcacoffee')\n",
    "        #a('https://reddit.com/r/redditgetsdrawn')\n",
    "\n",
    "print (doc)"
   ]
  },
  {
   "cell_type": "code",
   "execution_count": null,
   "metadata": {
    "collapsed": true
   },
   "outputs": [],
   "source": [
    "docre = doc.render()\n",
    "#s = docre.decode('ascii', 'ignore')\n",
    "yourstring = docre.encode('ascii', 'ignore').decode('ascii')\n",
    "indfil = ('/home/wcmckee/sellreceipt/index.html')\n",
    "mkind = open(indfil, 'w')\n",
    "mkind.write(yourstring)\n",
    "mkind.close()"
   ]
  }
 ],
 "metadata": {
  "kernelspec": {
   "display_name": "Python 3",
   "language": "python",
   "name": "python3"
  },
  "language_info": {
   "codemirror_mode": {
    "name": "ipython",
    "version": 3
   },
   "file_extension": ".py",
   "mimetype": "text/x-python",
   "name": "python",
   "nbconvert_exporter": "python",
   "pygments_lexer": "ipython3",
   "version": "3.4.2"
  }
 },
 "nbformat": 4,
 "nbformat_minor": 0
}
