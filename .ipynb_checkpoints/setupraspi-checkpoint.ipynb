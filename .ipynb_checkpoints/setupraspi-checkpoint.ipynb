{
 "cells": [
  {
   "cell_type": "markdown",
   "metadata": {},
   "source": [
    "Setup Raspberry Pi\n",
    "\n",
    "Script used on freshly installed raspbrien install on a Raspberry Pi.\n",
    "Installs IPython Notebook\n",
    "Gets .ssh folder from local server\n",
    "Copy folders from local server.\n",
    "Home, Github code, sellcoffee,\n",
    "\n",
<<<<<<< HEAD
    "Install Python script requirments\n",
    "(pip arrow/praw/requests etc).\n",
    "Install from local server\n",
=======
    ".gimp-2.8\n",
    ".ipython\n",
    "\n",
    "\n",
    "Install Python script requirments\n",
    "(pip arrow/praw/requests etc).\n",
    "Install from local server\n",
    "\n",
    "Get public ssh key from local web server that allows remote machine to ssh into new pi and copy req folders.\n",
    "\n",
    "copy interfaces file accross - and assign a \n",
    "new number. Also create new colour hostname.\n",
    "\n",
    "How hostnames work.\n",
    "Dict that has all current hostnames with their static ip.\n",
    "Dict that has all future hostnames with their static ip.\n",
    "\n",
    "when new machine added remove hostname/static ip from future hostnames and add to current hostnames.\n",
    "\n",
    "32 - zinkwhite\n",
    "33 - corlsbudcayon\n",
    "34 - naplesyellow\n",
    "35 - etc..\n",
    "\n",
    "Need to get a colour generator script.\n",
>>>>>>> 33339176764b46364df5f23a3c832970688bf476
    "\n"
   ]
  },
  {
   "cell_type": "code",
<<<<<<< HEAD
   "execution_count": 1,
=======
   "execution_count": null,
   "metadata": {
    "collapsed": true
   },
   "outputs": [],
   "source": []
  },
  {
   "cell_type": "code",
   "execution_count": 394,
>>>>>>> 33339176764b46364df5f23a3c832970688bf476
   "metadata": {
    "collapsed": true
   },
   "outputs": [],
   "source": [
    "#ssh into the pi and start doing commands."
   ]
  },
  {
   "cell_type": "code",
<<<<<<< HEAD
   "execution_count": 2,
=======
   "execution_count": 446,
   "metadata": {
    "collapsed": false
   },
   "outputs": [],
   "source": [
    "import shutil\n",
    "import colourlovers\n",
    "import os\n",
    "from colourlovers import ColourLovers\n",
    "import requests\n",
    "import json"
   ]
  },
  {
   "cell_type": "code",
   "execution_count": null,
   "metadata": {
    "collapsed": false
   },
   "outputs": [],
   "source": []
  },
  {
   "cell_type": "code",
   "execution_count": 396,
   "metadata": {
    "collapsed": false
   },
   "outputs": [],
   "source": [
    "#from colourlovers import ColourLovers\n",
    "#cl = ColourLovers()\n",
    "#cl.color('#37cbff')\n",
    "#c = ColourLovers\n"
   ]
  },
  {
   "cell_type": "code",
   "execution_count": 397,
   "metadata": {
    "collapsed": false
   },
   "outputs": [],
   "source": [
    "cl = ColourLovers()\n",
    "#Better to go with the random. Need to generate \n",
    "#liscolor = cl.colors('top', numResults=50, result_offset=50)\n",
    "liscolor = cl.colors('random')"
   ]
  },
  {
   "cell_type": "code",
   "execution_count": 398,
   "metadata": {
    "collapsed": false
   },
   "outputs": [],
   "source": [
    "hostnamecolor = list()"
   ]
  },
  {
   "cell_type": "code",
   "execution_count": 399,
   "metadata": {
    "collapsed": false
   },
   "outputs": [],
   "source": [
    "#From the examples - get the hex num. fill image with color. save.\n",
    "\n",
    "#from PIL import Image\n",
    "\n",
    "\n",
    "#im = Image.open(\"/home/wcmckee/test.jpg\")"
   ]
  },
  {
   "cell_type": "code",
   "execution_count": 400,
   "metadata": {
    "collapsed": false
   },
   "outputs": [],
   "source": [
    "#os.chdir('/home/wcmckee/colortest/')"
   ]
  },
  {
   "cell_type": "code",
   "execution_count": 401,
   "metadata": {
    "collapsed": false
   },
   "outputs": [],
   "source": [
    "#Image.new('RGB', (100,100), color=lisc.hex)#"
   ]
  },
  {
   "cell_type": "code",
   "execution_count": 402,
   "metadata": {
    "collapsed": true
   },
   "outputs": [],
   "source": [
    "colordict = dict()"
   ]
  },
  {
   "cell_type": "code",
   "execution_count": 403,
   "metadata": {
    "collapsed": true
   },
   "outputs": [],
   "source": [
    "urld = dict()"
   ]
  },
  {
   "cell_type": "code",
   "execution_count": 404,
   "metadata": {
    "collapsed": false
   },
   "outputs": [
    {
     "name": "stdout",
     "output_type": "stream",
     "text": [
      "Moose Fur\n",
      "<HSV (33, 27, 29)>\n",
      "None\n"
     ]
    }
   ],
   "source": [
    "for lisc in liscolor:\n",
    "    print lisc.title\n",
    "    #myimg = Image.new('RGB', (100,100), color=lisc.hex)\n",
    "#    myimg.save('/home/wcmckee/colortest/' + (lisc.title), format='png')\n",
    "    print lisc.hsv\n",
    "    print lisc.description\n",
    "    colordict.update({'title' : lisc.title, 'description' : lisc.description})\n",
    "    colordict.update({'hex' : lisc.hex})\n",
    "    urld.update({'url' : lisc.url})\n",
    "    \n",
    "    \n",
    "    hostnamecolor.append(lisc.title)"
   ]
  },
  {
   "cell_type": "code",
   "execution_count": 405,
   "metadata": {
    "collapsed": false
   },
   "outputs": [
    {
     "name": "stdout",
     "output_type": "stream",
     "text": [
      "['#494035', None, 'Moose Fur']\n"
     ]
    }
   ],
   "source": [
    "print colordict.values()"
   ]
  },
  {
   "cell_type": "code",
   "execution_count": 406,
   "metadata": {
    "collapsed": false
   },
   "outputs": [],
   "source": [
    "#print colordict['url']"
   ]
  },
  {
   "cell_type": "code",
   "execution_count": 407,
>>>>>>> 33339176764b46364df5f23a3c832970688bf476
   "metadata": {
    "collapsed": true
   },
   "outputs": [],
   "source": [
<<<<<<< HEAD
    "import shutil"
=======
    "hoslisf = []\n",
    "repls = []\n",
    "lowlisf = []"
   ]
  },
  {
   "cell_type": "code",
   "execution_count": 408,
   "metadata": {
    "collapsed": false
   },
   "outputs": [],
   "source": [
    "for mec in hostnamecolor:\n",
    "    #mec.replace(' ', '-')\n",
    "    mec.replace(' ', '-')\n",
    "    hoslisf.append(mec.replace(' ', '-'))"
   ]
  },
  {
   "cell_type": "code",
   "execution_count": 409,
   "metadata": {
    "collapsed": false
   },
   "outputs": [
    {
     "name": "stdout",
     "output_type": "stream",
     "text": [
      "Moose-Fur\n"
     ]
    }
   ],
   "source": [
    "for hosz in hoslisf:\n",
    "    lowlisf.append(hosz.lower())\n",
    "    print hosz\n",
    "    "
>>>>>>> 33339176764b46364df5f23a3c832970688bf476
   ]
  },
  {
   "cell_type": "code",
<<<<<<< HEAD
   "execution_count": 3,
=======
   "execution_count": 452,
   "metadata": {
    "collapsed": false
   },
   "outputs": [
    {
     "name": "stdout",
     "output_type": "stream",
     "text": [
      "moose-fur\n"
     ]
    }
   ],
   "source": [
    "for hosa in lowlisf:\n",
    "    print hosa\n",
    "    repls.append(hosa.replace(\"'\", ''))\n",
    "    colordict.update({'ftitle' : hosa})\n",
    "    "
   ]
  },
  {
   "cell_type": "code",
   "execution_count": 411,
   "metadata": {
    "collapsed": false
   },
   "outputs": [
    {
     "data": {
      "text/plain": [
       "['moose-fur']"
      ]
     },
     "execution_count": 411,
     "metadata": {},
     "output_type": "execute_result"
    }
   ],
   "source": [
    "repls"
   ]
  },
  {
   "cell_type": "code",
   "execution_count": 463,
>>>>>>> 33339176764b46364df5f23a3c832970688bf476
   "metadata": {
    "collapsed": true
   },
   "outputs": [],
   "source": [
<<<<<<< HEAD
    "import os"
=======
    "os.chdir('/home/wcmckee/colortest/')"
   ]
  },
  {
   "cell_type": "code",
   "execution_count": 464,
   "metadata": {
    "collapsed": false
   },
   "outputs": [],
   "source": [
    "#res = requests.get(urld['url'], stream=True)\n",
    "\n",
    "#with open(str(colordict['title'].replace(' ', '-')) + '.png', 'wb') as outfil:\n",
    "#    shutil.copyfileobj(res.raw, outfil)\n",
    "#    del res"
   ]
  },
  {
   "cell_type": "code",
   "execution_count": 465,
   "metadata": {
    "collapsed": false
   },
   "outputs": [
    {
     "data": {
      "text/plain": [
       "['moose-fur']"
      ]
     },
     "execution_count": 465,
     "metadata": {},
     "output_type": "execute_result"
    }
   ],
   "source": [
    "lowlisf"
   ]
  },
  {
   "cell_type": "code",
   "execution_count": 414,
   "metadata": {
    "collapsed": false
   },
   "outputs": [],
   "source": [
    "colordict.update({'locurl' : ('/home/wcmckee/colortest/' + colordict['title'].replace(' ', '-')) + '.png'})"
   ]
  },
  {
   "cell_type": "code",
   "execution_count": 415,
   "metadata": {
    "collapsed": false
   },
   "outputs": [
    {
     "data": {
      "text/plain": [
       "{'description': None,\n",
       " 'hex': '#494035',\n",
       " 'locurl': '/home/wcmckee/colortest/Moose-Fur.png',\n",
       " 'title': 'Moose Fur'}"
      ]
     },
     "execution_count": 415,
     "metadata": {},
     "output_type": "execute_result"
    }
   ],
   "source": [
    "colordict"
   ]
  },
  {
   "cell_type": "code",
   "execution_count": 416,
   "metadata": {
    "collapsed": false
   },
   "outputs": [
    {
     "data": {
      "image/png": "H4sIAAAAAAAAA9wb72/btvJzCrz/gdUeXhIslGQnaRrHdpGkaRsgXbomXTcEQUBJtMSWIlWSiuOt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\n5JEAAA==\n",
      "text/plain": [
       "<IPython.core.display.Image object>"
      ]
     },
     "execution_count": 416,
     "metadata": {},
     "output_type": "execute_result"
    }
   ],
   "source": [
    "#from IPython.display import Image\n",
    "#Image(filename= colordict['locurl'])"
   ]
  },
  {
   "cell_type": "code",
   "execution_count": 417,
   "metadata": {
    "collapsed": false
   },
   "outputs": [],
   "source": [
    "sthex = colordict['hex'].replace('#', '')"
   ]
  },
  {
   "cell_type": "code",
   "execution_count": 418,
   "metadata": {
    "collapsed": false
   },
   "outputs": [
    {
     "data": {
      "text/plain": [
       "'494035'"
      ]
     },
     "execution_count": 418,
     "metadata": {},
     "output_type": "execute_result"
    }
   ],
   "source": [
    "sthex"
   ]
  },
  {
   "cell_type": "code",
   "execution_count": 419,
   "metadata": {
    "collapsed": true
   },
   "outputs": [],
   "source": [
    "intens = []\n",
    "absens = []\n",
    "midtens = []"
   ]
  },
  {
   "cell_type": "code",
   "execution_count": 420,
   "metadata": {
    "collapsed": false
   },
   "outputs": [
    {
     "name": "stdout",
     "output_type": "stream",
     "text": [
      "4 False\n",
      "9 False\n",
      "4 False\n",
      "0 False\n",
      "3 False\n",
      "5 False\n"
     ]
    }
   ],
   "source": [
    "for schr in sthex:\n",
    "    print schr, schr.isalpha()\n",
    "    #if schr == \n",
    "    if schr.isalpha():\n",
    "        intens.append(schr)"
   ]
  },
  {
   "cell_type": "code",
   "execution_count": 421,
   "metadata": {
    "collapsed": false
   },
   "outputs": [
    {
     "data": {
      "text/plain": [
       "[]"
      ]
     },
     "execution_count": 421,
     "metadata": {},
     "output_type": "execute_result"
    }
   ],
   "source": [
    "intens"
   ]
  },
  {
   "cell_type": "code",
   "execution_count": 422,
   "metadata": {
    "collapsed": false
   },
   "outputs": [
    {
     "name": "stdout",
     "output_type": "stream",
     "text": [
      "4 True\n",
      "9 True\n",
      "4 True\n",
      "0 True\n",
      "3 True\n",
      "5 True\n"
     ]
    }
   ],
   "source": [
    "for schr in sthex:\n",
    "    print schr, schr.isdigit()\n",
    "    if schr.isdigit():\n",
    "        absens.append(schr)"
   ]
  },
  {
   "cell_type": "code",
   "execution_count": 423,
   "metadata": {
    "collapsed": false
   },
   "outputs": [
    {
     "name": "stdout",
     "output_type": "stream",
     "text": [
      "4\n",
      "9\n",
      "mid\n",
      "4\n",
      "0\n",
      "3\n",
      "5\n",
      "mid\n"
     ]
    }
   ],
   "source": [
    "for rabse in absens:\n",
    "    print rabse\n",
    "    if int(rabse) >= 5:\n",
    "        #print 'mid\n",
    "        print 'mid'\n",
    "        midtens.append(rabse)\n",
    "        \n",
    "        "
   ]
  },
  {
   "cell_type": "code",
   "execution_count": 458,
   "metadata": {
    "collapsed": true
   },
   "outputs": [],
   "source": [
    "lownumza = []"
   ]
  },
  {
   "cell_type": "code",
   "execution_count": 459,
   "metadata": {
    "collapsed": false
   },
   "outputs": [
    {
     "name": "stdout",
     "output_type": "stream",
     "text": [
      "4\n",
      "low\n",
      "9\n",
      "4\n",
      "low\n",
      "0\n",
      "low\n",
      "3\n",
      "low\n",
      "5\n",
      "low\n"
     ]
    }
   ],
   "source": [
    "for rabse in absens:\n",
    "    print rabse\n",
    "    if int(rabse) <= 5:\n",
    "        #print 'mid\n",
    "        print 'low'\n",
    "        lownumza.append(rabse)"
   ]
  },
  {
   "cell_type": "code",
   "execution_count": 424,
   "metadata": {
    "collapsed": false
   },
   "outputs": [
    {
     "name": "stdout",
     "output_type": "stream",
     "text": [
      "['4', '9', '4', '0', '3', '5']\n"
     ]
    }
   ],
   "source": [
    "print absens"
   ]
  },
  {
   "cell_type": "code",
   "execution_count": 425,
   "metadata": {
    "collapsed": false
   },
   "outputs": [
    {
     "name": "stdout",
     "output_type": "stream",
     "text": [
      "9\n",
      "5\n"
     ]
    }
   ],
   "source": [
    "for mit in midtens:\n",
    "    print mit"
   ]
  },
  {
   "cell_type": "code",
   "execution_count": 426,
   "metadata": {
    "collapsed": false
   },
   "outputs": [],
   "source": [
    "#absenc = set(absens) - set(midtens)"
   ]
  },
  {
   "cell_type": "code",
   "execution_count": 427,
   "metadata": {
    "collapsed": false
   },
   "outputs": [],
   "source": [
    "#absenc"
   ]
  },
  {
   "cell_type": "code",
   "execution_count": 428,
   "metadata": {
    "collapsed": false
   },
   "outputs": [],
   "source": [
    "#midlis = list(absenc)"
   ]
  },
  {
   "cell_type": "code",
   "execution_count": 429,
   "metadata": {
    "collapsed": true
   },
   "outputs": [],
   "source": [
    "leabs = len(lownumza)\n",
    "leints = len(intens)\n",
    "lemid = len(midtens)"
   ]
  },
  {
   "cell_type": "code",
   "execution_count": 439,
   "metadata": {
    "collapsed": false
   },
   "outputs": [],
   "source": [
    "#leabs\n",
    "colordict.update({'absens-num' : leabs, 'midsens-num' : lemid})"
   ]
  },
  {
   "cell_type": "code",
   "execution_count": 460,
   "metadata": {
    "collapsed": false
   },
   "outputs": [
    {
     "data": {
      "text/plain": [
       "2"
      ]
     },
     "execution_count": 460,
     "metadata": {},
     "output_type": "execute_result"
    }
   ],
   "source": [
    "leabs"
   ]
  },
  {
   "cell_type": "code",
   "execution_count": 461,
   "metadata": {
    "collapsed": false
   },
   "outputs": [
    {
     "data": {
      "text/plain": [
       "2"
      ]
     },
     "execution_count": 461,
     "metadata": {},
     "output_type": "execute_result"
    }
   ],
   "source": [
    "lemid"
   ]
  },
  {
   "cell_type": "code",
   "execution_count": 462,
   "metadata": {
    "collapsed": false
   },
   "outputs": [
    {
     "data": {
      "text/plain": [
       "0"
      ]
     },
     "execution_count": 462,
     "metadata": {},
     "output_type": "execute_result"
    }
   ],
   "source": [
    "leints"
   ]
  },
  {
   "cell_type": "code",
   "execution_count": 441,
   "metadata": {
    "collapsed": true
   },
   "outputs": [],
   "source": [
    "colordict.update({'intense-num' : leints})"
   ]
  },
  {
   "cell_type": "code",
   "execution_count": 442,
   "metadata": {
    "collapsed": false
   },
   "outputs": [
    {
     "data": {
      "text/plain": [
       "['9', '5']"
      ]
     },
     "execution_count": 442,
     "metadata": {},
     "output_type": "execute_result"
    }
   ],
   "source": [
    "midtens"
   ]
  },
  {
   "cell_type": "code",
   "execution_count": 443,
   "metadata": {
    "collapsed": false
   },
   "outputs": [],
   "source": [
    "if leabs < leints:\n",
    "    print 'intense'\n",
    "    print leints\n",
    "    colordict.update({'generalfeel' : 'intense'})"
   ]
  },
  {
   "cell_type": "code",
   "execution_count": null,
   "metadata": {
    "collapsed": true
   },
   "outputs": [],
   "source": []
  },
  {
   "cell_type": "code",
   "execution_count": 444,
   "metadata": {
    "collapsed": false
   },
   "outputs": [
    {
     "name": "stdout",
     "output_type": "stream",
     "text": [
      "absense\n",
      "2\n"
     ]
    }
   ],
   "source": [
    "if leabs > leints:\n",
    "    print 'absense'\n",
    "    print leabs\n",
    "    colordict.update({'generalfeel' : 'absense'})"
   ]
  },
  {
   "cell_type": "code",
   "execution_count": 453,
   "metadata": {
    "collapsed": false
   },
   "outputs": [
    {
     "data": {
      "text/plain": [
       "{'absens-num': 2,\n",
       " 'description': None,\n",
       " 'ftitle': 'moose-fur',\n",
       " 'generalfeel': 'absense',\n",
       " 'hex': '#494035',\n",
       " 'intense-num': 0,\n",
       " 'locurl': '/home/wcmckee/colortest/Moose-Fur.png',\n",
       " 'midsens-num': 2,\n",
       " 'title': 'Moose Fur'}"
      ]
     },
     "execution_count": 453,
     "metadata": {},
     "output_type": "execute_result"
    }
   ],
   "source": [
    "colordict"
   ]
  },
  {
   "cell_type": "code",
   "execution_count": 454,
   "metadata": {
    "collapsed": false
   },
   "outputs": [],
   "source": [
    "jsnfil = json.dumps(colordict)"
   ]
  },
  {
   "cell_type": "code",
   "execution_count": 455,
   "metadata": {
    "collapsed": false
   },
   "outputs": [
    {
     "data": {
      "text/plain": [
       "'{\"midsens-num\": 2, \"description\": null, \"intense-num\": 0, \"title\": \"Moose Fur\", \"ftitle\": \"moose-fur\", \"locurl\": \"/home/wcmckee/colortest/Moose-Fur.png\", \"hex\": \"#494035\", \"absens-num\": 2, \"generalfeel\": \"absense\"}'"
      ]
     },
     "execution_count": 455,
     "metadata": {},
     "output_type": "execute_result"
    }
   ],
   "source": [
    "jsnfil"
   ]
  },
  {
   "cell_type": "code",
   "execution_count": 457,
   "metadata": {
    "collapsed": false
   },
   "outputs": [],
   "source": [
    "opjsf = open('/home/wcmckee/colortest/' + colordict['ftitle'] + '.json', 'w')\n",
    "opjsf.write(jsnfil)\n",
    "opjsf.close()"
   ]
  },
  {
   "cell_type": "code",
   "execution_count": 471,
   "metadata": {
    "collapsed": true
   },
   "outputs": [],
   "source": [
    "#prehost = '192.168.1.'\n",
    "#lisofip = []"
   ]
  },
  {
   "cell_type": "code",
   "execution_count": null,
   "metadata": {
    "collapsed": true
   },
   "outputs": [],
   "source": [
    "#These are all the ip addresses i want to dish out.\n",
    "#address is in a file and when assigned to a new\n",
    "#hostmachine, the address is removed. \n",
    "\n",
    "#Lets do it now. "
   ]
  },
  {
   "cell_type": "code",
   "execution_count": 494,
   "metadata": {
    "collapsed": false
   },
   "outputs": [],
   "source": [
    "#opipfza = open('/home/wcmckee/colortest/freeip.txt', 'w')\n",
    "#opipfza.write(str(lisofip))"
   ]
  },
  {
   "cell_type": "code",
   "execution_count": null,
   "metadata": {
    "collapsed": true
   },
   "outputs": [],
   "source": []
  },
  {
   "cell_type": "code",
   "execution_count": 495,
   "metadata": {
    "collapsed": false
   },
   "outputs": [
    {
     "name": "stdout",
     "output_type": "stream",
     "text": [
      "192.168.1.130\n",
      "192.168.1.131\n",
      "192.168.1.132\n",
      "192.168.1.133\n",
      "192.168.1.134\n",
      "192.168.1.135\n",
      "192.168.1.136\n",
      "192.168.1.137\n",
      "192.168.1.138\n",
      "192.168.1.139\n",
      "192.168.1.140\n",
      "192.168.1.141\n",
      "192.168.1.142\n",
      "192.168.1.143\n",
      "192.168.1.144\n",
      "192.168.1.145\n",
      "192.168.1.146\n",
      "192.168.1.147\n",
      "192.168.1.148\n",
      "192.168.1.149\n",
      "192.168.1.150\n",
      "192.168.1.151\n",
      "192.168.1.152\n",
      "192.168.1.153\n",
      "192.168.1.154\n",
      "192.168.1.155\n",
      "192.168.1.156\n",
      "192.168.1.157\n",
      "192.168.1.158\n",
      "192.168.1.159\n",
      "192.168.1.160\n",
      "192.168.1.161\n",
      "192.168.1.162\n",
      "192.168.1.163\n",
      "192.168.1.164\n",
      "192.168.1.165\n",
      "192.168.1.166\n",
      "192.168.1.167\n",
      "192.168.1.168\n",
      "192.168.1.169\n",
      "192.168.1.170\n",
      "192.168.1.171\n",
      "192.168.1.172\n",
      "192.168.1.173\n",
      "192.168.1.174\n",
      "192.168.1.175\n",
      "192.168.1.176\n",
      "192.168.1.177\n",
      "192.168.1.178\n",
      "192.168.1.179\n",
      "192.168.1.130\n",
      "192.168.1.131\n",
      "192.168.1.132\n",
      "192.168.1.133\n",
      "192.168.1.134\n",
      "192.168.1.135\n",
      "192.168.1.136\n",
      "192.168.1.137\n",
      "192.168.1.138\n",
      "192.168.1.139\n",
      "192.168.1.140\n",
      "192.168.1.141\n",
      "192.168.1.142\n",
      "192.168.1.143\n",
      "192.168.1.144\n",
      "192.168.1.145\n",
      "192.168.1.146\n",
      "192.168.1.147\n",
      "192.168.1.148\n",
      "192.168.1.149\n",
      "192.168.1.150\n",
      "192.168.1.151\n",
      "192.168.1.152\n",
      "192.168.1.153\n",
      "192.168.1.154\n",
      "192.168.1.155\n",
      "192.168.1.156\n",
      "192.168.1.157\n",
      "192.168.1.158\n",
      "192.168.1.159\n",
      "192.168.1.160\n",
      "192.168.1.161\n",
      "192.168.1.162\n",
      "192.168.1.163\n",
      "192.168.1.164\n",
      "192.168.1.165\n",
      "192.168.1.166\n",
      "192.168.1.167\n",
      "192.168.1.168\n",
      "192.168.1.169\n",
      "192.168.1.170\n",
      "192.168.1.171\n",
      "192.168.1.172\n",
      "192.168.1.173\n",
      "192.168.1.174\n",
      "192.168.1.175\n",
      "192.168.1.176\n",
      "192.168.1.177\n",
      "192.168.1.178\n",
      "192.168.1.179\n"
     ]
    }
   ],
   "source": [
    "#for lispo in lisofip:\n",
    "#    print lispo\n",
    "#    opipfza.write(str(lispo))\n",
    "#    opipfza.write('\\n')"
   ]
  },
  {
   "cell_type": "code",
   "execution_count": 496,
   "metadata": {
    "collapsed": true
   },
   "outputs": [],
   "source": [
    "#opipfza.close()"
   ]
  },
  {
   "cell_type": "code",
   "execution_count": 497,
   "metadata": {
    "collapsed": false
   },
   "outputs": [
    {
     "name": "stdout",
     "output_type": "stream",
     "text": [
      "192.168.1.130\n",
      "192.168.1.131\n",
      "192.168.1.132\n",
      "192.168.1.133\n",
      "192.168.1.134\n",
      "192.168.1.135\n",
      "192.168.1.136\n",
      "192.168.1.137\n",
      "192.168.1.138\n",
      "192.168.1.139\n",
      "192.168.1.140\n",
      "192.168.1.141\n",
      "192.168.1.142\n",
      "192.168.1.143\n",
      "192.168.1.144\n",
      "192.168.1.145\n",
      "192.168.1.146\n",
      "192.168.1.147\n",
      "192.168.1.148\n",
      "192.168.1.149\n",
      "192.168.1.150\n",
      "192.168.1.151\n",
      "192.168.1.152\n",
      "192.168.1.153\n",
      "192.168.1.154\n",
      "192.168.1.155\n",
      "192.168.1.156\n",
      "192.168.1.157\n",
      "192.168.1.158\n",
      "192.168.1.159\n",
      "192.168.1.160\n",
      "192.168.1.161\n",
      "192.168.1.162\n",
      "192.168.1.163\n",
      "192.168.1.164\n",
      "192.168.1.165\n",
      "192.168.1.166\n",
      "192.168.1.167\n",
      "192.168.1.168\n",
      "192.168.1.169\n",
      "192.168.1.170\n",
      "192.168.1.171\n",
      "192.168.1.172\n",
      "192.168.1.173\n",
      "192.168.1.174\n",
      "192.168.1.175\n",
      "192.168.1.176\n",
      "192.168.1.177\n",
      "192.168.1.178\n",
      "192.168.1.179\n"
     ]
    }
   ],
   "source": [
    "#for hosips in range(130,180):\n",
    "#    print prehost + str(hosips)\n",
    "#    lisofip.append(prehost + str(hosips))"
   ]
  },
  {
   "cell_type": "code",
   "execution_count": null,
   "metadata": {
    "collapsed": true
   },
   "outputs": [],
   "source": []
  },
  {
   "cell_type": "markdown",
   "metadata": {},
   "source": [
    "lookup hex code and tell me what color it is"
   ]
  },
  {
   "cell_type": "code",
   "execution_count": 4,
   "metadata": {
    "collapsed": false
   },
   "outputs": [
    {
     "data": {
      "text/plain": [
       "65280"
      ]
     },
     "execution_count": 4,
     "metadata": {},
     "output_type": "execute_result"
    }
   ],
   "source": [
    "#Fetches home dir from local server backup.\n",
    "#This is the backup pi. \n",
    "\n",
    "#os.system('rsync -azP wcmckee@192.168.1.8:/home/ /home/')\n"
>>>>>>> 33339176764b46364df5f23a3c832970688bf476
   ]
  },
  {
   "cell_type": "code",
   "execution_count": null,
   "metadata": {
    "collapsed": true
   },
   "outputs": [],
   "source": [
<<<<<<< HEAD
    "os.chdir('/home/wcmckee/ipython/')"
=======
    "#os.chdir('/home/wcmckee/ipython/')"
>>>>>>> 33339176764b46364df5f23a3c832970688bf476
   ]
  },
  {
   "cell_type": "code",
   "execution_count": null,
   "metadata": {
    "collapsed": true
   },
   "outputs": [],
   "source": [
<<<<<<< HEAD
    "os.system('sudo python setup.py install')"
=======
    "#s.system('sudo python setup.py install')"
>>>>>>> 33339176764b46364df5f23a3c832970688bf476
   ]
  }
 ],
 "metadata": {
  "kernelspec": {
   "display_name": "Python 2",
<<<<<<< HEAD
=======
   "language": "python",
>>>>>>> 33339176764b46364df5f23a3c832970688bf476
   "name": "python2"
  },
  "language_info": {
   "codemirror_mode": {
    "name": "ipython",
    "version": 2
   },
   "file_extension": ".py",
   "mimetype": "text/x-python",
   "name": "python",
   "nbconvert_exporter": "python",
   "pygments_lexer": "ipython2",
<<<<<<< HEAD
   "version": "2.7.9"
=======
   "version": "2.7.3"
>>>>>>> 33339176764b46364df5f23a3c832970688bf476
  }
 },
 "nbformat": 4,
 "nbformat_minor": 0
}
