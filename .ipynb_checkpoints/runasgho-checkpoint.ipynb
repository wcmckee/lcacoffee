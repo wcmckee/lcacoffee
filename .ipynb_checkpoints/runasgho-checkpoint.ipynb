{
 "cells": [
  {
   "cell_type": "markdown",
   "metadata": {},
   "source": [
    "script that runs hostname creation and ip address"
   ]
  },
  {
   "cell_type": "code",
   "execution_count": 15,
   "metadata": {
    "collapsed": true
   },
   "outputs": [],
   "source": [
    "import os\n",
    "import json"
   ]
  },
  {
   "cell_type": "code",
   "execution_count": 4,
   "metadata": {
    "collapsed": false
   },
   "outputs": [],
   "source": [
    "for i in range(10):\n",
    "    os.system('python /home/wcmckee/github/lcacoffee/setupraspi.py')"
   ]
  },
  {
   "cell_type": "code",
   "execution_count": 5,
   "metadata": {
    "collapsed": true
   },
   "outputs": [],
   "source": [
    "for i in range(10):\n",
    "    os.system('python /home/wcmckee/github/lcacoffee/hostassign.py')"
   ]
  },
  {
   "cell_type": "code",
   "execution_count": 3,
   "metadata": {
    "collapsed": false
   },
   "outputs": [],
   "source": [
    "asignlis = os.listdir('/home/wcmckee/colortest/assignedhosts/')"
   ]
  },
  {
   "cell_type": "code",
   "execution_count": 4,
   "metadata": {
    "collapsed": false
   },
   "outputs": [
    {
     "data": {
      "text/plain": [
       "['earth-first.json',\n",
       " 'and-i-was-right.json',\n",
       " 'sun-lazer.json',\n",
       " 'a21de4.json',\n",
       " 'farm-fresh-air.json',\n",
       " 'open-doors.json',\n",
       " '3c3abe.json',\n",
       " 'a2b1bb.json',\n",
       " 'sandwashed.json',\n",
       " 'hands.org.json',\n",
       " 'destroyed-my-life.json',\n",
       " 'greeny.json',\n",
       " 'kailiris.json',\n",
       " 'bub-green.json',\n",
       " 'lilacy.json',\n",
       " 'deep-thoughts.json',\n",
       " 'sminted.json',\n",
       " 'fire-in-the-rain.json',\n",
       " 'lake-moss.json',\n",
       " 'my-style-blue.json',\n",
       " 'skin-surfing.json',\n",
       " 'emerald-home.json']"
      ]
     },
     "execution_count": 4,
     "metadata": {},
     "output_type": "execute_result"
    }
   ],
   "source": [
    "asignlis"
   ]
  },
  {
   "cell_type": "code",
   "execution_count": 10,
   "metadata": {
    "collapsed": true
   },
   "outputs": [],
   "source": [
    "jsdata = []"
   ]
  },
  {
   "cell_type": "code",
   "execution_count": 11,
   "metadata": {
    "collapsed": false
   },
   "outputs": [
    {
     "name": "stdout",
     "output_type": "stream",
     "text": [
      "{\"locurl\": \"/home/wcmckee/colortest/earth-first.png\", \"description\": null, \"intense-num\": 2, \"title\": \"earth first\", \"ftitle\": \"earth-first\", \"midsens-num\": 4, \"hex\": \"#96ac55\", \"absens-num\": 2, \"ipaddress\": \"        192.168.1.138\"}\n",
      "{\"locurl\": \"/home/wcmckee/colortest/and-i-was-right.png\", \"description\": null, \"intense-num\": 3, \"title\": \"and i was right\", \"ftitle\": \"and-i-was-right\", \"midsens-num\": 1, \"hex\": \"#b7a42c\", \"absens-num\": 2, \"generalfeel\": \"intense\", \"ipaddress\": \"                    192.168.1.150\"}\n",
      "{\"locurl\": \"/home/wcmckee/colortest/Sun-Lazer.png\", \"description\": null, \"intense-num\": 1, \"title\": \"Sun Lazer\", \"ftitle\": \"sun-lazer\", \"midsens-num\": 2, \"hex\": \"#e33954\", \"absens-num\": 4, \"generalfeel\": \"absense\", \"ipaddress\": \"       192.168.1.137\"}\n",
      "{\"locurl\": \"/home/wcmckee/colortest/A21DE4.png\", \"description\": null, \"intense-num\": 3, \"title\": \"A21DE4\", \"ftitle\": \"a21de4\", \"midsens-num\": 0, \"hex\": \"#a21de4\", \"absens-num\": 3, \"ipaddress\": \"    192.168.1.134\"}\n",
      "{\"locurl\": \"/home/wcmckee/colortest/Farm-Fresh-Air.png\", \"description\": null, \"intense-num\": 4, \"title\": \"Farm Fresh Air\", \"ftitle\": \"farm-fresh-air\", \"midsens-num\": 0, \"hex\": \"#e1efb4\", \"absens-num\": 2, \"generalfeel\": \"intense\", \"ipaddress\": \"              192.168.1.144\"}\n",
      "{\"locurl\": \"/home/wcmckee/colortest/Open-Doors.png\", \"description\": null, \"intense-num\": 4, \"title\": \"Open Doors\", \"ftitle\": \"open-doors\", \"midsens-num\": 1, \"hex\": \"#7fe3be\", \"absens-num\": 1, \"generalfeel\": \"intense\", \"ipaddress\": \"     192.168.1.135\"}\n",
      "{\"locurl\": \"/home/wcmckee/colortest/3c3abe.png\", \"description\": null, \"intense-num\": 4, \"title\": \"3c3abe\", \"ftitle\": \"3c3abe\", \"midsens-num\": 0, \"hex\": \"#3c3abe\", \"absens-num\": 2, \"generalfeel\": \"intense\", \"ipaddress\": \"                  192.168.1.148\"}\n",
      "{\"locurl\": \"/home/wcmckee/colortest/a2b1bb.png\", \"description\": null, \"intense-num\": 4, \"title\": \"a2b1bb\", \"ftitle\": \"a2b1bb\", \"midsens-num\": 0, \"hex\": \"#a2b1bb\", \"absens-num\": 2, \"generalfeel\": \"intense\", \"ipaddress\": \"  192.168.1.132\"}\n",
      "{\"locurl\": \"/home/wcmckee/colortest/Sandwashed.png\", \"description\": null, \"intense-num\": 3, \"title\": \"Sandwashed\", \"ftitle\": \"sandwashed\", \"midsens-num\": 2, \"hex\": \"#e2d7c8\", \"absens-num\": 1, \"generalfeel\": \"intense\", \"ipaddress\": \"      192.168.1.136\"}\n",
      "{\"locurl\": \"/home/wcmckee/colortest/Hands.org.png\", \"description\": null, \"intense-num\": 2, \"title\": \"Hands.org\", \"ftitle\": \"hands.org\", \"midsens-num\": 3, \"hex\": \"#559fd3\", \"absens-num\": 3, \"generalfeel\": \"absense\", \"ipaddress\": \"                 192.168.1.147\"}\n",
      "{\"locurl\": \"/home/wcmckee/colortest/destroyed-my-life.png\", \"description\": null, \"intense-num\": 3, \"title\": \"destroyed my life\", \"ftitle\": \"destroyed-my-life\", \"midsens-num\": 0, \"hex\": \"#b302cf\", \"absens-num\": 3, \"ipaddress\": \"                     192.168.1.151\"}\n",
      "{\"locurl\": \"/home/wcmckee/colortest/greeny.png\", \"description\": null, \"intense-num\": 2, \"title\": \"greeny\", \"ftitle\": \"greeny\", \"midsens-num\": 3, \"hex\": \"#6a8e46\", \"absens-num\": 1, \"generalfeel\": \"intense\", \"ipaddress\": \"            192.168.1.142\"}\n",
      "{\"locurl\": \"/home/wcmckee/colortest/Kailiris.png\", \"description\": null, \"intense-num\": 1, \"title\": \"Kailiris\", \"ftitle\": \"kailiris\", \"midsens-num\": 3, \"hex\": \"#684d90\", \"absens-num\": 2, \"generalfeel\": \"absense\", \"ipaddress\": \"                   192.168.1.149\"}\n",
      "{\"locurl\": \"/home/wcmckee/colortest/Bub-Green.png\", \"description\": null, \"intense-num\": 2, \"title\": \"Bub Green\", \"ftitle\": \"bub-green\", \"midsens-num\": 2, \"hex\": \"#457c4d\", \"absens-num\": 3, \"generalfeel\": \"absense\", \"ipaddress\": \"   192.168.1.133\"}\n",
      "{\"locurl\": \"/home/wcmckee/colortest/lilacy.png\", \"description\": null, \"intense-num\": 4, \"title\": \"lilacy\", \"ftitle\": \"lilacy\", \"midsens-num\": 2, \"hex\": \"#d98fee\", \"absens-num\": 0, \"generalfeel\": \"intense\", \"ipaddress\": \"             192.168.1.143\"}\n",
      "{\"locurl\": \"/home/wcmckee/colortest/Deep-Thoughts.png\", \"description\": null, \"intense-num\": 1, \"title\": \"Deep Thoughts\", \"ftitle\": \"deep-thoughts\", \"midsens-num\": 1, \"hex\": \"#23292b\", \"absens-num\": 4, \"generalfeel\": \"absense\", \"ipaddress\": \"               192.168.1.145\"}\n",
      "{\"locurl\": \"/home/wcmckee/colortest/Sminted.png\", \"description\": null, \"intense-num\": 3, \"title\": \"Sminted\", \"ftitle\": \"sminted\", \"midsens-num\": 1, \"hex\": \"#b4f0b7\", \"absens-num\": 2, \"generalfeel\": \"intense\", \"ipaddress\": \"          192.168.1.140\"}\n",
      "{\"locurl\": \"/home/wcmckee/colortest/Fire-in-the-Rain.png\", \"description\": null, \"intense-num\": 1, \"title\": \"Fire in the Rain\", \"ftitle\": \"fire-in-the-rain\", \"midsens-num\": 2, \"hex\": \"#9f3700\", \"absens-num\": 3, \"generalfeel\": \"absense\", \"ipaddress\": \"192.168.1.130\"}\n",
      "{\"locurl\": \"/home/wcmckee/colortest/Lake-Moss.png\", \"description\": null, \"intense-num\": 3, \"title\": \"Lake Moss\", \"ftitle\": \"lake-moss\", \"midsens-num\": 3, \"hex\": \"#a5ca68\", \"absens-num\": 1, \"generalfeel\": \"intense\", \"ipaddress\": \" 192.168.1.131\"}\n",
      "{\"locurl\": \"/home/wcmckee/colortest/My-Style-Blue.png\", \"description\": null, \"intense-num\": 2, \"title\": \"My Style Blue\", \"ftitle\": \"my-style-blue\", \"midsens-num\": 2, \"hex\": \"#227ce8\", \"absens-num\": 2, \"ipaddress\": \"         192.168.1.139\"}\n",
      "{\"locurl\": \"/home/wcmckee/colortest/skin-surfing.png\", \"description\": null, \"intense-num\": 1, \"title\": \"skin surfing\", \"ftitle\": \"skin-surfing\", \"midsens-num\": 4, \"hex\": \"#8d5645\", \"absens-num\": 3, \"generalfeel\": \"absense\", \"ipaddress\": \"                192.168.1.146\"}\n",
      "{\"locurl\": \"/home/wcmckee/colortest/Emerald-Home.png\", \"description\": null, \"intense-num\": 1, \"title\": \"Emerald Home\", \"ftitle\": \"emerald-home\", \"midsens-num\": 3, \"hex\": \"#186d53\", \"absens-num\": 3, \"generalfeel\": \"absense\", \"ipaddress\": \"           192.168.1.141\"}\n"
     ]
    }
   ],
   "source": [
    "for aslz in asignlis:\n",
    "    #print aslz\n",
    "    opjaz = open('/home/wcmckee/colortest/assignedhosts/' + aslz, 'r')\n",
    "    \n",
    "    opreza = opjaz.read()\n",
    "    print opreza\n",
    "    jsdata.append(opreza)"
   ]
  },
  {
   "cell_type": "code",
   "execution_count": 27,
   "metadata": {
    "collapsed": false
   },
   "outputs": [],
   "source": [
    "totipa = len(jsdata)"
   ]
  },
  {
   "cell_type": "code",
   "execution_count": 25,
   "metadata": {
    "collapsed": false
   },
   "outputs": [
    {
     "name": "stdout",
     "output_type": "stream",
     "text": [
      "{\"locurl\": \"/home/wcmckee/colortest/earth-first.png\", \"description\": null, \"intense-num\": 2, \"title\": \"earth first\", \"ftitle\": \"earth-first\", \"midsens-num\": 4, \"hex\": \"#96ac55\", \"absens-num\": 2, \"ipaddress\": \"        192.168.1.138\"}\n",
      "{\"locurl\": \"/home/wcmckee/colortest/and-i-was-right.png\", \"description\": null, \"intense-num\": 3, \"title\": \"and i was right\", \"ftitle\": \"and-i-was-right\", \"midsens-num\": 1, \"hex\": \"#b7a42c\", \"absens-num\": 2, \"generalfeel\": \"intense\", \"ipaddress\": \"                    192.168.1.150\"}\n",
      "{\"locurl\": \"/home/wcmckee/colortest/Sun-Lazer.png\", \"description\": null, \"intense-num\": 1, \"title\": \"Sun Lazer\", \"ftitle\": \"sun-lazer\", \"midsens-num\": 2, \"hex\": \"#e33954\", \"absens-num\": 4, \"generalfeel\": \"absense\", \"ipaddress\": \"       192.168.1.137\"}\n",
      "{\"locurl\": \"/home/wcmckee/colortest/A21DE4.png\", \"description\": null, \"intense-num\": 3, \"title\": \"A21DE4\", \"ftitle\": \"a21de4\", \"midsens-num\": 0, \"hex\": \"#a21de4\", \"absens-num\": 3, \"ipaddress\": \"    192.168.1.134\"}\n",
      "{\"locurl\": \"/home/wcmckee/colortest/Farm-Fresh-Air.png\", \"description\": null, \"intense-num\": 4, \"title\": \"Farm Fresh Air\", \"ftitle\": \"farm-fresh-air\", \"midsens-num\": 0, \"hex\": \"#e1efb4\", \"absens-num\": 2, \"generalfeel\": \"intense\", \"ipaddress\": \"              192.168.1.144\"}\n",
      "{\"locurl\": \"/home/wcmckee/colortest/Open-Doors.png\", \"description\": null, \"intense-num\": 4, \"title\": \"Open Doors\", \"ftitle\": \"open-doors\", \"midsens-num\": 1, \"hex\": \"#7fe3be\", \"absens-num\": 1, \"generalfeel\": \"intense\", \"ipaddress\": \"     192.168.1.135\"}\n",
      "{\"locurl\": \"/home/wcmckee/colortest/3c3abe.png\", \"description\": null, \"intense-num\": 4, \"title\": \"3c3abe\", \"ftitle\": \"3c3abe\", \"midsens-num\": 0, \"hex\": \"#3c3abe\", \"absens-num\": 2, \"generalfeel\": \"intense\", \"ipaddress\": \"                  192.168.1.148\"}\n",
      "{\"locurl\": \"/home/wcmckee/colortest/a2b1bb.png\", \"description\": null, \"intense-num\": 4, \"title\": \"a2b1bb\", \"ftitle\": \"a2b1bb\", \"midsens-num\": 0, \"hex\": \"#a2b1bb\", \"absens-num\": 2, \"generalfeel\": \"intense\", \"ipaddress\": \"  192.168.1.132\"}\n",
      "{\"locurl\": \"/home/wcmckee/colortest/Sandwashed.png\", \"description\": null, \"intense-num\": 3, \"title\": \"Sandwashed\", \"ftitle\": \"sandwashed\", \"midsens-num\": 2, \"hex\": \"#e2d7c8\", \"absens-num\": 1, \"generalfeel\": \"intense\", \"ipaddress\": \"      192.168.1.136\"}\n",
      "{\"locurl\": \"/home/wcmckee/colortest/Hands.org.png\", \"description\": null, \"intense-num\": 2, \"title\": \"Hands.org\", \"ftitle\": \"hands.org\", \"midsens-num\": 3, \"hex\": \"#559fd3\", \"absens-num\": 3, \"generalfeel\": \"absense\", \"ipaddress\": \"                 192.168.1.147\"}\n",
      "{\"locurl\": \"/home/wcmckee/colortest/destroyed-my-life.png\", \"description\": null, \"intense-num\": 3, \"title\": \"destroyed my life\", \"ftitle\": \"destroyed-my-life\", \"midsens-num\": 0, \"hex\": \"#b302cf\", \"absens-num\": 3, \"ipaddress\": \"                     192.168.1.151\"}\n",
      "{\"locurl\": \"/home/wcmckee/colortest/greeny.png\", \"description\": null, \"intense-num\": 2, \"title\": \"greeny\", \"ftitle\": \"greeny\", \"midsens-num\": 3, \"hex\": \"#6a8e46\", \"absens-num\": 1, \"generalfeel\": \"intense\", \"ipaddress\": \"            192.168.1.142\"}\n",
      "{\"locurl\": \"/home/wcmckee/colortest/Kailiris.png\", \"description\": null, \"intense-num\": 1, \"title\": \"Kailiris\", \"ftitle\": \"kailiris\", \"midsens-num\": 3, \"hex\": \"#684d90\", \"absens-num\": 2, \"generalfeel\": \"absense\", \"ipaddress\": \"                   192.168.1.149\"}\n",
      "{\"locurl\": \"/home/wcmckee/colortest/Bub-Green.png\", \"description\": null, \"intense-num\": 2, \"title\": \"Bub Green\", \"ftitle\": \"bub-green\", \"midsens-num\": 2, \"hex\": \"#457c4d\", \"absens-num\": 3, \"generalfeel\": \"absense\", \"ipaddress\": \"   192.168.1.133\"}\n",
      "{\"locurl\": \"/home/wcmckee/colortest/lilacy.png\", \"description\": null, \"intense-num\": 4, \"title\": \"lilacy\", \"ftitle\": \"lilacy\", \"midsens-num\": 2, \"hex\": \"#d98fee\", \"absens-num\": 0, \"generalfeel\": \"intense\", \"ipaddress\": \"             192.168.1.143\"}\n",
      "{\"locurl\": \"/home/wcmckee/colortest/Deep-Thoughts.png\", \"description\": null, \"intense-num\": 1, \"title\": \"Deep Thoughts\", \"ftitle\": \"deep-thoughts\", \"midsens-num\": 1, \"hex\": \"#23292b\", \"absens-num\": 4, \"generalfeel\": \"absense\", \"ipaddress\": \"               192.168.1.145\"}\n",
      "{\"locurl\": \"/home/wcmckee/colortest/Sminted.png\", \"description\": null, \"intense-num\": 3, \"title\": \"Sminted\", \"ftitle\": \"sminted\", \"midsens-num\": 1, \"hex\": \"#b4f0b7\", \"absens-num\": 2, \"generalfeel\": \"intense\", \"ipaddress\": \"          192.168.1.140\"}\n",
      "{\"locurl\": \"/home/wcmckee/colortest/Fire-in-the-Rain.png\", \"description\": null, \"intense-num\": 1, \"title\": \"Fire in the Rain\", \"ftitle\": \"fire-in-the-rain\", \"midsens-num\": 2, \"hex\": \"#9f3700\", \"absens-num\": 3, \"generalfeel\": \"absense\", \"ipaddress\": \"192.168.1.130\"}\n",
      "{\"locurl\": \"/home/wcmckee/colortest/Lake-Moss.png\", \"description\": null, \"intense-num\": 3, \"title\": \"Lake Moss\", \"ftitle\": \"lake-moss\", \"midsens-num\": 3, \"hex\": \"#a5ca68\", \"absens-num\": 1, \"generalfeel\": \"intense\", \"ipaddress\": \" 192.168.1.131\"}\n",
      "{\"locurl\": \"/home/wcmckee/colortest/My-Style-Blue.png\", \"description\": null, \"intense-num\": 2, \"title\": \"My Style Blue\", \"ftitle\": \"my-style-blue\", \"midsens-num\": 2, \"hex\": \"#227ce8\", \"absens-num\": 2, \"ipaddress\": \"         192.168.1.139\"}\n",
      "{\"locurl\": \"/home/wcmckee/colortest/skin-surfing.png\", \"description\": null, \"intense-num\": 1, \"title\": \"skin surfing\", \"ftitle\": \"skin-surfing\", \"midsens-num\": 4, \"hex\": \"#8d5645\", \"absens-num\": 3, \"generalfeel\": \"absense\", \"ipaddress\": \"                192.168.1.146\"}\n",
      "{\"locurl\": \"/home/wcmckee/colortest/Emerald-Home.png\", \"description\": null, \"intense-num\": 1, \"title\": \"Emerald Home\", \"ftitle\": \"emerald-home\", \"midsens-num\": 3, \"hex\": \"#186d53\", \"absens-num\": 3, \"generalfeel\": \"absense\", \"ipaddress\": \"           192.168.1.141\"}\n"
     ]
    }
   ],
   "source": [
    "for jsd in jsdata:\n",
    "    print jsd"
   ]
  },
  {
   "cell_type": "code",
   "execution_count": 33,
   "metadata": {
    "collapsed": true
   },
   "outputs": [],
   "source": [
    "fidict = dict()"
   ]
  },
  {
   "cell_type": "code",
   "execution_count": 34,
   "metadata": {
    "collapsed": true
   },
   "outputs": [],
   "source": [
    "for aharz in range(0, totipa):\n",
    "    newjsz = json.loads(jsdata[aharz])\n",
    "    newjsz['ipaddress'].replace(' ', '')\n",
    "    newjsz['ftitle']\n",
    "    fidict.update({newjsz['ftitle']: newjsz['ipaddress'].replace(' ', '')})\n",
    "    "
   ]
  },
  {
   "cell_type": "code",
   "execution_count": 35,
   "metadata": {
    "collapsed": false
   },
   "outputs": [
    {
     "data": {
      "text/plain": [
       "{u'3c3abe': u'192.168.1.148',\n",
       " u'a21de4': u'192.168.1.134',\n",
       " u'a2b1bb': u'192.168.1.132',\n",
       " u'and-i-was-right': u'192.168.1.150',\n",
       " u'bub-green': u'192.168.1.133',\n",
       " u'deep-thoughts': u'192.168.1.145',\n",
       " u'destroyed-my-life': u'192.168.1.151',\n",
       " u'earth-first': u'192.168.1.138',\n",
       " u'emerald-home': u'192.168.1.141',\n",
       " u'farm-fresh-air': u'192.168.1.144',\n",
       " u'fire-in-the-rain': u'192.168.1.130',\n",
       " u'greeny': u'192.168.1.142',\n",
       " u'hands.org': u'192.168.1.147',\n",
       " u'kailiris': u'192.168.1.149',\n",
       " u'lake-moss': u'192.168.1.131',\n",
       " u'lilacy': u'192.168.1.143',\n",
       " u'my-style-blue': u'192.168.1.139',\n",
       " u'open-doors': u'192.168.1.135',\n",
       " u'sandwashed': u'192.168.1.136',\n",
       " u'skin-surfing': u'192.168.1.146',\n",
       " u'sminted': u'192.168.1.140',\n",
       " u'sun-lazer': u'192.168.1.137'}"
      ]
     },
     "execution_count": 35,
     "metadata": {},
     "output_type": "execute_result"
    }
   ],
   "source": [
    "fidict"
   ]
  },
  {
   "cell_type": "code",
   "execution_count": 17,
   "metadata": {
    "collapsed": false
   },
   "outputs": [],
   "source": [
    "newjsz = json.loads(jsdata[0])"
   ]
  },
  {
   "cell_type": "code",
   "execution_count": 20,
   "metadata": {
    "collapsed": false
   },
   "outputs": [
    {
     "data": {
      "text/plain": [
       "u'192.168.1.138'"
      ]
     },
     "execution_count": 20,
     "metadata": {},
     "output_type": "execute_result"
    }
   ],
   "source": [
    "newjsz['ipaddress'].replace(' ', '')"
   ]
  },
  {
   "cell_type": "code",
   "execution_count": 21,
   "metadata": {
    "collapsed": false
   },
   "outputs": [
    {
     "data": {
      "text/plain": [
       "u'earth-first'"
      ]
     },
     "execution_count": 21,
     "metadata": {},
     "output_type": "execute_result"
    }
   ],
   "source": [
    "newjsz['ftitle']"
   ]
  },
  {
   "cell_type": "code",
   "execution_count": 22,
   "metadata": {
    "collapsed": false
   },
   "outputs": [
    {
     "data": {
      "text/plain": [
       "u'#96ac55'"
      ]
     },
     "execution_count": 22,
     "metadata": {},
     "output_type": "execute_result"
    }
   ],
   "source": [
    "newjsz['hex']"
   ]
  },
  {
   "cell_type": "code",
   "execution_count": null,
   "metadata": {
    "collapsed": true
   },
   "outputs": [],
   "source": []
  }
 ],
 "metadata": {
  "kernelspec": {
   "display_name": "Python 2",
   "language": "python",
   "name": "python2"
  },
  "language_info": {
   "codemirror_mode": {
    "name": "ipython",
    "version": 2
   },
   "file_extension": ".py",
   "mimetype": "text/x-python",
   "name": "python",
   "nbconvert_exporter": "python",
   "pygments_lexer": "ipython2",
   "version": "2.7.3"
  }
 },
 "nbformat": 4,
 "nbformat_minor": 0
}
