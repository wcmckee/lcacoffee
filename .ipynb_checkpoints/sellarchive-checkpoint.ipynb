{
 "cells": [
  {
   "cell_type": "code",
   "execution_count": 1,
   "metadata": {
    "collapsed": true
   },
   "outputs": [],
   "source": [
    "#Dict is \n",
    "#item product in dict. 'product' : 'internet'\n",
    "#'count' : salesnum\n",
    "#'tags' : tags to add\n",
    "#Discount. add senior and under 18 prices.\n",
    "\n",
    "#Read arcive folders"
   ]
  },
  {
   "cell_type": "code",
   "execution_count": 2,
   "metadata": {
    "collapsed": true
   },
   "outputs": [],
   "source": [
    "import os\n",
    "\n",
    "import dominate\n",
    "\n",
    "from dominate.tags import * "
   ]
  },
  {
   "cell_type": "code",
   "execution_count": 3,
   "metadata": {
    "collapsed": false
   },
   "outputs": [],
   "source": [
    "rarch = os.listdir('/home/wcmckee/sellcoffee/archive/')"
   ]
  },
  {
   "cell_type": "code",
   "execution_count": 4,
   "metadata": {
    "collapsed": false
   },
   "outputs": [
    {
     "data": {
      "text/plain": [
       "['2015-03-03-032951.json',\n",
       " '2015-03-03-033840.json',\n",
       " '2015-03-03-033001.json',\n",
       " '2015-03-03-033017.json',\n",
       " '2015-03-03-033847.json',\n",
       " '2015-03-03-033007.json']"
      ]
     },
     "execution_count": 4,
     "metadata": {},
     "output_type": "execute_result"
    }
   ],
   "source": [
    "rarch"
   ]
  },
  {
   "cell_type": "code",
   "execution_count": 5,
   "metadata": {
    "collapsed": true
   },
   "outputs": [],
   "source": [
    "nevdict = dict()"
   ]
  },
  {
   "cell_type": "code",
   "execution_count": 13,
   "metadata": {
    "collapsed": false
   },
   "outputs": [],
   "source": [
    "#nevdict.update({"
   ]
  },
  {
   "cell_type": "code",
   "execution_count": 14,
   "metadata": {
    "collapsed": true
   },
   "outputs": [],
   "source": [
    "import json"
   ]
  },
  {
   "cell_type": "code",
   "execution_count": null,
   "metadata": {
    "collapsed": true
   },
   "outputs": [],
   "source": [
    "json.loads(rejd)"
   ]
  },
  {
   "cell_type": "code",
   "execution_count": 21,
   "metadata": {
    "collapsed": false
   },
   "outputs": [
    {
     "name": "stdout",
     "output_type": "stream",
     "text": [
      "debian\n",
      "3\n",
      "2015-03-03\n",
      "032951\n",
      "debian\n",
      "3\n",
      "2015-03-03\n",
      "033840\n",
      "portrait\n",
      "2\n",
      "2015-03-03\n",
      "033001\n",
      "portrait\n",
      "5\n",
      "2015-03-03\n",
      "033017\n",
      "portrait\n",
      "2\n",
      "2015-03-03\n",
      "033847\n",
      "debian\n",
      "1\n",
      "2015-03-03\n",
      "033007\n"
     ]
    }
   ],
   "source": [
    "for rac in rarch:\n",
    "    rejs = open('/home/wcmckee/sellcoffee/archive/' + rac, 'r')\n",
    "    #print rac\n",
    "    recd = rejs.read()\n",
    "    jrecd = json.loads(recd)\n",
    "    print jrecd['product']\n",
    "    print jrecd['amount']\n",
    "    print jrecd['date']\n",
    "    print jrecd['time']\n",
    "    \n",
    "    \n",
    "    \n",
    "    rejs.close()"
   ]
  },
  {
   "cell_type": "code",
   "execution_count": 19,
   "metadata": {
    "collapsed": false
   },
   "outputs": [
    {
     "data": {
      "text/plain": [
       "[u'date', u'product', u'amount', u'time']"
      ]
     },
     "execution_count": 19,
     "metadata": {},
     "output_type": "execute_result"
    }
   ],
   "source": [
    "jrecd.keys()"
   ]
  },
  {
   "cell_type": "code",
   "execution_count": 20,
   "metadata": {
    "collapsed": false
   },
   "outputs": [
    {
     "data": {
      "text/plain": [
       "[u'2015-03-03', u'debian', 1, u'033007']"
      ]
     },
     "execution_count": 20,
     "metadata": {},
     "output_type": "execute_result"
    }
   ],
   "source": [
    "jrecd.values()"
   ]
  },
  {
   "cell_type": "code",
   "execution_count": null,
   "metadata": {
    "collapsed": true
   },
   "outputs": [],
   "source": []
  },
  {
   "cell_type": "code",
   "execution_count": null,
   "metadata": {
    "collapsed": true
   },
   "outputs": [],
   "source": [
    "doc = dominate.document(title='Sales Archive')\n",
    "\n",
    "with doc.head:\n",
    "    link(rel='stylesheet', href='style.css')\n",
    "    script(type ='text/javascript', src='script.js')\n",
    "    #str(str2)\n",
    "    \n",
    "    with div():\n",
    "        attr(cls='header')\n",
    "        h1('Sales Archive')\n",
    "        p(img('/imgs/getsdrawn-bw.png', src='/imgs/getsdrawn-bw.png'))\n",
    "        #p(img('imgs/15/01/02/ReptileLover82-reference.png', src= 'imgs/15/01/02/ReptileLover82-reference.png'))\n",
    "        h1('Date ', str(artes.datetime))\n",
    "        #p(panz)\n",
    "        #p(bodycom)\n",
    "    \n",
    "    \n",
    "\n",
    "with doc:\n",
    "    with div(id='body').add(ol()):\n",
    "        for rac in rarch:\n",
    "            rejs = open('/home/wcmckee/sellcoffee/archive/' + rac, 'r')\n",
    "            #print rac\n",
    "            recd = rejs.read()\n",
    "            jrecd = json.loads(recd)\n",
    "            p(jrecd['product'])\n",
    "            p(jrecd['amount'])\n",
    "            p(jrecd['date'])\n",
    "            p(jrecd['time'])\n",
    "            rejs.close()\n",
    "        \n",
    "        #for flc in fulcom:\n",
    "            \n",
    "            #p(h1(flc.title))\n",
    "            #p(img(imlocdir, src= imlocdir))\n",
    "            #p(img(flc.url, src = flc.url))\n",
    "            #p(str(flc.author))\n",
    "            #res = requests.get(flc.url, stream=True)\n",
    "            #with open(str(flc.author) + '-' + str(artes.date()) + '-reference.png', 'wb') as outfil:\n",
    "            #    shutil.copyfileobj(res.raw, outfil)\n",
    "            #    del res\n",
    "                \n",
    "                \n",
    "            \n",
    "        #for flcz in flc.comments:\n",
    "            #p(flcz.body)\n",
    "        \n",
    "        \n",
    "        #for rdz in reliz:\n",
    "            #h1(rdz.title)\n",
    "            #a(rdz.url)\n",
    "            #p(img(rdz, src='%s' % rdz))\n",
    "            #print rdz\n",
    "            #p(img(rdz, src = rdz))\n",
    "            #p(rdz)\n",
    "\n",
    "\n",
    "                \n",
    "            #print rdz.url\n",
    "            #if '.jpg' in rdz.url:\n",
    "            #    img(rdz.urlz)\n",
    "            #else:\n",
    "            #    a(rdz.urlz)\n",
    "            #h1(str(rdz.author))\n",
    "            \n",
    "            #li(img(i.lower(), src='%s' % i))\n",
    "\n",
    "    with div():\n",
    "        attr(cls='body')\n",
    "        p('GotDrawn is open source')\n",
    "        a('https://github.com/getsdrawn/getsdrawndotcom')\n",
    "        a('https://reddit.com/r/redditgetsdrawn')\n",
    "\n",
    "#print doc"
   ]
  },
  {
   "cell_type": "code",
   "execution_count": null,
   "metadata": {
    "collapsed": true
   },
   "outputs": [],
   "source": [
    "docre = doc.render()\n",
    "#s = docre.decode('ascii', 'ignore')\n",
    "yourstring = docre.encode('ascii', 'ignore').decode('ascii')\n",
    "indfil = ('/home/wcmckee/gotdrawn/index.html')\n",
    "mkind = open(indfil, 'w')\n",
    "mkind.write(yourstring)\n",
    "mkind.close()"
   ]
  }
 ],
 "metadata": {
  "kernelspec": {
   "display_name": "Python 2",
   "name": "python2"
  },
  "language_info": {
   "codemirror_mode": {
    "name": "ipython",
    "version": 2
   },
   "file_extension": ".py",
   "mimetype": "text/x-python",
   "name": "python",
   "nbconvert_exporter": "python",
   "pygments_lexer": "ipython2",
   "version": "2.7.8"
  }
 },
 "nbformat": 4,
 "nbformat_minor": 0
}
