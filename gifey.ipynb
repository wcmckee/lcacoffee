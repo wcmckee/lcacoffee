{
 "cells": [
  {
   "cell_type": "markdown",
   "metadata": {},
   "source": [
    "gifey\n",
    "\n",
    "Downloads gifs based on a keyword from gifphy to a folder and serve them via a web server. \n",
    "\n",
    "Find keywords from where?\n",
    "\n",
    "Creative Commons Keywords - add the gif back into the posts.\n",
    "\n",
    "Intergrate Nikola. Start saving the gif files in galleries folder. Why doesn't galleries folder render gif files? \n",
    "\n",
    "Create nikola post that has the title (keyword) and post contents is the gif url (galleries - keyword)\n",
    "\n"
   ]
  },
  {
   "cell_type": "code",
   "execution_count": 1,
   "metadata": {
    "collapsed": true
   },
   "outputs": [],
   "source": [
    "import os"
   ]
  },
  {
   "cell_type": "code",
   "execution_count": 2,
   "metadata": {
    "collapsed": false
   },
   "outputs": [],
   "source": [
    "import requests\n",
    "import json\n",
    "import shutil\n",
    "import dominate\n",
    "from time import gmtime, strftime\n",
    "\n",
    "import getpass\n",
    "\n",
    "from walkdir import filtered_walk, dir_paths, all_paths, file_paths"
   ]
  },
  {
   "cell_type": "code",
   "execution_count": 3,
   "metadata": {
    "collapsed": true
   },
   "outputs": [],
   "source": [
    "getusr = getpass.getuser()"
   ]
  },
  {
   "cell_type": "code",
   "execution_count": 4,
   "metadata": {
    "collapsed": false
   },
   "outputs": [
    {
     "data": {
      "text/plain": [
       "'wcm'"
      ]
     },
     "execution_count": 4,
     "metadata": {},
     "output_type": "execute_result"
    }
   ],
   "source": [
    "getusr"
   ]
  },
  {
   "cell_type": "code",
   "execution_count": 17,
   "metadata": {
    "collapsed": false
   },
   "outputs": [
    {
     "name": "stdout",
     "output_type": "stream",
     "text": [
      "Keyword: draw\n"
     ]
    }
   ],
   "source": [
    "keyword = input('Keyword: ')"
   ]
  },
  {
   "cell_type": "code",
   "execution_count": 18,
   "metadata": {
    "collapsed": true
   },
   "outputs": [],
   "source": [
    "gifydir = ('/home/{}/gify/'.format(getusr))"
   ]
  },
  {
   "cell_type": "code",
   "execution_count": 19,
   "metadata": {
    "collapsed": false
   },
   "outputs": [],
   "source": [
    "gifdi = os.listdir('/home/{}/gify/posts'.format(getusr))"
   ]
  },
  {
   "cell_type": "code",
   "execution_count": 20,
   "metadata": {
    "collapsed": true
   },
   "outputs": [],
   "source": [
    "keywddir = ('/home/{}/gify/galleries/{}'.format(getusr, keyword))"
   ]
  },
  {
   "cell_type": "code",
   "execution_count": 21,
   "metadata": {
    "collapsed": false
   },
   "outputs": [
    {
     "name": "stdout",
     "output_type": "stream",
     "text": [
      "its false\n"
     ]
    }
   ],
   "source": [
    "if os.path.isdir(keywddir) == True:\n",
    "    print ('its true')\n",
    "else:\n",
    "    print ('its false')\n",
    "    os.mkdir(keywddir)"
   ]
  },
  {
   "cell_type": "code",
   "execution_count": 22,
   "metadata": {
    "collapsed": false
   },
   "outputs": [],
   "source": [
    "opwritj = requests.get('http://api.giphy.com/v1/gifs/search?q={}&api_key=dc6zaTOxFJmzC'.format(keyword))"
   ]
  },
  {
   "cell_type": "code",
   "execution_count": 23,
   "metadata": {
    "collapsed": false
   },
   "outputs": [],
   "source": [
    "wrijrd = opwritj.text"
   ]
  },
  {
   "cell_type": "code",
   "execution_count": 24,
   "metadata": {
    "collapsed": false
   },
   "outputs": [],
   "source": [
    "jswri = json.loads(wrijrd)"
   ]
  },
  {
   "cell_type": "code",
   "execution_count": 25,
   "metadata": {
    "collapsed": false
   },
   "outputs": [],
   "source": [
    "jswln = len(jswri['data'])"
   ]
  },
  {
   "cell_type": "code",
   "execution_count": 26,
   "metadata": {
    "collapsed": false
   },
   "outputs": [
    {
     "data": {
      "text/plain": [
       "25"
      ]
     },
     "execution_count": 26,
     "metadata": {},
     "output_type": "execute_result"
    }
   ],
   "source": [
    "jswln"
   ]
  },
  {
   "cell_type": "code",
   "execution_count": 27,
   "metadata": {
    "collapsed": false,
    "scrolled": true
   },
   "outputs": [
    {
     "name": "stdout",
     "output_type": "stream",
     "text": [
      "http://media2.giphy.com/media/xTiTnM6WqhU5bcOxXy/giphy.gif\n",
      "https://media.giphy.com/media/cL9XcvBhRSEpi/giphy-tumblr.gif\n",
      "https://media3.giphy.com/media/Xicr2vn680efC/giphy.gif\n",
      "https://media2.giphy.com/media/nRvbWvACVHu6s/giphy.gif\n",
      "https://media.giphy.com/media/10hUAQhlpEklSo/giphy-tumblr.gif\n",
      "https://media4.giphy.com/media/rZZSuYLPitqRG/giphy.gif\n",
      "http://media4.giphy.com/media/l46ChKeGsmsfE3Un6/giphy.gif\n",
      "https://media.giphy.com/media/EzXt0Iv86u3bq/giphy-tumblr.gif\n",
      "https://media0.giphy.com/media/12rsZFouPvPdKM/giphy.gif\n",
      "https://media3.giphy.com/media/btgxRPSVLSqHe/giphy.gif\n",
      "https://media1.giphy.com/media/cwYFxCHok1YcM/giphy.gif\n",
      "https://media3.giphy.com/media/TgKn0RoeGzha8/giphy.gif\n",
      "https://media.giphy.com/media/AMIDkjWJtF1gQ/giphy-tumblr.gif\n",
      "https://media4.giphy.com/media/dOkXDOIpHgECs/giphy.gif\n",
      "https://media2.giphy.com/media/6pVlDiwR4DSw0/giphy.gif\n",
      "https://media3.giphy.com/media/10ahySUoRTBwR2/giphy.gif\n",
      "https://media.giphy.com/media/nIMSRivhg5woU/giphy-tumblr.gif\n",
      "https://media4.giphy.com/media/lg5L8dh5ZwJ9K/giphy.gif\n",
      "https://media.giphy.com/media/kkFCSOW2sAuDS/giphy-tumblr.gif\n",
      "https://media.giphy.com/media/eWYJ9zDY2DJzG/giphy-tumblr.gif\n",
      "https://media2.giphy.com/media/ekgxVjoTyi13i/giphy.gif\n",
      "http://media.giphy.com/media/t1DyjJmSZwESY/giphy-tumblr.gif\n",
      "https://media.giphy.com/media/yWR98zWGXwSju/giphy-tumblr.gif\n",
      "https://media.giphy.com/media/rcZ6WfnvXSaD6/giphy-tumblr.gif\n",
      "https://media.giphy.com/media/gCkszc7lKaCQw/giphy-tumblr.gif\n"
     ]
    }
   ],
   "source": [
    "for jsw in range(0, jswln):\n",
    "    if '.gif' in jswri['data'][jsw]['images']['downsized']['url']:\n",
    "        print(jswri['data'][jsw]['images']['downsized']['url'])\n",
    "        response = requests.get((jswri['data'][jsw]['images']['downsized']['url']), stream=True)\n",
    "        with open(keywddir + '/' + str(jsw) + '.gif', 'wb') as out_file:\n",
    "            shutil.copyfileobj(response.raw, out_file)\n",
    "            del response"
   ]
  },
  {
   "cell_type": "code",
   "execution_count": 28,
   "metadata": {
    "collapsed": true
   },
   "outputs": [],
   "source": [
    "os.chdir(gifydir)"
   ]
  },
  {
   "cell_type": "code",
   "execution_count": 29,
   "metadata": {
    "collapsed": false
   },
   "outputs": [
    {
     "data": {
      "text/plain": [
       "0"
      ]
     },
     "execution_count": 29,
     "metadata": {},
     "output_type": "execute_result"
    }
   ],
   "source": [
    "os.system('nikola build')"
   ]
  },
  {
   "cell_type": "code",
   "execution_count": null,
   "metadata": {
    "collapsed": true
   },
   "outputs": [],
   "source": []
  }
 ],
 "metadata": {
  "kernelspec": {
   "display_name": "Python 3",
   "language": "python",
   "name": "python3"
  },
  "language_info": {
   "codemirror_mode": {
    "name": "ipython",
    "version": 3
   },
   "file_extension": ".py",
   "mimetype": "text/x-python",
   "name": "python",
   "nbconvert_exporter": "python",
   "pygments_lexer": "ipython3",
   "version": "3.4.2"
  }
 },
 "nbformat": 4,
 "nbformat_minor": 0
}
