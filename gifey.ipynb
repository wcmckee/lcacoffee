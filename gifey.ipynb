{
 "cells": [
  {
   "cell_type": "code",
   "execution_count": 1,
   "metadata": {
    "collapsed": true
   },
   "outputs": [],
   "source": [
    "import os"
   ]
  },
  {
   "cell_type": "code",
   "execution_count": 2,
   "metadata": {
    "collapsed": true
   },
   "outputs": [],
   "source": [
    "import requests\n",
    "import json\n",
    "import shutil\n",
    "import dominate\n",
    "from time import gmtime, strftime"
   ]
  },
  {
   "cell_type": "code",
   "execution_count": 3,
   "metadata": {
    "collapsed": false
   },
   "outputs": [
    {
     "name": "stdout",
     "output_type": "stream",
     "text": [
      "Keyword: linux\n"
     ]
    }
   ],
   "source": [
    "keyword = input('Keyword: ')"
   ]
  },
  {
   "cell_type": "code",
   "execution_count": 4,
   "metadata": {
    "collapsed": true
   },
   "outputs": [],
   "source": [
    "from dominate.tags import *"
   ]
  },
  {
   "cell_type": "code",
   "execution_count": 5,
   "metadata": {
    "collapsed": false
   },
   "outputs": [],
   "source": [
    "gifdi = os.listdir('/home/wcmckee/Downloads/gify/')"
   ]
  },
  {
   "cell_type": "code",
   "execution_count": null,
   "metadata": {
    "collapsed": true
   },
   "outputs": [],
   "source": []
  },
  {
   "cell_type": "code",
   "execution_count": 6,
   "metadata": {
    "collapsed": false
   },
   "outputs": [],
   "source": [
    "opwritj = requests.get('http://api.giphy.com/v1/gifs/search?q=' + keyword + '&api_key=dc6zaTOxFJmzC')"
   ]
  },
  {
   "cell_type": "code",
   "execution_count": null,
   "metadata": {
    "collapsed": true
   },
   "outputs": [],
   "source": []
  },
  {
   "cell_type": "code",
   "execution_count": 7,
   "metadata": {
    "collapsed": false
   },
   "outputs": [],
   "source": [
    "wrijrd = opwritj.text"
   ]
  },
  {
   "cell_type": "code",
   "execution_count": 8,
   "metadata": {
    "collapsed": false
   },
   "outputs": [],
   "source": [
    "jswri = json.loads(wrijrd)"
   ]
  },
  {
   "cell_type": "code",
   "execution_count": 9,
   "metadata": {
    "collapsed": false
   },
   "outputs": [],
   "source": [
    "jswln = len(jswri['data'])"
   ]
  },
  {
   "cell_type": "code",
   "execution_count": 10,
   "metadata": {
    "collapsed": false
   },
   "outputs": [
    {
     "data": {
      "text/plain": [
       "25"
      ]
     },
     "execution_count": 10,
     "metadata": {},
     "output_type": "execute_result"
    }
   ],
   "source": [
    "jswln"
   ]
  },
  {
   "cell_type": "code",
   "execution_count": 11,
   "metadata": {
    "collapsed": false,
    "scrolled": true
   },
   "outputs": [
    {
     "name": "stdout",
     "output_type": "stream",
     "text": [
      "http://media0.giphy.com/media/opmkK81PuaNAk/giphy.gif\n",
      "http://media1.giphy.com/media/hEP3uTY73zo3K/giphy.gif\n",
      "http://media0.giphy.com/media/hqoeloBWf1Fmw/giphy.gif\n",
      "http://media1.giphy.com/media/rRF4tgNDHgzwA/giphy.gif\n",
      "http://media.giphy.com/media/X8WkfLwaVQQZW/giphy-tumblr.gif\n",
      "http://media1.giphy.com/media/klxAuAfckE07e/giphy.gif\n",
      "http://media2.giphy.com/media/O0liZ65PljXLq/giphy.gif\n",
      "http://media2.giphy.com/media/GETDFtagbtwfm/giphy.gif\n",
      "http://media0.giphy.com/media/FW8E1bfV6xx8k/giphy.gif\n",
      "http://media4.giphy.com/media/13EXb0haHH2juM/giphy.gif\n",
      "http://media0.giphy.com/media/EQPnivF5rSDGo/giphy.gif\n",
      "http://media.giphy.com/media/xndHaRIcvge5y/giphy-tumblr.gif\n",
      "http://media0.giphy.com/media/jqHZiQEezIuac/giphy.gif\n",
      "http://media1.giphy.com/media/YzSXw1F1cJHP2/giphy.gif\n",
      "http://media1.giphy.com/media/AhLLgAQlyDFgQ/giphy.gif\n",
      "http://media1.giphy.com/media/12MJX7y7SMrqec/giphy.gif\n",
      "http://media3.giphy.com/media/dDwicM3uFUqfC/giphy.gif\n",
      "http://media0.giphy.com/media/6qvnHDPGiK59e/giphy.gif\n",
      "http://media0.giphy.com/media/vY9GIP99KJz9K/giphy.gif\n",
      "http://media0.giphy.com/media/10bFLWrEI1gEQU/giphy.gif\n",
      "http://media1.giphy.com/media/Ho5LScFTurkOI/giphy.gif\n",
      "http://media2.giphy.com/media/r01dfkKto6DxS/giphy.gif\n",
      "http://media.giphy.com/media/QMx34qsqgJ8iI/giphy-tumblr.gif\n",
      "http://media1.giphy.com/media/xjbpTkQ32UKdy/giphy.gif\n",
      "http://media4.giphy.com/media/AGjfNO6LeWQiA/giphy.gif\n"
     ]
    }
   ],
   "source": [
    "for jsw in range(0, jswln):\n",
    "    if '.gif' in jswri['data'][jsw]['images']['downsized']['url']:\n",
    "        print(jswri['data'][jsw]['images']['downsized']['url'])\n",
    "        response = requests.get((jswri['data'][jsw]['images']['downsized']['url']), stream=True)\n",
    "        with open('/home/wcmckee/Downloads/gify/'+ str(jsw) + '.gif', 'wb') as out_file:\n",
    "            shutil.copyfileobj(response.raw, out_file)\n",
    "            del response"
   ]
  },
  {
   "cell_type": "code",
   "execution_count": null,
   "metadata": {
    "collapsed": true
   },
   "outputs": [],
   "source": []
  },
  {
   "cell_type": "code",
   "execution_count": null,
   "metadata": {
    "collapsed": true
   },
   "outputs": [],
   "source": []
  },
  {
   "cell_type": "code",
   "execution_count": 12,
   "metadata": {
    "collapsed": false
   },
   "outputs": [],
   "source": [
    "gifdi = os.listdir('/home/wcmckee/Downloads/gify/')"
   ]
  },
  {
   "cell_type": "code",
   "execution_count": 13,
   "metadata": {
    "collapsed": false
   },
   "outputs": [
    {
     "data": {
      "text/plain": [
       "['7.gif',\n",
       " '15.gif',\n",
       " '5.gif',\n",
       " '11.gif',\n",
       " '12.gif',\n",
       " '6.gif',\n",
       " '3.gif',\n",
       " '19.gif',\n",
       " '16.gif',\n",
       " '9.gif',\n",
       " '0.gif',\n",
       " '8.gif',\n",
       " '4.gif',\n",
       " '23.gif',\n",
       " '13.gif',\n",
       " '17.gif',\n",
       " 'index.html',\n",
       " '2.gif',\n",
       " '22.gif',\n",
       " '1.gif',\n",
       " '20.gif',\n",
       " '24.gif',\n",
       " '21.gif',\n",
       " '18.gif',\n",
       " '10.gif',\n",
       " '14.gif']"
      ]
     },
     "execution_count": 13,
     "metadata": {},
     "output_type": "execute_result"
    }
   ],
   "source": [
    "gifdi"
   ]
  },
  {
   "cell_type": "code",
   "execution_count": null,
   "metadata": {
    "collapsed": true
   },
   "outputs": [],
   "source": []
  },
  {
   "cell_type": "code",
   "execution_count": null,
   "metadata": {
    "collapsed": true
   },
   "outputs": [],
   "source": []
  },
  {
   "cell_type": "code",
   "execution_count": 14,
   "metadata": {
    "collapsed": false
   },
   "outputs": [],
   "source": [
    "doc = dominate.document(title='gify')\n",
    "\n",
    "with doc.head:\n",
    "    link(rel='stylesheet', href='style.css')\n",
    "    script(type ='text/javascript', src='script.js')\n",
    "    #str(str2)\n",
    "    \n",
    "    with div():\n",
    "        attr(cls='header')\n",
    "        h1('Gify')\n",
    "        p(img('imgs/logo.svg', src='imgs/logo.svg'))\n",
    "        #p(img('imgs/15/01/02/ReptileLover82-reference.png', src= 'imgs/15/01/02/ReptileLover82-reference.png'))\n",
    "        h1('Updated ', strftime(\"%a, %d %b %Y %H:%M:%S +0000\", gmtime()))\n",
    "        #p(panz)\n",
    "    \n",
    "    \n",
    "\n",
    "with doc:\n",
    "    with div(id='body').add(ol()):\n",
    "        for rdz in gifdi:\n",
    "            #h1(rdz.title)\n",
    "            #a(rdz.url)\n",
    "            #p(img(rdz, src='%s' % rdz))\n",
    "            #print rdz\n",
    "            p(img(rdz, src = rdz))\n",
    "            p(rdz)\n",
    "\n",
    "\n",
    "                \n",
    "            #print rdz.url\n",
    "            #if '.jpg' in rdz.url:\n",
    "            #    img(rdz.urlz)\n",
    "            #else:\n",
    "            #    a(rdz.urlz)\n",
    "            #h1(str(rdz.author))\n",
    "            \n",
    "            #li(img(i.lower(), src='%s' % i))\n",
    "\n",
    "    with div():\n",
    "        attr(cls='body')\n",
    "        p('GetsDrawn is open source')\n",
    "        a('https://github.com/getsdrawn/getsdrawndotcom')\n",
    "        a('https://reddit.com/r/redditgetsdrawn')\n",
    "\n",
    "#print doc"
   ]
  },
  {
   "cell_type": "code",
   "execution_count": 15,
   "metadata": {
    "collapsed": false
   },
   "outputs": [
    {
     "name": "stdout",
     "output_type": "stream",
     "text": [
      "<!DOCTYPE html>\n",
      "<html>\n",
      "  <head>\n",
      "    <title>gify</title>\n",
      "    <link href=\"style.css\" rel=\"stylesheet\"><script src=\"script.js\" type=\"text/javascript\"></script>\n",
      "    <div class=\"header\">\n",
      "      <h1>Gify</h1>\n",
      "      <p>\n",
      "        <img src=\"imgs/logo.svg\">\n",
      "      </p>\n",
      "      <h1>Updated Fri, 18 Dec 2015 09:49:57 +0000</h1>\n",
      "    </div>\n",
      "  </head>\n",
      "  <body>\n",
      "    <div id=\"body\">\n",
      "      <ol>\n",
      "        <p>\n",
      "          <img src=\"7.gif\">\n",
      "        </p>\n",
      "        <p>7.gif</p>\n",
      "        <p>\n",
      "          <img src=\"15.gif\">\n",
      "        </p>\n",
      "        <p>15.gif</p>\n",
      "        <p>\n",
      "          <img src=\"5.gif\">\n",
      "        </p>\n",
      "        <p>5.gif</p>\n",
      "        <p>\n",
      "          <img src=\"11.gif\">\n",
      "        </p>\n",
      "        <p>11.gif</p>\n",
      "        <p>\n",
      "          <img src=\"12.gif\">\n",
      "        </p>\n",
      "        <p>12.gif</p>\n",
      "        <p>\n",
      "          <img src=\"6.gif\">\n",
      "        </p>\n",
      "        <p>6.gif</p>\n",
      "        <p>\n",
      "          <img src=\"3.gif\">\n",
      "        </p>\n",
      "        <p>3.gif</p>\n",
      "        <p>\n",
      "          <img src=\"19.gif\">\n",
      "        </p>\n",
      "        <p>19.gif</p>\n",
      "        <p>\n",
      "          <img src=\"16.gif\">\n",
      "        </p>\n",
      "        <p>16.gif</p>\n",
      "        <p>\n",
      "          <img src=\"9.gif\">\n",
      "        </p>\n",
      "        <p>9.gif</p>\n",
      "        <p>\n",
      "          <img src=\"0.gif\">\n",
      "        </p>\n",
      "        <p>0.gif</p>\n",
      "        <p>\n",
      "          <img src=\"8.gif\">\n",
      "        </p>\n",
      "        <p>8.gif</p>\n",
      "        <p>\n",
      "          <img src=\"4.gif\">\n",
      "        </p>\n",
      "        <p>4.gif</p>\n",
      "        <p>\n",
      "          <img src=\"23.gif\">\n",
      "        </p>\n",
      "        <p>23.gif</p>\n",
      "        <p>\n",
      "          <img src=\"13.gif\">\n",
      "        </p>\n",
      "        <p>13.gif</p>\n",
      "        <p>\n",
      "          <img src=\"17.gif\">\n",
      "        </p>\n",
      "        <p>17.gif</p>\n",
      "        <p>\n",
      "          <img src=\"index.html\">\n",
      "        </p>\n",
      "        <p>index.html</p>\n",
      "        <p>\n",
      "          <img src=\"2.gif\">\n",
      "        </p>\n",
      "        <p>2.gif</p>\n",
      "        <p>\n",
      "          <img src=\"22.gif\">\n",
      "        </p>\n",
      "        <p>22.gif</p>\n",
      "        <p>\n",
      "          <img src=\"1.gif\">\n",
      "        </p>\n",
      "        <p>1.gif</p>\n",
      "        <p>\n",
      "          <img src=\"20.gif\">\n",
      "        </p>\n",
      "        <p>20.gif</p>\n",
      "        <p>\n",
      "          <img src=\"24.gif\">\n",
      "        </p>\n",
      "        <p>24.gif</p>\n",
      "        <p>\n",
      "          <img src=\"21.gif\">\n",
      "        </p>\n",
      "        <p>21.gif</p>\n",
      "        <p>\n",
      "          <img src=\"18.gif\">\n",
      "        </p>\n",
      "        <p>18.gif</p>\n",
      "        <p>\n",
      "          <img src=\"10.gif\">\n",
      "        </p>\n",
      "        <p>10.gif</p>\n",
      "        <p>\n",
      "          <img src=\"14.gif\">\n",
      "        </p>\n",
      "        <p>14.gif</p>\n",
      "      </ol>\n",
      "    </div>\n",
      "    <div class=\"body\">\n",
      "      <p>GetsDrawn is open source</p>\n",
      "      <a>https://github.com/getsdrawn/getsdrawndotcom</a>\n",
      "      <a>https://reddit.com/r/redditgetsdrawn</a>\n",
      "    </div>\n",
      "  </body>\n",
      "</html>\n"
     ]
    }
   ],
   "source": [
    "print(doc)"
   ]
  },
  {
   "cell_type": "code",
   "execution_count": 16,
   "metadata": {
    "collapsed": true
   },
   "outputs": [],
   "source": [
    "savht = open('/home/wcmckee/Downloads/gify/index.html', 'w')"
   ]
  },
  {
   "cell_type": "code",
   "execution_count": 17,
   "metadata": {
    "collapsed": false
   },
   "outputs": [
    {
     "data": {
      "text/plain": [
       "2557"
      ]
     },
     "execution_count": 17,
     "metadata": {},
     "output_type": "execute_result"
    }
   ],
   "source": [
    "savht.write(str(doc))"
   ]
  },
  {
   "cell_type": "code",
   "execution_count": 18,
   "metadata": {
    "collapsed": true
   },
   "outputs": [],
   "source": [
    "savht.close()"
   ]
  },
  {
   "cell_type": "code",
   "execution_count": null,
   "metadata": {
    "collapsed": true
   },
   "outputs": [],
   "source": []
  },
  {
   "cell_type": "code",
   "execution_count": null,
   "metadata": {
    "collapsed": true
   },
   "outputs": [],
   "source": []
  },
  {
   "cell_type": "code",
   "execution_count": null,
   "metadata": {
    "collapsed": true
   },
   "outputs": [],
   "source": []
  }
 ],
 "metadata": {
  "kernelspec": {
   "display_name": "Python 3",
   "language": "python",
   "name": "python3"
  },
  "language_info": {
   "codemirror_mode": {
    "name": "ipython",
    "version": 3
   },
   "file_extension": ".py",
   "mimetype": "text/x-python",
   "name": "python",
   "nbconvert_exporter": "python",
   "pygments_lexer": "ipython3",
   "version": "3.4.2"
  }
 },
 "nbformat": 4,
 "nbformat_minor": 0
}
