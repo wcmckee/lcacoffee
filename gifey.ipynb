{
 "cells": [
  {
   "cell_type": "markdown",
   "metadata": {},
   "source": [
    "gifey\n",
    "\n",
    "Downloads gifs based on a keyword from gifphy to a folder and serve them via a web server. \n",
    "\n",
    "Find keywords from where?\n",
    "\n",
    "Creative Commons Keywords - add the gif back into the posts.\n",
    "\n",
    "Intergrate Nikola. Start saving the gif files in galleries folder. Why doesn't galleries folder render gif files? \n",
    "\n",
    "Create nikola post that has the title (keyword) and post contents is the gif url (galleries - keyword)\n",
    "\n"
   ]
  },
  {
   "cell_type": "code",
   "execution_count": 1,
   "metadata": {
    "collapsed": true
   },
   "outputs": [],
   "source": [
    "import os"
   ]
  },
  {
   "cell_type": "code",
   "execution_count": 6,
   "metadata": {
    "collapsed": true
   },
   "outputs": [],
   "source": [
    "import requests\n",
    "import json\n",
    "import shutil\n",
    "import dominate\n",
    "from time import gmtime, strftime\n",
    "\n",
    "import getpass\n",
    "\n",
    "from walkdir import filtered_walk, dir_paths, all_paths, file_paths"
   ]
  },
  {
   "cell_type": "code",
   "execution_count": 7,
   "metadata": {
    "collapsed": true
   },
   "outputs": [],
   "source": [
    "getusr = getpass.getuser()"
   ]
  },
  {
   "cell_type": "code",
   "execution_count": 8,
   "metadata": {
    "collapsed": false
   },
   "outputs": [
    {
     "data": {
      "text/plain": [
       "'wcmckee'"
      ]
     },
     "execution_count": 8,
     "metadata": {},
     "output_type": "execute_result"
    }
   ],
   "source": [
    "getusr"
   ]
  },
  {
   "cell_type": "code",
   "execution_count": 3,
   "metadata": {
    "collapsed": false
   },
   "outputs": [
    {
     "name": "stdout",
     "output_type": "stream",
     "text": [
      "Keyword: time\n"
     ]
    }
   ],
   "source": [
    "keyword = input('Keyword: ')"
   ]
  },
  {
   "cell_type": "code",
   "execution_count": 4,
   "metadata": {
    "collapsed": true
   },
   "outputs": [],
   "source": [
    "from dominate.tags import *"
   ]
  },
  {
   "cell_type": "code",
   "execution_count": 11,
   "metadata": {
    "collapsed": false
   },
   "outputs": [],
   "source": [
    "gifdi = os.listdir('/home/' + getusr + '/gify/')"
   ]
  },
  {
   "cell_type": "code",
   "execution_count": 12,
   "metadata": {
    "collapsed": false
   },
   "outputs": [
    {
     "data": {
      "text/plain": [
       "[]"
      ]
     },
     "execution_count": 12,
     "metadata": {},
     "output_type": "execute_result"
    }
   ],
   "source": [
    "gifdi"
   ]
  },
  {
   "cell_type": "code",
   "execution_count": 13,
   "metadata": {
    "collapsed": true
   },
   "outputs": [],
   "source": [
    "keywddir = ('/home/' + getusr + '/gify/' + keyword)"
   ]
  },
  {
   "cell_type": "code",
   "execution_count": 14,
   "metadata": {
    "collapsed": false
   },
   "outputs": [
    {
     "name": "stdout",
     "output_type": "stream",
     "text": [
      "its false\n"
     ]
    }
   ],
   "source": [
    "if os.path.isdir(keywddir) == True:\n",
    "    print ('its true')\n",
    "else:\n",
    "    print ('its false')\n",
    "    os.mkdir(keywddir)"
   ]
  },
  {
   "cell_type": "code",
   "execution_count": 15,
   "metadata": {
    "collapsed": false
   },
   "outputs": [],
   "source": [
    "opwritj = requests.get('http://api.giphy.com/v1/gifs/search?q=' + keyword + '&api_key=dc6zaTOxFJmzC')"
   ]
  },
  {
   "cell_type": "code",
   "execution_count": 16,
   "metadata": {
    "collapsed": false
   },
   "outputs": [],
   "source": [
    "wrijrd = opwritj.text"
   ]
  },
  {
   "cell_type": "code",
   "execution_count": 17,
   "metadata": {
    "collapsed": false
   },
   "outputs": [],
   "source": [
    "jswri = json.loads(wrijrd)"
   ]
  },
  {
   "cell_type": "code",
   "execution_count": 18,
   "metadata": {
    "collapsed": false
   },
   "outputs": [],
   "source": [
    "jswln = len(jswri['data'])"
   ]
  },
  {
   "cell_type": "code",
   "execution_count": 19,
   "metadata": {
    "collapsed": false
   },
   "outputs": [
    {
     "data": {
      "text/plain": [
       "25"
      ]
     },
     "execution_count": 19,
     "metadata": {},
     "output_type": "execute_result"
    }
   ],
   "source": [
    "jswln"
   ]
  },
  {
   "cell_type": "code",
   "execution_count": 20,
   "metadata": {
    "collapsed": false,
    "scrolled": true
   },
   "outputs": [
    {
     "name": "stdout",
     "output_type": "stream",
     "text": [
      "http://media.giphy.com/media/gbI50pK5oVLK8/giphy-tumblr.gif\n",
      "http://media1.giphy.com/media/hfXMl4o1LufVm/giphy.gif\n",
      "http://media.giphy.com/media/a2SR6Ag8ChUlO/giphy-tumblr.gif\n",
      "http://media.giphy.com/media/xTiTnCfxyp6uyd8mwo/giphy-tumblr.gif\n",
      "http://media0.giphy.com/media/xYVvUN8BBUbuw/giphy.gif\n",
      "http://media.giphy.com/media/Fbyam9ZAJ3J1m/giphy-tumblr.gif\n",
      "http://media.giphy.com/media/hWR9s5HqrbP3y/giphy-tumblr.gif\n",
      "http://media.giphy.com/media/FVAk36u8oKW2c/giphy-tumblr.gif\n",
      "http://media.giphy.com/media/oT3lMyzdB2d1K/giphy-tumblr.gif\n",
      "http://media2.giphy.com/media/ohVEdUvxXTYek/giphy.gif\n",
      "http://media3.giphy.com/media/M9zaOuiElVvTG/giphy.gif\n",
      "http://media2.giphy.com/media/UDjF1zMreMld6/giphy.gif\n",
      "http://media.giphy.com/media/cJGJONGMAc8VO/giphy-tumblr.gif\n",
      "http://media1.giphy.com/media/pntJPN3DkCQA8/giphy.gif\n",
      "http://media.giphy.com/media/sHmxqMC2N8GlO/giphy-tumblr.gif\n",
      "http://media4.giphy.com/media/Tx0NZctl5oe2s/giphy.gif\n",
      "http://media4.giphy.com/media/PZy5jZUpTwgNi/giphy.gif\n",
      "http://media4.giphy.com/media/9418tPJwKbQ3K/giphy.gif\n",
      "http://media4.giphy.com/media/OBxyf9FsvIBHO/giphy.gif\n",
      "http://media4.giphy.com/media/X4vhDKAIMRThK/giphy.gif\n",
      "http://media2.giphy.com/media/LoY5blsfO81XO/giphy.gif\n",
      "http://media4.giphy.com/media/8QZVrpckVXa8M/giphy.gif\n",
      "http://media4.giphy.com/media/10pBOHXpupVdoQ/giphy.gif\n",
      "http://media.giphy.com/media/zFCtrTxeU7rX2/giphy-tumblr.gif\n",
      "http://media.giphy.com/media/fUBbxS4oLW0IU/giphy-tumblr.gif\n"
     ]
    }
   ],
   "source": [
    "for jsw in range(0, jswln):\n",
    "    if '.gif' in jswri['data'][jsw]['images']['downsized']['url']:\n",
    "        print(jswri['data'][jsw]['images']['downsized']['url'])\n",
    "        response = requests.get((jswri['data'][jsw]['images']['downsized']['url']), stream=True)\n",
    "        with open(keywddir + '/' + str(jsw) + '.gif', 'wb') as out_file:\n",
    "            shutil.copyfileobj(response.raw, out_file)\n",
    "            del response"
   ]
  },
  {
   "cell_type": "code",
   "execution_count": 23,
   "metadata": {
    "collapsed": false
   },
   "outputs": [],
   "source": [
    "gifdi = os.listdir('/home/' + getusr + '/gify/')"
   ]
  },
  {
   "cell_type": "code",
   "execution_count": 24,
   "metadata": {
    "collapsed": false
   },
   "outputs": [
    {
     "data": {
      "text/plain": [
       "['time']"
      ]
     },
     "execution_count": 24,
     "metadata": {},
     "output_type": "execute_result"
    }
   ],
   "source": [
    "gifdi"
   ]
  },
  {
   "cell_type": "code",
   "execution_count": 25,
   "metadata": {
    "collapsed": false
   },
   "outputs": [
    {
     "data": {
      "text/plain": [
       "'time'"
      ]
     },
     "execution_count": 25,
     "metadata": {},
     "output_type": "execute_result"
    }
   ],
   "source": [
    "keyword"
   ]
  },
  {
   "cell_type": "code",
   "execution_count": 27,
   "metadata": {
    "collapsed": true
   },
   "outputs": [],
   "source": [
    "posfild = ('/home/' + getusr + '/gify/site/posts/')"
   ]
  },
  {
   "cell_type": "code",
   "execution_count": 28,
   "metadata": {
    "collapsed": false
   },
   "outputs": [
    {
     "data": {
      "text/plain": [
       "'/home/wcmckee/gify/site/posts/'"
      ]
     },
     "execution_count": 28,
     "metadata": {},
     "output_type": "execute_result"
    }
   ],
   "source": [
    "posfild"
   ]
  },
  {
   "cell_type": "code",
   "execution_count": 29,
   "metadata": {
    "collapsed": true
   },
   "outputs": [],
   "source": [
    "#galdir = ('galleries/' + keyword + '/' +)"
   ]
  },
  {
   "cell_type": "code",
   "execution_count": 44,
   "metadata": {
    "collapsed": false
   },
   "outputs": [],
   "source": [
    "keyosli = os.listdir(keywddir)"
   ]
  },
  {
   "cell_type": "code",
   "execution_count": 49,
   "metadata": {
    "collapsed": false
   },
   "outputs": [],
   "source": [
    "doc = dominate.document(title='gify')\n",
    "\n",
    "with doc.head:\n",
    "    link(rel='stylesheet', href='style.css')\n",
    "    script(type ='text/javascript', src='script.js')\n",
    "    #str(str2)\n",
    "    \n",
    "    with div():\n",
    "        attr(cls='header')\n",
    "        h1('Gify ' + keyword)\n",
    "        p(img('imgs/logo.svg', src='imgs/logo.svg'))\n",
    "        #p(img('imgs/15/01/02/ReptileLover82-reference.png', src= 'imgs/15/01/02/ReptileLover82-reference.png'))\n",
    "        h1('Updated ', strftime(\"%a, %d %b %Y %H:%M:%S +0000\", gmtime()))\n",
    "        #p(panz)\n",
    "    \n",
    "    \n",
    "\n",
    "with doc:\n",
    "    with div(id='body').add(ol()):\n",
    "        for rdz in keyosli:\n",
    "            #h1(rdz.title)\n",
    "            #a(rdz.url)\n",
    "            #p(img(rdz, src='%s' % rdz))\n",
    "            #print rdz\n",
    "            \n",
    "            p(img(rdz, src = rdz))\n",
    "            p(rdz)\n",
    "\n",
    "\n",
    "                \n",
    "            #print rdz.url\n",
    "            #if '.jpg' in rdz.url:\n",
    "            #    img(rdz.urlz)\n",
    "            #else:\n",
    "            #    a(rdz.urlz)\n",
    "            #h1(str(rdz.author))\n",
    "            \n",
    "            #li(img(i.lower(), src='%s' % i))\n",
    "\n",
    "    with div():\n",
    "        attr(cls='body')\n",
    "        p('Gify is open source')\n",
    "        a('https://github.com/getsdrawn/getsdrawndotcom')\n",
    "        a('https://reddit.com/r/redditgetsdrawn')\n",
    "\n",
    "#print doc"
   ]
  },
  {
   "cell_type": "code",
   "execution_count": 53,
   "metadata": {
    "collapsed": false
   },
   "outputs": [],
   "source": [
    "savht = open('/home/' + getusr +'/gify/' + keyword + '/index.html' , 'w')"
   ]
  },
  {
   "cell_type": "code",
   "execution_count": 54,
   "metadata": {
    "collapsed": false
   },
   "outputs": [
    {
     "data": {
      "text/plain": [
       "2473"
      ]
     },
     "execution_count": 54,
     "metadata": {},
     "output_type": "execute_result"
    }
   ],
   "source": [
    "savht.write(str(doc))"
   ]
  },
  {
   "cell_type": "code",
   "execution_count": 55,
   "metadata": {
    "collapsed": true
   },
   "outputs": [],
   "source": [
    "savht.close()"
   ]
  }
 ],
 "metadata": {
  "kernelspec": {
   "display_name": "Python 3",
   "language": "python",
   "name": "python3"
  },
  "language_info": {
   "codemirror_mode": {
    "name": "ipython",
    "version": 3
   },
   "file_extension": ".py",
   "mimetype": "text/x-python",
   "name": "python",
   "nbconvert_exporter": "python",
   "pygments_lexer": "ipython3",
   "version": "3.4.2"
  }
 },
 "nbformat": 4,
 "nbformat_minor": 0
}
