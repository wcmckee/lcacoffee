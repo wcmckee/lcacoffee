{
 "cells": [
  {
   "cell_type": "markdown",
   "metadata": {},
   "source": [
    "gifey\n",
    "\n",
    "Downloads gifs based on a keyword from gifphy to a folder and serve them via a web server. \n",
    "\n",
    "Find keywords from where?\n",
    "\n",
    "Creative Commons Keywords - add the gif back into the posts.\n",
    "\n",
    "Intergrate Nikola. Start saving the gif files in galleries folder. Why doesn't galleries folder render gif files? \n",
    "\n",
    "Create nikola post that has the title (keyword) and post contents is the gif url (galleries - keyword)\n",
    "\n"
   ]
  },
  {
   "cell_type": "code",
   "execution_count": 1,
   "metadata": {
    "collapsed": true
   },
   "outputs": [],
   "source": [
    "import os"
   ]
  },
  {
   "cell_type": "code",
   "execution_count": 2,
   "metadata": {
    "collapsed": true
   },
   "outputs": [],
   "source": [
    "import requests\n",
    "import json\n",
    "import shutil\n",
    "import dominate\n",
    "from time import gmtime, strftime\n",
    "\n",
    "from walkdir import filtered_walk, dir_paths, all_paths, file_paths"
   ]
  },
  {
   "cell_type": "code",
   "execution_count": 3,
   "metadata": {
    "collapsed": false
   },
   "outputs": [
    {
     "name": "stdout",
     "output_type": "stream",
     "text": [
      "Keyword: newzealand\n"
     ]
    }
   ],
   "source": [
    "keyword = input('Keyword: ')"
   ]
  },
  {
   "cell_type": "code",
   "execution_count": 4,
   "metadata": {
    "collapsed": true
   },
   "outputs": [],
   "source": [
    "from dominate.tags import *"
   ]
  },
  {
   "cell_type": "code",
   "execution_count": 5,
   "metadata": {
    "collapsed": false
   },
   "outputs": [],
   "source": [
    "gifdi = os.listdir('/home/wcmckee/Downloads/gify/site/galleries/')"
   ]
  },
  {
   "cell_type": "code",
   "execution_count": null,
   "metadata": {
    "collapsed": true
   },
   "outputs": [],
   "source": []
  },
  {
   "cell_type": "code",
   "execution_count": null,
   "metadata": {
    "collapsed": true
   },
   "outputs": [],
   "source": []
  },
  {
   "cell_type": "code",
   "execution_count": 6,
   "metadata": {
    "collapsed": true
   },
   "outputs": [],
   "source": [
    "keywddir = ('/home/wcmckee/Downloads/gify/site/galleries/' + keyword)"
   ]
  },
  {
   "cell_type": "code",
   "execution_count": null,
   "metadata": {
    "collapsed": true
   },
   "outputs": [],
   "source": []
  },
  {
   "cell_type": "code",
   "execution_count": 7,
   "metadata": {
    "collapsed": false
   },
   "outputs": [
    {
     "name": "stdout",
     "output_type": "stream",
     "text": [
      "its false\n"
     ]
    }
   ],
   "source": [
    "if os.path.isdir(keywddir) == True:\n",
    "    print ('its true')\n",
    "else:\n",
    "    print ('its false')\n",
    "    os.mkdir(keywddir)"
   ]
  },
  {
   "cell_type": "code",
   "execution_count": 8,
   "metadata": {
    "collapsed": false
   },
   "outputs": [],
   "source": [
    "opwritj = requests.get('http://api.giphy.com/v1/gifs/search?q=' + keyword + '&api_key=dc6zaTOxFJmzC')"
   ]
  },
  {
   "cell_type": "code",
   "execution_count": null,
   "metadata": {
    "collapsed": true
   },
   "outputs": [],
   "source": []
  },
  {
   "cell_type": "code",
   "execution_count": 9,
   "metadata": {
    "collapsed": false
   },
   "outputs": [],
   "source": [
    "wrijrd = opwritj.text"
   ]
  },
  {
   "cell_type": "code",
   "execution_count": 10,
   "metadata": {
    "collapsed": false
   },
   "outputs": [],
   "source": [
    "jswri = json.loads(wrijrd)"
   ]
  },
  {
   "cell_type": "code",
   "execution_count": 11,
   "metadata": {
    "collapsed": false
   },
   "outputs": [],
   "source": [
    "jswln = len(jswri['data'])"
   ]
  },
  {
   "cell_type": "code",
   "execution_count": 12,
   "metadata": {
    "collapsed": false
   },
   "outputs": [
    {
     "data": {
      "text/plain": [
       "3"
      ]
     },
     "execution_count": 12,
     "metadata": {},
     "output_type": "execute_result"
    }
   ],
   "source": [
    "jswln"
   ]
  },
  {
   "cell_type": "code",
   "execution_count": 13,
   "metadata": {
    "collapsed": false,
    "scrolled": true
   },
   "outputs": [
    {
     "name": "stdout",
     "output_type": "stream",
     "text": [
      "http://media2.giphy.com/media/FhcCuMMXID8rK/giphy.gif\n",
      "http://media4.giphy.com/media/r6sKG1QPaHXDW/giphy.gif\n",
      "http://media0.giphy.com/media/LxRKWc8jFybvO/giphy.gif\n"
     ]
    }
   ],
   "source": [
    "for jsw in range(0, jswln):\n",
    "    if '.gif' in jswri['data'][jsw]['images']['downsized']['url']:\n",
    "        print(jswri['data'][jsw]['images']['downsized']['url'])\n",
    "        response = requests.get((jswri['data'][jsw]['images']['downsized']['url']), stream=True)\n",
    "        with open(keywddir + '/' + str(jsw) + '.gif', 'wb') as out_file:\n",
    "            shutil.copyfileobj(response.raw, out_file)\n",
    "            del response"
   ]
  },
  {
   "cell_type": "code",
   "execution_count": null,
   "metadata": {
    "collapsed": true
   },
   "outputs": [],
   "source": []
  },
  {
   "cell_type": "code",
   "execution_count": null,
   "metadata": {
    "collapsed": true
   },
   "outputs": [],
   "source": []
  },
  {
   "cell_type": "code",
   "execution_count": 14,
   "metadata": {
    "collapsed": false
   },
   "outputs": [],
   "source": [
    "gifdi = os.listdir('/home/wcmckee/Downloads/gify/')"
   ]
  },
  {
   "cell_type": "code",
   "execution_count": 15,
   "metadata": {
    "collapsed": false
   },
   "outputs": [
    {
     "data": {
      "text/plain": [
       "['7.gif',\n",
       " 'hobbit8.gif',\n",
       " '15.gif',\n",
       " '5.gif',\n",
       " '11.gif',\n",
       " 'hobbit23.gif',\n",
       " 'hobbit22.gif',\n",
       " 'hobbit4.gif',\n",
       " 'hobbit20.gif',\n",
       " '12.gif',\n",
       " '6.gif',\n",
       " '3.gif',\n",
       " 'hobbit17.gif',\n",
       " '19.gif',\n",
       " 'hobbit1.gif',\n",
       " 'hobbit',\n",
       " '16.gif',\n",
       " 'site',\n",
       " '9.gif',\n",
       " '0.gif',\n",
       " '8.gif',\n",
       " 'hobbit11.gif',\n",
       " 'hobbit21.gif',\n",
       " '4.gif',\n",
       " '23.gif',\n",
       " 'hobbit15.gif',\n",
       " 'hobbit5.gif',\n",
       " 'hobbit9.gif',\n",
       " 'hobbit7.gif',\n",
       " '13.gif',\n",
       " 'hobbit10.gif',\n",
       " 'hobbit3.gif',\n",
       " 'hobbit18.gif',\n",
       " '17.gif',\n",
       " 'hobbit16.gif',\n",
       " 'index.html',\n",
       " 'hobbit19.gif',\n",
       " 'hobbit13.gif',\n",
       " 'hobbit0.gif',\n",
       " '2.gif',\n",
       " 'linux',\n",
       " '22.gif',\n",
       " 'hobbit12.gif',\n",
       " 'hobbit6.gif',\n",
       " 'hobbit14.gif',\n",
       " '1.gif',\n",
       " 'hobbit2.gif',\n",
       " 'hobbit24.gif',\n",
       " '20.gif',\n",
       " '24.gif',\n",
       " '21.gif',\n",
       " '18.gif',\n",
       " '10.gif',\n",
       " 'disney',\n",
       " '14.gif']"
      ]
     },
     "execution_count": 15,
     "metadata": {},
     "output_type": "execute_result"
    }
   ],
   "source": [
    "gifdi"
   ]
  },
  {
   "cell_type": "code",
   "execution_count": 16,
   "metadata": {
    "collapsed": false
   },
   "outputs": [
    {
     "data": {
      "text/plain": [
       "'newzealand'"
      ]
     },
     "execution_count": 16,
     "metadata": {},
     "output_type": "execute_result"
    }
   ],
   "source": [
    "keyword"
   ]
  },
  {
   "cell_type": "code",
   "execution_count": 17,
   "metadata": {
    "collapsed": true
   },
   "outputs": [],
   "source": [
    "posfild = ('/home/wcmckee/Downloads/gify/site/posts/')"
   ]
  },
  {
   "cell_type": "code",
   "execution_count": 18,
   "metadata": {
    "collapsed": true
   },
   "outputs": [],
   "source": [
    "#galdir = ('galleries/' + keyword + '/' +)"
   ]
  },
  {
   "cell_type": "code",
   "execution_count": 19,
   "metadata": {
    "collapsed": true
   },
   "outputs": [],
   "source": [
    "rsmak = open(posfild + keyword + '.rst', 'w')"
   ]
  },
  {
   "cell_type": "code",
   "execution_count": 20,
   "metadata": {
    "collapsed": false
   },
   "outputs": [
    {
     "data": {
      "text/plain": [
       "['0.gif', '2.gif', '1.gif']"
      ]
     },
     "execution_count": 20,
     "metadata": {},
     "output_type": "execute_result"
    }
   ],
   "source": [
    "os.listdir(keywddir)"
   ]
  },
  {
   "cell_type": "code",
   "execution_count": 21,
   "metadata": {
    "collapsed": false
   },
   "outputs": [],
   "source": [
    "for oslid in os.listdir(keywddir):\n",
    "    rsmak.write('.. image:: ' + '/galleries/' + keyword + '/' + oslid + '\\n')"
   ]
  },
  {
   "cell_type": "code",
   "execution_count": 22,
   "metadata": {
    "collapsed": true
   },
   "outputs": [],
   "source": [
    "rsmak.close()"
   ]
  },
  {
   "cell_type": "code",
   "execution_count": null,
   "metadata": {
    "collapsed": true
   },
   "outputs": [],
   "source": []
  },
  {
   "cell_type": "code",
   "execution_count": null,
   "metadata": {
    "collapsed": true
   },
   "outputs": [],
   "source": []
  },
  {
   "cell_type": "code",
   "execution_count": 23,
   "metadata": {
    "collapsed": false
   },
   "outputs": [
    {
     "name": "stdout",
     "output_type": "stream",
     "text": [
      "['0.gif', '2.gif', '1.gif']\n"
     ]
    }
   ],
   "source": [
    "print(os.listdir(keywddir))"
   ]
  },
  {
   "cell_type": "code",
   "execution_count": null,
   "metadata": {
    "collapsed": true
   },
   "outputs": [],
   "source": []
  },
  {
   "cell_type": "code",
   "execution_count": null,
   "metadata": {
    "collapsed": true
   },
   "outputs": [],
   "source": []
  },
  {
   "cell_type": "code",
   "execution_count": null,
   "metadata": {
    "collapsed": true
   },
   "outputs": [],
   "source": []
  },
  {
   "cell_type": "code",
   "execution_count": 24,
   "metadata": {
    "collapsed": false
   },
   "outputs": [],
   "source": [
    "doc = dominate.document(title='gify')\n",
    "\n",
    "with doc.head:\n",
    "    link(rel='stylesheet', href='style.css')\n",
    "    script(type ='text/javascript', src='script.js')\n",
    "    #str(str2)\n",
    "    \n",
    "    with div():\n",
    "        attr(cls='header')\n",
    "        h1('Gify')\n",
    "        p(img('imgs/logo.svg', src='imgs/logo.svg'))\n",
    "        #p(img('imgs/15/01/02/ReptileLover82-reference.png', src= 'imgs/15/01/02/ReptileLover82-reference.png'))\n",
    "        h1('Updated ', strftime(\"%a, %d %b %Y %H:%M:%S +0000\", gmtime()))\n",
    "        #p(panz)\n",
    "    \n",
    "    \n",
    "\n",
    "with doc:\n",
    "    with div(id='body').add(ol()):\n",
    "        for rdz in gifdi:\n",
    "            #h1(rdz.title)\n",
    "            #a(rdz.url)\n",
    "            #p(img(rdz, src='%s' % rdz))\n",
    "            #print rdz\n",
    "            p(img(rdz, src = rdz))\n",
    "            p(rdz)\n",
    "\n",
    "\n",
    "                \n",
    "            #print rdz.url\n",
    "            #if '.jpg' in rdz.url:\n",
    "            #    img(rdz.urlz)\n",
    "            #else:\n",
    "            #    a(rdz.urlz)\n",
    "            #h1(str(rdz.author))\n",
    "            \n",
    "            #li(img(i.lower(), src='%s' % i))\n",
    "\n",
    "    with div():\n",
    "        attr(cls='body')\n",
    "        p('GetsDrawn is open source')\n",
    "        a('https://github.com/getsdrawn/getsdrawndotcom')\n",
    "        a('https://reddit.com/r/redditgetsdrawn')\n",
    "\n",
    "#print doc"
   ]
  },
  {
   "cell_type": "code",
   "execution_count": 25,
   "metadata": {
    "collapsed": false
   },
   "outputs": [
    {
     "name": "stdout",
     "output_type": "stream",
     "text": [
      "<!DOCTYPE html>\n",
      "<html>\n",
      "  <head>\n",
      "    <title>gify</title>\n",
      "    <link href=\"style.css\" rel=\"stylesheet\"><script src=\"script.js\" type=\"text/javascript\"></script>\n",
      "    <div class=\"header\">\n",
      "      <h1>Gify</h1>\n",
      "      <p>\n",
      "        <img src=\"imgs/logo.svg\">\n",
      "      </p>\n",
      "      <h1>Updated Sat, 19 Dec 2015 04:22:46 +0000</h1>\n",
      "    </div>\n",
      "  </head>\n",
      "  <body>\n",
      "    <div id=\"body\">\n",
      "      <ol>\n",
      "        <p>\n",
      "          <img src=\"7.gif\">\n",
      "        </p>\n",
      "        <p>7.gif</p>\n",
      "        <p>\n",
      "          <img src=\"hobbit8.gif\">\n",
      "        </p>\n",
      "        <p>hobbit8.gif</p>\n",
      "        <p>\n",
      "          <img src=\"15.gif\">\n",
      "        </p>\n",
      "        <p>15.gif</p>\n",
      "        <p>\n",
      "          <img src=\"5.gif\">\n",
      "        </p>\n",
      "        <p>5.gif</p>\n",
      "        <p>\n",
      "          <img src=\"11.gif\">\n",
      "        </p>\n",
      "        <p>11.gif</p>\n",
      "        <p>\n",
      "          <img src=\"hobbit23.gif\">\n",
      "        </p>\n",
      "        <p>hobbit23.gif</p>\n",
      "        <p>\n",
      "          <img src=\"hobbit22.gif\">\n",
      "        </p>\n",
      "        <p>hobbit22.gif</p>\n",
      "        <p>\n",
      "          <img src=\"hobbit4.gif\">\n",
      "        </p>\n",
      "        <p>hobbit4.gif</p>\n",
      "        <p>\n",
      "          <img src=\"hobbit20.gif\">\n",
      "        </p>\n",
      "        <p>hobbit20.gif</p>\n",
      "        <p>\n",
      "          <img src=\"12.gif\">\n",
      "        </p>\n",
      "        <p>12.gif</p>\n",
      "        <p>\n",
      "          <img src=\"6.gif\">\n",
      "        </p>\n",
      "        <p>6.gif</p>\n",
      "        <p>\n",
      "          <img src=\"3.gif\">\n",
      "        </p>\n",
      "        <p>3.gif</p>\n",
      "        <p>\n",
      "          <img src=\"hobbit17.gif\">\n",
      "        </p>\n",
      "        <p>hobbit17.gif</p>\n",
      "        <p>\n",
      "          <img src=\"19.gif\">\n",
      "        </p>\n",
      "        <p>19.gif</p>\n",
      "        <p>\n",
      "          <img src=\"hobbit1.gif\">\n",
      "        </p>\n",
      "        <p>hobbit1.gif</p>\n",
      "        <p>\n",
      "          <img src=\"hobbit\">\n",
      "        </p>\n",
      "        <p>hobbit</p>\n",
      "        <p>\n",
      "          <img src=\"16.gif\">\n",
      "        </p>\n",
      "        <p>16.gif</p>\n",
      "        <p>\n",
      "          <img src=\"site\">\n",
      "        </p>\n",
      "        <p>site</p>\n",
      "        <p>\n",
      "          <img src=\"9.gif\">\n",
      "        </p>\n",
      "        <p>9.gif</p>\n",
      "        <p>\n",
      "          <img src=\"0.gif\">\n",
      "        </p>\n",
      "        <p>0.gif</p>\n",
      "        <p>\n",
      "          <img src=\"8.gif\">\n",
      "        </p>\n",
      "        <p>8.gif</p>\n",
      "        <p>\n",
      "          <img src=\"hobbit11.gif\">\n",
      "        </p>\n",
      "        <p>hobbit11.gif</p>\n",
      "        <p>\n",
      "          <img src=\"hobbit21.gif\">\n",
      "        </p>\n",
      "        <p>hobbit21.gif</p>\n",
      "        <p>\n",
      "          <img src=\"4.gif\">\n",
      "        </p>\n",
      "        <p>4.gif</p>\n",
      "        <p>\n",
      "          <img src=\"23.gif\">\n",
      "        </p>\n",
      "        <p>23.gif</p>\n",
      "        <p>\n",
      "          <img src=\"hobbit15.gif\">\n",
      "        </p>\n",
      "        <p>hobbit15.gif</p>\n",
      "        <p>\n",
      "          <img src=\"hobbit5.gif\">\n",
      "        </p>\n",
      "        <p>hobbit5.gif</p>\n",
      "        <p>\n",
      "          <img src=\"hobbit9.gif\">\n",
      "        </p>\n",
      "        <p>hobbit9.gif</p>\n",
      "        <p>\n",
      "          <img src=\"hobbit7.gif\">\n",
      "        </p>\n",
      "        <p>hobbit7.gif</p>\n",
      "        <p>\n",
      "          <img src=\"13.gif\">\n",
      "        </p>\n",
      "        <p>13.gif</p>\n",
      "        <p>\n",
      "          <img src=\"hobbit10.gif\">\n",
      "        </p>\n",
      "        <p>hobbit10.gif</p>\n",
      "        <p>\n",
      "          <img src=\"hobbit3.gif\">\n",
      "        </p>\n",
      "        <p>hobbit3.gif</p>\n",
      "        <p>\n",
      "          <img src=\"hobbit18.gif\">\n",
      "        </p>\n",
      "        <p>hobbit18.gif</p>\n",
      "        <p>\n",
      "          <img src=\"17.gif\">\n",
      "        </p>\n",
      "        <p>17.gif</p>\n",
      "        <p>\n",
      "          <img src=\"hobbit16.gif\">\n",
      "        </p>\n",
      "        <p>hobbit16.gif</p>\n",
      "        <p>\n",
      "          <img src=\"index.html\">\n",
      "        </p>\n",
      "        <p>index.html</p>\n",
      "        <p>\n",
      "          <img src=\"hobbit19.gif\">\n",
      "        </p>\n",
      "        <p>hobbit19.gif</p>\n",
      "        <p>\n",
      "          <img src=\"hobbit13.gif\">\n",
      "        </p>\n",
      "        <p>hobbit13.gif</p>\n",
      "        <p>\n",
      "          <img src=\"hobbit0.gif\">\n",
      "        </p>\n",
      "        <p>hobbit0.gif</p>\n",
      "        <p>\n",
      "          <img src=\"2.gif\">\n",
      "        </p>\n",
      "        <p>2.gif</p>\n",
      "        <p>\n",
      "          <img src=\"linux\">\n",
      "        </p>\n",
      "        <p>linux</p>\n",
      "        <p>\n",
      "          <img src=\"22.gif\">\n",
      "        </p>\n",
      "        <p>22.gif</p>\n",
      "        <p>\n",
      "          <img src=\"hobbit12.gif\">\n",
      "        </p>\n",
      "        <p>hobbit12.gif</p>\n",
      "        <p>\n",
      "          <img src=\"hobbit6.gif\">\n",
      "        </p>\n",
      "        <p>hobbit6.gif</p>\n",
      "        <p>\n",
      "          <img src=\"hobbit14.gif\">\n",
      "        </p>\n",
      "        <p>hobbit14.gif</p>\n",
      "        <p>\n",
      "          <img src=\"1.gif\">\n",
      "        </p>\n",
      "        <p>1.gif</p>\n",
      "        <p>\n",
      "          <img src=\"hobbit2.gif\">\n",
      "        </p>\n",
      "        <p>hobbit2.gif</p>\n",
      "        <p>\n",
      "          <img src=\"hobbit24.gif\">\n",
      "        </p>\n",
      "        <p>hobbit24.gif</p>\n",
      "        <p>\n",
      "          <img src=\"20.gif\">\n",
      "        </p>\n",
      "        <p>20.gif</p>\n",
      "        <p>\n",
      "          <img src=\"24.gif\">\n",
      "        </p>\n",
      "        <p>24.gif</p>\n",
      "        <p>\n",
      "          <img src=\"21.gif\">\n",
      "        </p>\n",
      "        <p>21.gif</p>\n",
      "        <p>\n",
      "          <img src=\"18.gif\">\n",
      "        </p>\n",
      "        <p>18.gif</p>\n",
      "        <p>\n",
      "          <img src=\"10.gif\">\n",
      "        </p>\n",
      "        <p>10.gif</p>\n",
      "        <p>\n",
      "          <img src=\"disney\">\n",
      "        </p>\n",
      "        <p>disney</p>\n",
      "        <p>\n",
      "          <img src=\"14.gif\">\n",
      "        </p>\n",
      "        <p>14.gif</p>\n",
      "      </ol>\n",
      "    </div>\n",
      "    <div class=\"body\">\n",
      "      <p>GetsDrawn is open source</p>\n",
      "      <a>https://github.com/getsdrawn/getsdrawndotcom</a>\n",
      "      <a>https://reddit.com/r/redditgetsdrawn</a>\n",
      "    </div>\n",
      "  </body>\n",
      "</html>\n"
     ]
    }
   ],
   "source": [
    "print(doc)"
   ]
  },
  {
   "cell_type": "code",
   "execution_count": 26,
   "metadata": {
    "collapsed": true
   },
   "outputs": [],
   "source": [
    "savht = open('/home/wcmckee/Downloads/gify/index.html', 'w')"
   ]
  },
  {
   "cell_type": "code",
   "execution_count": 27,
   "metadata": {
    "collapsed": false
   },
   "outputs": [
    {
     "data": {
      "text/plain": [
       "5035"
      ]
     },
     "execution_count": 27,
     "metadata": {},
     "output_type": "execute_result"
    }
   ],
   "source": [
    "savht.write(str(doc))"
   ]
  },
  {
   "cell_type": "code",
   "execution_count": 28,
   "metadata": {
    "collapsed": true
   },
   "outputs": [],
   "source": [
    "savht.close()"
   ]
  },
  {
   "cell_type": "code",
   "execution_count": null,
   "metadata": {
    "collapsed": true
   },
   "outputs": [],
   "source": []
  },
  {
   "cell_type": "code",
   "execution_count": null,
   "metadata": {
    "collapsed": true
   },
   "outputs": [],
   "source": []
  },
  {
   "cell_type": "code",
   "execution_count": null,
   "metadata": {
    "collapsed": true
   },
   "outputs": [],
   "source": []
  },
  {
   "cell_type": "code",
   "execution_count": null,
   "metadata": {
    "collapsed": true
   },
   "outputs": [],
   "source": []
  }
 ],
 "metadata": {
  "kernelspec": {
   "display_name": "Python 3",
   "language": "python",
   "name": "python3"
  },
  "language_info": {
   "codemirror_mode": {
    "name": "ipython",
    "version": 3
   },
   "file_extension": ".py",
   "mimetype": "text/x-python",
   "name": "python",
   "nbconvert_exporter": "python",
   "pygments_lexer": "ipython3",
   "version": "3.4.2"
  }
 },
 "nbformat": 4,
 "nbformat_minor": 0
}
