{
 "cells": [
  {
   "cell_type": "markdown",
   "metadata": {},
   "source": [
    "<h1>Record Desktop Automation</h1>\n",
    "\n",
    "Script that helps recording digital painting with recordmydesktop.\n",
    "\n",
    "Starts recording - filename is time/date.ogv.\n",
    "\n",
    "Loops and stops recording every hour.\n",
    "\n",
    "Painting folder is hostname-paint\n",
    "\n",
    "currently set to Desktop. Not unique enough.\n",
    "\n"
   ]
  },
  {
   "cell_type": "code",
<<<<<<< HEAD
   "execution_count": 37,
=======
   "execution_count": 46,
>>>>>>> e35337ccf4def38ae72112fe533af0952d0b8ba4
   "metadata": {
    "collapsed": false
   },
   "outputs": [],
   "source": [
    "import os\n",
    "import arrow\n",
    "import json\n",
    "import walkdir\n",
<<<<<<< HEAD
    "import json\n",
    "import socket\n",
    "import getpass\n"
=======
    "import json"
>>>>>>> e35337ccf4def38ae72112fe533af0952d0b8ba4
   ]
  },
  {
   "cell_type": "code",
   "execution_count": null,
   "metadata": {
    "collapsed": true
   },
   "outputs": [],
   "source": []
  },
  {
   "cell_type": "code",
   "execution_count": 34,
   "metadata": {
    "collapsed": false
   },
   "outputs": [],
   "source": [
    "prinfold = (socket.gethostname() + '-paint')"
   ]
  },
  {
   "cell_type": "code",
   "execution_count": 40,
   "metadata": {
    "collapsed": true
   },
   "outputs": [],
   "source": [
    "getusr = getpass.getuser()"
   ]
  },
  {
   "cell_type": "code",
   "execution_count": 41,
   "metadata": {
    "collapsed": false
   },
   "outputs": [
    {
     "data": {
      "text/plain": [
       "'wcmckee'"
      ]
     },
     "execution_count": 41,
     "metadata": {},
     "output_type": "execute_result"
    }
   ],
   "source": [
    "getusr"
   ]
  },
  {
   "cell_type": "code",
   "execution_count": null,
   "metadata": {
    "collapsed": true
   },
   "outputs": [],
   "source": []
  },
  {
   "cell_type": "code",
   "execution_count": 36,
   "metadata": {
    "collapsed": false
   },
   "outputs": [
    {
     "data": {
      "text/plain": [
       "'zincwhite-paint'"
      ]
     },
     "execution_count": 36,
     "metadata": {},
     "output_type": "execute_result"
    }
   ],
   "source": [
    "prinfold"
   ]
  },
  {
   "cell_type": "code",
   "execution_count": null,
   "metadata": {
    "collapsed": true
   },
   "outputs": [],
   "source": []
  },
  {
   "cell_type": "code",
   "execution_count": 4,
   "metadata": {
    "collapsed": true
   },
   "outputs": [],
   "source": [
    "mytim = arrow.now()"
   ]
  },
  {
   "cell_type": "code",
   "execution_count": 5,
   "metadata": {
    "collapsed": false
   },
   "outputs": [
    {
     "data": {
      "text/plain": [
       "<Arrow [2015-04-24T01:08:17.938739+00:00]>"
      ]
     },
     "execution_count": 5,
     "metadata": {},
     "output_type": "execute_result"
    }
   ],
   "source": [
    "mytim"
   ]
  },
  {
   "cell_type": "code",
   "execution_count": 6,
   "metadata": {
    "collapsed": false
   },
   "outputs": [],
   "source": [
    "mytimdat = mytim.datetime"
   ]
  },
  {
   "cell_type": "code",
   "execution_count": 7,
   "metadata": {
    "collapsed": false
   },
   "outputs": [
    {
     "data": {
      "text/plain": [
       "8"
      ]
     },
     "execution_count": 7,
     "metadata": {},
     "output_type": "execute_result"
    }
   ],
   "source": [
    "mytimdat.minute"
   ]
  },
  {
   "cell_type": "code",
   "execution_count": 8,
   "metadata": {
    "collapsed": true
   },
   "outputs": [],
   "source": [
    "timtest  = str(mytimdat.hour) + str(mytimdat.minute) + str(mytimdat.second) "
   ]
  },
  {
   "cell_type": "code",
   "execution_count": 9,
   "metadata": {
    "collapsed": false
   },
   "outputs": [
    {
     "data": {
      "text/plain": [
       "'1817'"
      ]
     },
     "execution_count": 9,
     "metadata": {},
     "output_type": "execute_result"
    }
   ],
   "source": [
    "timtest"
   ]
  },
  {
   "cell_type": "code",
   "execution_count": 10,
   "metadata": {
    "collapsed": true
   },
   "outputs": [],
   "source": [
    "timdatez = str(mytimdat.year) + str(mytimdat.month) + str(mytimdat.day)"
   ]
  },
  {
   "cell_type": "code",
   "execution_count": null,
   "metadata": {
    "collapsed": true
   },
   "outputs": [],
   "source": []
  },
  {
   "cell_type": "code",
   "execution_count": 11,
   "metadata": {
    "collapsed": false
   },
   "outputs": [
    {
     "data": {
      "text/plain": [
       "'2015424'"
      ]
     },
     "execution_count": 11,
     "metadata": {},
     "output_type": "execute_result"
    }
   ],
   "source": [
    "timdatez"
   ]
  },
  {
   "cell_type": "code",
   "execution_count": 12,
   "metadata": {
    "collapsed": false
   },
   "outputs": [],
   "source": [
    "fulldtiz = str(timtest) + str(timdatez)"
   ]
  },
  {
   "cell_type": "code",
   "execution_count": 13,
   "metadata": {
    "collapsed": false
   },
   "outputs": [
    {
     "data": {
      "text/plain": [
       "'18172015424'"
      ]
     },
     "execution_count": 13,
     "metadata": {},
     "output_type": "execute_result"
    }
   ],
   "source": [
    "fulldtiz"
   ]
  },
  {
   "cell_type": "code",
   "execution_count": 50,
   "metadata": {
    "collapsed": false
   },
   "outputs": [
    {
     "data": {
      "text/plain": [
       "'wcmckee'"
      ]
     },
     "execution_count": 50,
     "metadata": {},
     "output_type": "execute_result"
    }
   ],
   "source": [
    "getusr"
   ]
  },
  {
   "cell_type": "code",
   "execution_count": 51,
   "metadata": {
    "collapsed": false
   },
   "outputs": [
    {
     "data": {
      "text/plain": [
       "'zincwhite-paint'"
      ]
     },
     "execution_count": 51,
     "metadata": {},
     "output_type": "execute_result"
    }
   ],
   "source": [
    "prinfold"
   ]
  },
  {
   "cell_type": "code",
   "execution_count": 16,
   "metadata": {
    "collapsed": false
   },
   "outputs": [],
   "source": [
    "#files = file_paths(filtered_walk('/home/wcmckee/Desktop/', depth=100, included_files=['*.mp4']))"
   ]
  },
  {
   "cell_type": "code",
   "execution_count": 54,
   "metadata": {
    "collapsed": false
   },
   "outputs": [],
   "source": [
    "rcordcmd = ('recordmydesktop -o /home/' + getusr + '/' + prinfold + '/' + (fulldtiz) + '.ogv --no-sound --on-the-fly-encoding')"
   ]
  },
  {
   "cell_type": "code",
   "execution_count": 55,
   "metadata": {
    "collapsed": false
   },
   "outputs": [
    {
     "data": {
      "text/plain": [
       "'recordmydesktop -o /home/wcmckee/zincwhite-paint/18172015424.ogv --no-sound --on-the-fly-encoding'"
      ]
     },
     "execution_count": 55,
     "metadata": {},
     "output_type": "execute_result"
    }
   ],
   "source": [
    "rcordcmd"
   ]
  },
  {
   "cell_type": "code",
   "execution_count": 43,
   "metadata": {
    "collapsed": false
   },
   "outputs": [],
   "source": [
    "#Make a meta file that contains file info. \n",
    "#\n"
   ]
  },
  {
   "cell_type": "code",
   "execution_count": 19,
   "metadata": {
    "collapsed": false
   },
   "outputs": [],
   "source": [
    "desklis = os.listdir('/home/wcmckee/Desktop')"
   ]
  },
  {
   "cell_type": "code",
   "execution_count": null,
   "metadata": {
    "collapsed": true
   },
   "outputs": [],
   "source": []
  },
  {
   "cell_type": "code",
<<<<<<< HEAD
   "execution_count": 20,
=======
   "execution_count": 52,
>>>>>>> e35337ccf4def38ae72112fe533af0952d0b8ba4
   "metadata": {
    "collapsed": true
   },
   "outputs": [],
   "source": [
    "opmeta = open('/home/wcmckee/Desktop/' + fulldtiz + '.json', 'w')"
   ]
  },
  {
   "cell_type": "code",
<<<<<<< HEAD
   "execution_count": 21,
=======
   "execution_count": 53,
>>>>>>> e35337ccf4def38ae72112fe533af0952d0b8ba4
   "metadata": {
    "collapsed": true
   },
   "outputs": [],
   "source": [
    "recordict = dict()"
   ]
  },
  {
   "cell_type": "code",
<<<<<<< HEAD
   "execution_count": 22,
=======
   "execution_count": 54,
>>>>>>> e35337ccf4def38ae72112fe533af0952d0b8ba4
   "metadata": {
    "collapsed": false
   },
   "outputs": [],
   "source": [
    "recordict.update({'videofile': '/home/wcmckee/Desktop/' + fulldtiz + '.ogv', 'date': timdatez, 'time': timtest })"
   ]
  },
  {
   "cell_type": "code",
<<<<<<< HEAD
   "execution_count": 23,
=======
   "execution_count": 55,
>>>>>>> e35337ccf4def38ae72112fe533af0952d0b8ba4
   "metadata": {
    "collapsed": false
   },
   "outputs": [
    {
     "name": "stdout",
     "output_type": "stream",
     "text": [
      "template.xcf\n"
     ]
    }
   ],
   "source": [
    "for dlis in desklis:\n",
    "    if '.xcf' in dlis:\n",
    "        print dlis\n",
    "        recordict.update({'xcffile' : dlis})\n",
    "    #print dlis"
   ]
  },
  {
   "cell_type": "code",
<<<<<<< HEAD
   "execution_count": 24,
=======
   "execution_count": 56,
>>>>>>> e35337ccf4def38ae72112fe533af0952d0b8ba4
   "metadata": {
    "collapsed": true
   },
   "outputs": [],
   "source": [
    "mpz = json.dumps(recordict)"
   ]
  },
  {
   "cell_type": "code",
<<<<<<< HEAD
   "execution_count": 25,
=======
   "execution_count": 57,
>>>>>>> e35337ccf4def38ae72112fe533af0952d0b8ba4
   "metadata": {
    "collapsed": false
   },
   "outputs": [
    {
     "data": {
      "text/plain": [
<<<<<<< HEAD
       "'{\"date\": \"2015424\", \"xcffile\": \"template.xcf\", \"videofile\": \"/home/wcmckee/Desktop/18172015424.ogv\", \"time\": \"1817\"}'"
      ]
     },
     "execution_count": 25,
=======
       "'{\"date\": \"2015422\", \"xcffile\": \"newart.xcf\", \"videofile\": \"/home/wcmckee/Desktop/11582015422.ogv\", \"time\": \"1158\"}'"
      ]
     },
     "execution_count": 57,
>>>>>>> e35337ccf4def38ae72112fe533af0952d0b8ba4
     "metadata": {},
     "output_type": "execute_result"
    }
   ],
   "source": [
    "mpz"
   ]
  },
  {
   "cell_type": "code",
<<<<<<< HEAD
   "execution_count": 26,
=======
   "execution_count": 60,
>>>>>>> e35337ccf4def38ae72112fe533af0952d0b8ba4
   "metadata": {
    "collapsed": true
   },
   "outputs": [],
   "source": [
    "jsdrop = json.loads(mpz)"
   ]
  },
  {
   "cell_type": "code",
<<<<<<< HEAD
   "execution_count": 27,
=======
   "execution_count": 61,
   "metadata": {
    "collapsed": false
   },
   "outputs": [
    {
     "data": {
      "text/plain": [
       "{u'date': u'2015422',\n",
       " u'time': u'1158',\n",
       " u'videofile': u'/home/wcmckee/Desktop/11582015422.ogv',\n",
       " u'xcffile': u'newart.xcf'}"
      ]
     },
     "execution_count": 61,
     "metadata": {},
     "output_type": "execute_result"
    }
   ],
   "source": [
    "jsdrop"
   ]
  },
  {
   "cell_type": "code",
   "execution_count": null,
   "metadata": {
    "collapsed": true
   },
   "outputs": [],
   "source": []
  },
  {
   "cell_type": "code",
   "execution_count": 45,
>>>>>>> e35337ccf4def38ae72112fe533af0952d0b8ba4
   "metadata": {
    "collapsed": false
   },
   "outputs": [
    {
     "data": {
      "text/plain": [
       "{u'date': u'2015424',\n",
       " u'time': u'1817',\n",
       " u'videofile': u'/home/wcmckee/Desktop/18172015424.ogv',\n",
       " u'xcffile': u'template.xcf'}"
      ]
     },
     "execution_count": 27,
     "metadata": {},
     "output_type": "execute_result"
    }
   ],
   "source": [
    "jsdrop"
   ]
  },
  {
   "cell_type": "code",
   "execution_count": null,
   "metadata": {
    "collapsed": true
   },
   "outputs": [],
   "source": []
  },
  {
   "cell_type": "code",
   "execution_count": 28,
   "metadata": {
    "collapsed": false
   },
   "outputs": [
    {
     "data": {
      "text/plain": [
       "{'date': '2015424',\n",
       " 'time': '1817',\n",
       " 'videofile': '/home/wcmckee/Desktop/18172015424.ogv',\n",
       " 'xcffile': 'template.xcf'}"
      ]
     },
     "execution_count": 28,
     "metadata": {},
     "output_type": "execute_result"
    }
   ],
   "source": [
    "recordict\n",
    "\n",
    "#I want to get the data on the image name/layer name currently open in GIMP. Export off GIMP filename/active layer name \n",
    "#and open it up in this folder.\n"
   ]
  },
  {
   "cell_type": "code",
   "execution_count": 29,
   "metadata": {
    "collapsed": false
   },
   "outputs": [
    {
     "data": {
      "text/plain": [
       "'recordmydesktop -o /home/wcmckee/Desktop/18172015424.ogv --no-sound --encoding-on-the-fly'"
      ]
     },
     "execution_count": 29,
     "metadata": {},
     "output_type": "execute_result"
    }
   ],
   "source": [
    "rcordcmd"
   ]
  },
  {
   "cell_type": "markdown",
   "metadata": {},
   "source": [
    "Copyright is a barrier. What is your views on open source licences such as creative commons?"
   ]
  },
  {
   "cell_type": "code",
   "execution_count": 30,
   "metadata": {
    "collapsed": false
   },
   "outputs": [
    {
     "data": {
      "text/plain": [
       "256"
      ]
     },
     "execution_count": 30,
     "metadata": {},
     "output_type": "execute_result"
    }
   ],
   "source": [
    "os.system(rcordcmd)"
   ]
  },
  {
   "cell_type": "code",
   "execution_count": null,
   "metadata": {
    "collapsed": true
   },
   "outputs": [],
   "source": []
  }
 ],
 "metadata": {
  "kernelspec": {
   "display_name": "Python 2",
   "language": "python",
   "name": "python2"
  },
  "language_info": {
   "codemirror_mode": {
    "name": "ipython",
    "version": 2
   },
   "file_extension": ".py",
   "mimetype": "text/x-python",
   "name": "python",
   "nbconvert_exporter": "python",
   "pygments_lexer": "ipython2",
   "version": "2.7.3"
  }
 },
 "nbformat": 4,
 "nbformat_minor": 0
}
