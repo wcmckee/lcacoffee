{
 "cells": [
  {
   "cell_type": "markdown",
   "metadata": {},
   "source": [
    "This is a script to create coffee sales data. \n",
    "It uses the same base template as lcacoffee.ipnb.\n",
    "\n",
    "Create a dict with coffee data in "
   ]
  },
  {
   "cell_type": "code",
   "execution_count": 23,
   "metadata": {
    "collapsed": true
   },
   "outputs": [],
   "source": [
    "import arrow\n",
    "import os"
   ]
  },
  {
   "cell_type": "code",
   "execution_count": 24,
   "metadata": {
    "collapsed": true
   },
   "outputs": [],
   "source": [
    "#I need it to return the day of the week it is.\n",
    "#etc. Monday, Tuesday, Wednesday, Thursday"
   ]
  },
  {
   "cell_type": "code",
   "execution_count": 6,
   "metadata": {
    "collapsed": true
   },
   "outputs": [],
   "source": [
    "arut = arrow.utcnow()"
   ]
  },
  {
   "cell_type": "code",
   "execution_count": 31,
   "metadata": {
    "collapsed": true
   },
   "outputs": [],
   "source": [
    "cofdat = dict()"
   ]
  },
  {
   "cell_type": "code",
   "execution_count": 32,
   "metadata": {
    "collapsed": false
   },
   "outputs": [
    {
     "name": "stdout",
     "output_type": "stream",
     "text": [
      "2015-02-19\n"
     ]
    }
   ],
   "source": [
    "print arut.date()"
   ]
  },
  {
   "cell_type": "code",
   "execution_count": 33,
   "metadata": {
    "collapsed": false
   },
   "outputs": [
    {
     "name": "stdout",
     "output_type": "stream",
     "text": [
      "08:30:04.359706\n"
     ]
    }
   ],
   "source": [
    "print arut.time()"
   ]
  },
  {
   "cell_type": "code",
   "execution_count": 34,
   "metadata": {
    "collapsed": false
   },
   "outputs": [
    {
     "data": {
      "text/plain": [
       "3"
      ]
     },
     "execution_count": 34,
     "metadata": {},
     "output_type": "execute_result"
    }
   ],
   "source": [
    "arut.weekday()"
   ]
  },
  {
   "cell_type": "code",
   "execution_count": 35,
   "metadata": {
    "collapsed": false
   },
   "outputs": [],
   "source": [
    "cofdat.update({'Day': arut.weekday()})"
   ]
  },
  {
   "cell_type": "code",
   "execution_count": 39,
   "metadata": {
    "collapsed": false
   },
   "outputs": [],
   "source": [
    "cofdat.update({'Date': str(arut.date())})"
   ]
  },
  {
   "cell_type": "code",
   "execution_count": 40,
   "metadata": {
    "collapsed": false
   },
   "outputs": [
    {
     "name": "stdout",
     "output_type": "stream",
     "text": [
      "{'Date': '2015-02-19', 'Day': 3}\n"
     ]
    }
   ],
   "source": [
    "print cofdat"
   ]
  },
  {
   "cell_type": "code",
   "execution_count": 45,
   "metadata": {
    "collapsed": false
   },
   "outputs": [],
   "source": [
    "for dayhr in range(24):\n",
    "    #print dayhr\n",
    "    cofdat.update({dayhr: ' '})"
   ]
  },
  {
   "cell_type": "code",
   "execution_count": 53,
   "metadata": {
    "collapsed": false
   },
   "outputs": [],
   "source": [
    "twenforst = arut.strftime('%H')"
   ]
  },
  {
   "cell_type": "code",
   "execution_count": 54,
   "metadata": {
    "collapsed": false
   },
   "outputs": [
    {
     "data": {
      "text/plain": [
       "'08'"
      ]
     },
     "execution_count": 54,
     "metadata": {},
     "output_type": "execute_result"
    }
   ],
   "source": [
    "twenforst"
   ]
  },
  {
   "cell_type": "code",
   "execution_count": 46,
   "metadata": {
    "collapsed": false
   },
   "outputs": [
    {
     "data": {
      "text/plain": [
       "{0: ' ',\n",
       " 1: ' ',\n",
       " 2: ' ',\n",
       " 3: ' ',\n",
       " 4: ' ',\n",
       " 5: ' ',\n",
       " 6: ' ',\n",
       " 7: ' ',\n",
       " 8: ' ',\n",
       " 9: ' ',\n",
       " 10: ' ',\n",
       " 11: ' ',\n",
       " 12: ' ',\n",
       " 13: ' ',\n",
       " 14: ' ',\n",
       " 15: ' ',\n",
       " 16: ' ',\n",
       " 17: ' ',\n",
       " 18: ' ',\n",
       " 19: ' ',\n",
       " 20: ' ',\n",
       " 21: ' ',\n",
       " 22: ' ',\n",
       " 23: ' ',\n",
       " 'Date': '2015-02-19',\n",
       " 'Day': 3}"
      ]
     },
     "execution_count": 46,
     "metadata": {},
     "output_type": "execute_result"
    }
   ],
   "source": [
    "cofdat"
   ]
  },
  {
   "cell_type": "code",
   "execution_count": 55,
   "metadata": {
    "collapsed": true
   },
   "outputs": [],
   "source": [
    "cofdat.update({twenforst: 1})"
   ]
  },
  {
   "cell_type": "code",
   "execution_count": 58,
   "metadata": {
    "collapsed": true
   },
   "outputs": [],
   "source": [
    "#Whats the point in creating keys for hours that don't\n",
    "#get sales. Just get it to update with hour and add it\n",
    "\n",
    "#Value is a database on the coffee sale. \n",
    "#Currently just numbers."
   ]
  },
  {
   "cell_type": "code",
   "execution_count": 56,
   "metadata": {
    "collapsed": false
   },
   "outputs": [
    {
     "data": {
      "text/plain": [
       "{0: ' ',\n",
       " 1: ' ',\n",
       " 2: ' ',\n",
       " 3: ' ',\n",
       " 4: ' ',\n",
       " 5: ' ',\n",
       " 6: ' ',\n",
       " 7: ' ',\n",
       " 8: ' ',\n",
       " 9: ' ',\n",
       " 10: ' ',\n",
       " 11: ' ',\n",
       " 12: ' ',\n",
       " 13: ' ',\n",
       " 14: ' ',\n",
       " 15: ' ',\n",
       " 16: ' ',\n",
       " 17: ' ',\n",
       " 18: ' ',\n",
       " 19: ' ',\n",
       " 20: ' ',\n",
       " 21: ' ',\n",
       " 22: ' ',\n",
       " 23: ' ',\n",
       " '08': 1,\n",
       " 'Date': '2015-02-19',\n",
       " 'Day': 3}"
      ]
     },
     "execution_count": 56,
     "metadata": {},
     "output_type": "execute_result"
    }
   ],
   "source": [
    "cofdat"
   ]
  },
  {
   "cell_type": "code",
   "execution_count": 60,
   "metadata": {
    "collapsed": true
   },
   "outputs": [],
   "source": [
    "sincofd = dict()"
   ]
  },
  {
   "cell_type": "code",
   "execution_count": 61,
   "metadata": {
    "collapsed": true
   },
   "outputs": [],
   "source": [
    "import getpass"
   ]
  },
  {
   "cell_type": "code",
   "execution_count": 63,
   "metadata": {
    "collapsed": false
   },
   "outputs": [],
   "source": [
    "gusr = getpass.getuser()"
   ]
  },
  {
   "cell_type": "code",
   "execution_count": 64,
   "metadata": {
    "collapsed": false
   },
   "outputs": [
    {
     "data": {
      "text/plain": [
       "'wcmckee'"
      ]
     },
     "execution_count": 64,
     "metadata": {},
     "output_type": "execute_result"
    }
   ],
   "source": [
    "gusr"
   ]
  },
  {
   "cell_type": "code",
   "execution_count": 65,
   "metadata": {
    "collapsed": true
   },
   "outputs": [],
   "source": [
    "#Outlet is username of sales person"
   ]
  },
  {
   "cell_type": "code",
   "execution_count": 67,
   "metadata": {
    "collapsed": true
   },
   "outputs": [],
   "source": [
    "#Product is coffee name. \n",
    "#Open and read file that the customer asks\n",
    "#for type of coffee. \n",
    "#Have a order folder that coffees are \n",
    "#qued into. \n",
    "#Sellcoffee folder\n",
    "#Usernames - customers\n",
    "#Staff - Staff list"
   ]
  },
  {
   "cell_type": "code",
   "execution_count": 78,
   "metadata": {
    "collapsed": true
   },
   "outputs": [],
   "source": [
    "#opctype = open('/home/wcmckee/sellcoffee/usernames/')"
   ]
  },
  {
   "cell_type": "code",
   "execution_count": 82,
   "metadata": {
    "collapsed": true
   },
   "outputs": [],
   "source": [
    "coftag = ('coffee, soymilk')"
   ]
  },
  {
   "cell_type": "code",
   "execution_count": 85,
   "metadata": {
    "collapsed": true
   },
   "outputs": [],
   "source": [
    "#Amount of coffee sales\n",
    "cofsal = 45"
   ]
  },
  {
   "cell_type": "code",
   "execution_count": 86,
   "metadata": {
    "collapsed": false
   },
   "outputs": [],
   "source": [
    "salstot = 4 * cofsal"
   ]
  },
  {
   "cell_type": "code",
   "execution_count": 88,
   "metadata": {
    "collapsed": false
   },
   "outputs": [],
   "source": [
    "sincofd.update({'Outlet': gusr})\n",
    "\n",
    "sincofd.update({'Product': 'flatwhite'})\n",
    "\n",
    "sincofd.update({'ID': 1000})\n",
    "#Tags for this sale. \n",
    "sincofd.update({'tags': coftag})\n",
    "#Sales count of that product\n",
    "sincofd.update({'count': 45})\n",
    "sincofd.update({'sales': salstot})"
   ]
  },
  {
   "cell_type": "code",
   "execution_count": 89,
   "metadata": {
    "collapsed": false
   },
   "outputs": [
    {
     "data": {
      "text/plain": [
       "{'ID': 1000,\n",
       " 'Outlet': 'wcmckee',\n",
       " 'Product': 'flatwhite',\n",
       " 'count': 45,\n",
       " 'sales': 180,\n",
       " 'tags': 'coffee, soymilk'}"
      ]
     },
     "execution_count": 89,
     "metadata": {},
     "output_type": "execute_result"
    }
   ],
   "source": [
    "sincofd"
   ]
  },
  {
   "cell_type": "code",
   "execution_count": 72,
   "metadata": {
    "collapsed": true
   },
   "outputs": [],
   "source": [
    "#Need a list of coffee types\n",
    "#and assign ID to each coffee."
   ]
  }
 ],
 "metadata": {
  "kernelspec": {
   "display_name": "Python 2",
   "name": "python2"
  },
  "language_info": {
   "codemirror_mode": {
    "name": "ipython",
    "version": 2
   },
   "file_extension": ".py",
   "mimetype": "text/x-python",
   "name": "python",
   "nbconvert_exporter": "python",
   "pygments_lexer": "ipython2",
   "version": "2.7.8"
  }
 },
 "nbformat": 4,
 "nbformat_minor": 0
}
