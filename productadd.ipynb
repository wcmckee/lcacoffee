{
 "cells": [
  {
   "cell_type": "markdown",
   "metadata": {},
   "source": [
    "<h1>Product Add</h1>\n",
    "\n",
    "Script to add a new product to list of them. Location is /home/wcmckee/sellcoffee/products.\n",
    "\n",
    "Better to have a file for products or a folder? Might be easier to have a folder.\n",
    "Each product has rsa key - public and private key.\n",
    "\n",
    "Make json restful api that has product list. Append new product to it whenever it's updated. \n"
   ]
  },
  {
   "cell_type": "code",
   "execution_count": 22,
   "metadata": {
    "collapsed": false
   },
   "outputs": [],
   "source": [
    "import os\n",
    "import time\n",
    "import datetime\n",
    "import json\n",
    "import getpass\n",
    "import arrow\n",
    "#import satchless\n",
    "#from satchless.item import ItemLine\n",
    "\n",
    "#from TwitterFollowBot import TwitterBot\n",
    "#from passlib.hash import pbkdf2_sha256\n",
    "#import crypt, getpass, spwd\n",
    "#from Crypto.PublicKey import RSA\n",
    "#import crypto\n",
    "#import rsa"
   ]
  },
  {
   "cell_type": "code",
   "execution_count": null,
   "metadata": {
    "collapsed": true
   },
   "outputs": [],
   "source": []
  },
  {
   "cell_type": "code",
   "execution_count": 5,
   "metadata": {
    "collapsed": true
   },
   "outputs": [],
   "source": [
    "myusr = getpass.getuser()"
   ]
  },
  {
   "cell_type": "code",
   "execution_count": 6,
   "metadata": {
    "collapsed": false
   },
   "outputs": [],
   "source": [
    "#brotwe = TwitterBot('/home/{}/github/wcmckee-notebook/config.txt'.format(myusr))"
   ]
  },
  {
   "cell_type": "code",
   "execution_count": 7,
   "metadata": {
    "collapsed": false
   },
   "outputs": [],
   "source": [
    "yearz = time.strftime(\"%y\", time.gmtime())\n",
    "monthz = time.strftime(\"%m\", time.gmtime())\n",
    "dayz = time.strftime(\"%d\", time.gmtime())"
   ]
  },
  {
   "cell_type": "code",
   "execution_count": 8,
   "metadata": {
    "collapsed": false
   },
   "outputs": [],
   "source": [
    "datez = yearz + monthz + dayz"
   ]
  },
  {
   "cell_type": "code",
   "execution_count": 9,
   "metadata": {
    "collapsed": false
   },
   "outputs": [],
   "source": [
    "prodirz = ('/home/{}/sellcoffee/posts/'.format(myusr))"
   ]
  },
  {
   "cell_type": "code",
   "execution_count": 11,
   "metadata": {
    "collapsed": false
   },
   "outputs": [],
   "source": [
    "prolis = os.listdir(prodirz)"
   ]
  },
  {
   "cell_type": "code",
   "execution_count": 15,
   "metadata": {
    "collapsed": false
   },
   "outputs": [
    {
     "name": "stdout",
     "output_type": "stream",
     "text": [
      "['nanowrimo15-day29.meta', 'nanowrimo15-day21.rst', 'someone.rst', 'edr-sprint-william.rst', 'william-mckee-on-cc-remix.meta', 'william-mckee-on-cc-remix.rst', 'peppercarrot02.meta', 'nanowrimo15-day7.meta', '.~lock.william-mckee-on-cc.rst#', 'peppercarrot09.meta', 'nanowrimo15-day4.meta', 'meeting-2015-12-16.rst', 'hard-decisions.rst.new', 'nanowrimo15-day2.meta', 'hcc.meta', 'wikieducator-begin.rst', 'william-mckee-on-cc.rst', 'nanowrimo15-day23.meta', 'campnanowrimo16-day03.rst', 'nanowrimo15-day1-edit.meta', 'Mat-Hoffmans-Pro-BMX-review.meta', 'downout.rst', 'kiwipycon-travelbac.rst', 'peppercarrot05.rst', 'meeting-2015-12-16.meta', 'nanowrimo15-day13.rst', 'nanowrimo15-day2-edit.rst', 'campnanowrimo16-day01.rst', 'nanowrimo15-day29.rst', 'prenano.rst', 'nanowrimo15-day16.rst', 'peppercarrot02.rst', 'nanowrimo15-day5.rst', 'prenano.meta', 'schoolccpolicy.rst', 'ftw.rst', 'nanowrimo15-day19.meta', 'kiwipycon2015.meta', 'cc-growth.meta', 'peppercarrot10.rst', 'sherlock.meta', 'review-thegrapesofwrath.meta', 'nanowrimo15-day10.meta', 'nanowrimo15-day3.rst', 'nanowrimo15-day21.meta', 'nanowrimo15-day25.meta', 'spikeinfosec.meta', 'downout.md', 'peppercarrot12.meta', 'myPhysRomance.rst~', 'peppercarrot01.rst', 'campnanowrimo16-day02.rst', 'edr-sprint.meta', 'nanowrimo15-day17.meta', 'hcc.rst', 'campnanowrimo16-day03.meta', 'nanowrimo15-day1.rst', 'peppercarrot11.rst', 'campnanowrimo16-day05.rst', 'peppercarrot08.rst', 'nanowrimo15-day6.rst', 'william-mckee-on-cc.meta', 'devmob15-reflection.rst', 'nanowrimo15-day4.rst', 'nanowrimo15-day25.rst', 'nanowrimo15-day13.meta', 'edr-sprint.rst', 'will-tlc.meta', 'kiwipycon2015.rst', 'peppercarrot07.meta', 'peppercarrot01.meta', '#nanowrimo15-day24.rst#', 'nanowrimo15-day5.meta', 'peppercarrot09.rst', 'creativecommons.meta', 'creativecommons.rst', 'nanowrimo15-day22.rst', 'nanowrimo15-day2-edit2.rst', '#nanowrimo15-day25.rst#', 'wikieducator-begin.meta', 'fallofgiants.meta', 'downout.meta', 'nanowrimo15-day9.rst', 'nanowrimo15-day24.rst', 'public-mediastudies.meta', 'meeting-2015-12-02.meta', 'myPhysRomance.rst', 'nanowrimo15-day14.meta', 'peppercarrot07.rst', 'est.rst', 'campnanowrimo16-day05.meta', 'Mat-Hoffmans-Pro-BMX-review.rst', 'python.md', 'nanowrimo15-day7.rst', 'campnanowrimo16-day03.rst~', 'overclocked.rst', 'nanowrimo15-day26.meta', 'nzdevmob2015.rst', 'copywrong.rst', 'meeting-2015-12-02.rst', 'overclocked.meta', 'cc-growth.rst', 'someone.meta', 'myPhysRomance.meta~', 'will-tlc.rst', 'python.meta', 'nanowrimo15-day12.rst', 'peppercarrot06.rst', 'nanowrimo15-day28.meta', 'kiwipycon-travelbac.meta', 'Spyro-Year-Of-Dragon-review.rst', 'nanowrimo15-day11.rst', 'nanowrimo15-day16.meta', 'nanowrimo15-day30.meta', 'nanowrimo15-day3.meta', 'nanowrimo15-day12.meta', 'nanowrimo15-day26.rst', 'peppercarrot10.meta', 'nanowrimo15-day15.rst', 'nanowrimo15-day22.meta', 'peppercarrot12.rst', 'nanowrimo15-day24.meta', 'peppercarrot03.rst', 'nanowrimo15-day8.rst', 'peppercarrot05.meta', 'nanowrimo15-day11.meta', 'nanowrimo15-day1.meta', 'nzdevmob2015.meta', 'nanowrimo15-day19.rst', 'peppercarrot04.meta', 'myPhysRomance.meta', 'peppercarrot03.meta', 'est.meta', 'nanowrimo15-day20.rst', 'nanowrimo15-day10.rst', 'campnanowrimo16-day01.meta', 'review-thegrapesofwrath.rst', 'peppercarrot04.rst', 'nanowrimo15-day18.rst', 'peppercarrot06.rst~', 'nanowrimo15-day17.rst', 'nanowrimo15-day2.rst', 'nanowrimo15-day18.meta', 'nanowrimo15-day27.meta', 'nanowrimo15-day20.meta', 'nanowrimo15-day1-edit.rst', 'nanowrimo15-day2-edit.meta', 'peppercarrot08.meta', 'peppercarrot06.meta', 'edr-sprint-william.meta', 'public-mediastudies.rst', 'nanowrimo15-day15.meta', 'hard-decisions.meta', 'hard-decisions.rst', 'nanowrimo15-day28.rst', 'spikeinfosec.rst', 'fallofgiants.rst', 'nanowrimo15-day27.rst', 'Spyro-Year-Of-Dragon-review.meta', 'campnanowrimo16-day02.meta', 'nanowrimo15-day8.meta', 'nanowrimo15-day14.rst', 'peppercarrot11.meta', 'copywrong.meta', 'ftw.meta', 'devmob15-reflection.meta', 'nanowrimo15-day2-edit2.meta', 'nanowrimo15-day6.meta', 'sherlock.rst', 'nanowrimo15-day23.rst', 'nanowrimo15-day9.meta', 'schoolccpolicy.meta', 'nanowrimo15-day30.rst']\n"
     ]
    }
   ],
   "source": [
    "print(prolis)"
   ]
  },
  {
   "cell_type": "code",
   "execution_count": 13,
   "metadata": {
    "collapsed": false
   },
   "outputs": [
    {
     "name": "stdout",
     "output_type": "stream",
     "text": [
      "Name of product to add: peppercarrot-daynew\n"
     ]
    }
   ],
   "source": [
    "prodoadd = input('Name of product to add: ')"
   ]
  },
  {
   "cell_type": "code",
   "execution_count": 16,
   "metadata": {
    "collapsed": false
   },
   "outputs": [
    {
     "name": "stdout",
     "output_type": "stream",
     "text": [
      "Cost in NZD: 350\n"
     ]
    }
   ],
   "source": [
    "priceofit = input('Cost in NZD: ')"
   ]
  },
  {
   "cell_type": "code",
   "execution_count": 17,
   "metadata": {
    "collapsed": false
   },
   "outputs": [
    {
     "name": "stdout",
     "output_type": "stream",
     "text": [
      "Amount to stock: 3\n"
     ]
    }
   ],
   "source": [
    "amoun = input('Amount to stock: ')"
   ]
  },
  {
   "cell_type": "code",
   "execution_count": 18,
   "metadata": {
    "collapsed": false
   },
   "outputs": [],
   "source": [
    "#class Shrubberies(ItemLine):\n",
    "#    def __init__(self, qty): self.qty = qty\n",
    "#    def get_quantity(self): return self.qty\n",
    "#    def get_price_per_item(self): return prices.Price(int(priceofit), currency='NZD')\n",
    "\n",
    "#shrubberies = Shrubberies(int(amoun))\n",
    "#shrubberies.get_total()"
   ]
  },
  {
   "cell_type": "code",
   "execution_count": 19,
   "metadata": {
    "collapsed": false
   },
   "outputs": [
    {
     "ename": "NameError",
     "evalue": "name 'shrubberies' is not defined",
     "output_type": "error",
     "traceback": [
      "\u001b[1;31m---------------------------------------------------------------------------\u001b[0m",
      "\u001b[1;31mNameError\u001b[0m                                 Traceback (most recent call last)",
      "\u001b[1;32m<ipython-input-19-1671ac124703>\u001b[0m in \u001b[0;36m<module>\u001b[1;34m()\u001b[0m\n\u001b[1;32m----> 1\u001b[1;33m \u001b[0mshrubberies\u001b[0m\u001b[1;33m.\u001b[0m\u001b[0mqty\u001b[0m\u001b[1;33m\u001b[0m\u001b[0m\n\u001b[0m",
      "\u001b[1;31mNameError\u001b[0m: name 'shrubberies' is not defined"
     ]
    }
   ],
   "source": [
    "#shrubberies.qty"
   ]
  },
  {
   "cell_type": "code",
   "execution_count": 56,
   "metadata": {
    "collapsed": false
   },
   "outputs": [
    {
     "data": {
      "text/plain": [
       "Price('300', currency='NZD')"
      ]
     },
     "execution_count": 56,
     "metadata": {},
     "output_type": "execute_result"
    }
   ],
   "source": [
    "#shrubberies.get_price_per_item()"
   ]
  },
  {
   "cell_type": "code",
   "execution_count": 69,
   "metadata": {
    "collapsed": false
   },
   "outputs": [
    {
     "data": {
      "text/plain": [
       "'/home/wcm/sellcoffee/posts/angelique'"
      ]
     },
     "execution_count": 69,
     "metadata": {},
     "output_type": "execute_result"
    }
   ],
   "source": [
    "#prodirz + prodoadd "
   ]
  },
  {
   "cell_type": "code",
   "execution_count": 23,
   "metadata": {
    "collapsed": false
   },
   "outputs": [],
   "source": [
    "raw = arrow.now()\n",
    "\n",
    "yraw = raw.strftime(\"%Y\")\n",
    "mntaw = raw.strftime(\"%m\")\n",
    "dytaw = raw.strftime(\"%d\")\n",
    "\n",
    "fulda = yraw + '/' + mntaw + '/' + dytaw\n",
    "\n",
    "fultim = fulda + ' ' + raw.strftime('%H:%M:%S')"
   ]
  },
  {
   "cell_type": "code",
   "execution_count": null,
   "metadata": {
    "collapsed": true
   },
   "outputs": [],
   "source": []
  },
  {
   "cell_type": "code",
   "execution_count": 28,
   "metadata": {
    "collapsed": true
   },
   "outputs": [],
   "source": [
    "with open(prodirz + prodoadd + '.rst', 'w') as oprod:\n",
    "    oprod.write(prodoadd + '\\n\\nprice: ' + priceofit + '\\n\\ntotal stock: ' + amoun)\n",
    "    #print(oprod)"
   ]
  },
  {
   "cell_type": "code",
   "execution_count": 25,
   "metadata": {
    "collapsed": true
   },
   "outputs": [],
   "source": [
    "with open(prodirz + prodoadd + '.meta', 'w') as daympo: \n",
    "    daympo.write('.. title: {} \\n.. slug: {} \\n.. date: {} \\n.. author: {}'.format(prodoadd, prodoadd, fultim, myusr))"
   ]
  },
  {
   "cell_type": "code",
   "execution_count": 36,
   "metadata": {
    "collapsed": true
   },
   "outputs": [],
   "source": [
    "prodirc = (prodirz + prodoadd)"
   ]
  },
  {
   "cell_type": "code",
   "execution_count": 38,
   "metadata": {
    "collapsed": false
   },
   "outputs": [
    {
     "data": {
      "text/plain": [
       "'/home/wcm/sellcoffee/posts/angelique'"
      ]
     },
     "execution_count": 38,
     "metadata": {},
     "output_type": "execute_result"
    }
   ],
   "source": [
    "prodirc"
   ]
  },
  {
   "cell_type": "code",
   "execution_count": 37,
   "metadata": {
    "collapsed": false
   },
   "outputs": [],
   "source": [
    "#os.mkdir(prodirc)"
   ]
  },
  {
   "cell_type": "code",
   "execution_count": 39,
   "metadata": {
    "collapsed": false
   },
   "outputs": [],
   "source": [
    "#opmeta = open(prodirc + '/' +  prodoadd + '-amount', 'w')\n",
    "\n",
    "#opmeta.write('0')\n",
    "\n",
    "#opmeta.close()"
   ]
  },
  {
   "cell_type": "code",
   "execution_count": 40,
   "metadata": {
    "collapsed": true
   },
   "outputs": [],
   "source": [
    "opforc = open(prodirc + prodoadd + 'index.json', 'w')"
   ]
  },
  {
   "cell_type": "code",
   "execution_count": 41,
   "metadata": {
    "collapsed": true
   },
   "outputs": [],
   "source": [
    "dicprod = dict()"
   ]
  },
  {
   "cell_type": "code",
   "execution_count": 42,
   "metadata": {
    "collapsed": false
   },
   "outputs": [
    {
     "data": {
      "text/plain": [
       "{}"
      ]
     },
     "execution_count": 42,
     "metadata": {},
     "output_type": "execute_result"
    }
   ],
   "source": [
    "dicprod"
   ]
  },
  {
   "cell_type": "code",
   "execution_count": 43,
   "metadata": {
    "collapsed": false
   },
   "outputs": [],
   "source": [
    "#id for each item. Starts at 1000 and up to 9999\n",
    "#to make id it gets len of items in products folder and plus\n",
    "#1000.\n",
    "\n",
    "totprods = len(prolis)\n",
    "\n",
    "newids = totprods + 1000\n",
    "\n",
    "opmeta = open(prodirc + '/' +  prodoadd + '-id', 'w')\n",
    "\n",
    "opmeta.write(str(newids))\n",
    "\n",
    "opmeta.close()"
   ]
  },
  {
   "cell_type": "code",
   "execution_count": 69,
   "metadata": {
    "collapsed": true
   },
   "outputs": [],
   "source": [
    "#switching to folders for each product. Inside folder has rsa\n",
    "#and rsa.public.\n"
   ]
  },
  {
   "cell_type": "code",
   "execution_count": 70,
   "metadata": {
    "collapsed": false
   },
   "outputs": [],
   "source": [
    "dicprod.update({'name' : prodoadd})\n",
    "\n",
    "dicprod.update({'id' : str(newids)})\n",
    "\n",
    "dicprod.update({'datecreate' : datez})"
   ]
  },
  {
   "cell_type": "code",
   "execution_count": 71,
   "metadata": {
    "collapsed": true
   },
   "outputs": [],
   "source": [
    "adtwez = ('Added ' + prodoadd + ' id ' + str(newids))"
   ]
  },
  {
   "cell_type": "code",
   "execution_count": 72,
   "metadata": {
    "collapsed": false
   },
   "outputs": [
    {
     "data": {
      "text/plain": [
       "<TwitterFollowBot.TwitterBot at 0x71dfa290>"
      ]
     },
     "execution_count": 72,
     "metadata": {},
     "output_type": "execute_result"
    }
   ],
   "source": [
    "#brotwe "
   ]
  },
  {
   "cell_type": "code",
   "execution_count": 70,
   "metadata": {
    "collapsed": false
   },
   "outputs": [
    {
     "ename": "NameError",
     "evalue": "name 'adtwez' is not defined",
     "output_type": "error",
     "traceback": [
      "\u001b[1;31m---------------------------------------------------------------------------\u001b[0m",
      "\u001b[1;31mNameError\u001b[0m                                 Traceback (most recent call last)",
      "\u001b[1;32m<ipython-input-70-6092f9e0bf93>\u001b[0m in \u001b[0;36m<module>\u001b[1;34m()\u001b[0m\n\u001b[1;32m----> 1\u001b[1;33m \u001b[0madtwez\u001b[0m\u001b[1;33m\u001b[0m\u001b[0m\n\u001b[0m",
      "\u001b[1;31mNameError\u001b[0m: name 'adtwez' is not defined"
     ]
    }
   ],
   "source": [
    "#adtwez"
   ]
  },
  {
   "cell_type": "code",
   "execution_count": 74,
   "metadata": {
    "collapsed": false
   },
   "outputs": [
    {
     "name": "stdout",
     "output_type": "stream",
     "text": [
      "retweeted: b'RT @stupidmindlessf: Good morning #gamedev! How angry and alive are you today?'\n"
     ]
    }
   ],
   "source": [
    "#brotwe.auto_rt('#gamedev', count=1)"
   ]
  },
  {
   "cell_type": "code",
   "execution_count": null,
   "metadata": {
    "collapsed": true
   },
   "outputs": [],
   "source": []
  },
  {
   "cell_type": "code",
   "execution_count": 71,
   "metadata": {
    "collapsed": false
   },
   "outputs": [],
   "source": [
    "#brotwe.send_tweet(adtwez)"
   ]
  },
  {
   "cell_type": "code",
   "execution_count": null,
   "metadata": {
    "collapsed": true
   },
   "outputs": [],
   "source": []
  },
  {
   "cell_type": "code",
   "execution_count": 72,
   "metadata": {
    "collapsed": false
   },
   "outputs": [],
   "source": [
    "tigm = time.strftime(\"%H %M %S\", time.gmtime())"
   ]
  },
  {
   "cell_type": "code",
   "execution_count": 73,
   "metadata": {
    "collapsed": false
   },
   "outputs": [],
   "source": [
    "timech =tigm.replace(' ', '')"
   ]
  },
  {
   "cell_type": "code",
   "execution_count": 74,
   "metadata": {
    "collapsed": true
   },
   "outputs": [],
   "source": [
    "dicprod.update({'timecreate' : timech})"
   ]
  },
  {
   "cell_type": "code",
   "execution_count": null,
   "metadata": {
    "collapsed": true
   },
   "outputs": [],
   "source": []
  },
  {
   "cell_type": "code",
   "execution_count": 75,
   "metadata": {
    "collapsed": false
   },
   "outputs": [
    {
     "data": {
      "text/plain": [
       "{'timecreate': '045234'}"
      ]
     },
     "execution_count": 75,
     "metadata": {},
     "output_type": "execute_result"
    }
   ],
   "source": [
    "dicprod"
   ]
  },
  {
   "cell_type": "code",
   "execution_count": 76,
   "metadata": {
    "collapsed": true
   },
   "outputs": [],
   "source": [
    "prodoaddz = dict()"
   ]
  },
  {
   "cell_type": "code",
   "execution_count": 77,
   "metadata": {
    "collapsed": false
   },
   "outputs": [],
   "source": [
    "prodoaddz.update({prodoadd : dicprod})"
   ]
  },
  {
   "cell_type": "code",
   "execution_count": 78,
   "metadata": {
    "collapsed": false
   },
   "outputs": [
    {
     "data": {
      "text/plain": [
       "{'angelique': {'timecreate': '045234'}}"
      ]
     },
     "execution_count": 78,
     "metadata": {},
     "output_type": "execute_result"
    }
   ],
   "source": [
    "prodoaddz"
   ]
  },
  {
   "cell_type": "code",
   "execution_count": 79,
   "metadata": {
    "collapsed": false
   },
   "outputs": [
    {
     "data": {
      "text/plain": [
       "'{\"angelique\": {\"timecreate\": \"045234\"}}'"
      ]
     },
     "execution_count": 79,
     "metadata": {},
     "output_type": "execute_result"
    }
   ],
   "source": [
    "json.dumps(prodoaddz)"
   ]
  },
  {
   "cell_type": "code",
   "execution_count": 19,
   "metadata": {
    "collapsed": true
   },
   "outputs": [],
   "source": [
    "#opnewp = open(prodirz + prodoadd, 'w')\n",
    "\n",
    "##opnewp.write('0')"
   ]
  },
  {
   "cell_type": "code",
   "execution_count": null,
   "metadata": {
    "collapsed": true
   },
   "outputs": [],
   "source": []
  },
  {
   "cell_type": "code",
   "execution_count": null,
   "metadata": {
    "collapsed": true
   },
   "outputs": [],
   "source": []
  },
  {
   "cell_type": "code",
   "execution_count": 112,
   "metadata": {
    "collapsed": false
   },
   "outputs": [],
   "source": [
    "#new_key = RSA.generate(2048, e=65537)\n",
    "#public_key = new_key.publickey().exportKey(\"PEM\")\n",
    "#private_key = new_key.exportKey(\"PEM\")\n",
    "#print(private_key)\n",
    "\n",
    "#sapriv = open(prodirc + '/' + prodoadd, 'w')\n",
    "#sapriv.write(private_key)\n",
    "#sapriv.close()\n",
    "\n",
    "#print public_key \n",
    "#papriv =  open(prodirc + '/' +  prodoadd + '.pub', 'w')\n",
    "#papriv.write(public_key)\n",
    "#papriv.close()"
   ]
  },
  {
   "cell_type": "code",
   "execution_count": null,
   "metadata": {
    "collapsed": true
   },
   "outputs": [],
   "source": []
  },
  {
   "cell_type": "code",
   "execution_count": null,
   "metadata": {
    "collapsed": true
   },
   "outputs": [],
   "source": []
  },
  {
   "cell_type": "code",
   "execution_count": null,
   "metadata": {
    "collapsed": true
   },
   "outputs": [],
   "source": []
  },
  {
   "cell_type": "code",
   "execution_count": 21,
   "metadata": {
    "collapsed": true
   },
   "outputs": [],
   "source": [
    "#dict that has all the product details. When it was first\n",
    "#created. Price. \n",
    "#amount sold. This value will be zero when a product is created\n",
    "#but add 1 with productsell script. \n",
    "#Store amount sold data in dict\n",
    "#or just a file called productname-amountsold.\n"
   ]
  },
  {
   "cell_type": "code",
   "execution_count": null,
   "metadata": {
    "collapsed": true
   },
   "outputs": [],
   "source": []
  },
  {
   "cell_type": "code",
   "execution_count": 22,
   "metadata": {
    "collapsed": true
   },
   "outputs": [],
   "source": [
    "#opnewp.close()"
   ]
  },
  {
   "cell_type": "code",
   "execution_count": 23,
   "metadata": {
    "collapsed": false
   },
   "outputs": [],
   "source": [
    "#for prol in prolis:\n",
    "#    print prol\n",
    "#    adprod = open(prodirz + prol + '.meta', 'w')\n",
    "#    adprod.write("
   ]
  },
  {
   "cell_type": "code",
   "execution_count": 24,
   "metadata": {
    "collapsed": true
   },
   "outputs": [],
   "source": [
    "\n",
    "#adprod = open(pro"
   ]
  }
 ],
 "metadata": {
  "kernelspec": {
   "display_name": "Python 3",
   "language": "python",
   "name": "python3"
  },
  "language_info": {
   "codemirror_mode": {
    "name": "ipython",
    "version": 3
   },
   "file_extension": ".py",
   "mimetype": "text/x-python",
   "name": "python",
   "nbconvert_exporter": "python",
   "pygments_lexer": "ipython3",
   "version": "3.4.2"
  }
 },
 "nbformat": 4,
 "nbformat_minor": 0
}
