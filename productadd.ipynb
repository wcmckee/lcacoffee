{
 "cells": [
  {
   "cell_type": "markdown",
   "metadata": {},
   "source": [
    "<h1>Product Add</h1>\n",
    "\n",
    "Script to add a new product to list of them. Location is /home/wcmckee/sellcoffee/products.\n",
    "\n",
    "Better to have a file for products or a folder? Might be easier to have a folder.\n",
    "Each product has rsa key - public and private key.\n"
   ]
  },
  {
   "cell_type": "code",
   "execution_count": 48,
   "metadata": {
    "collapsed": true
   },
   "outputs": [],
   "source": [
    "import os\n",
    "#from passlib.hash import pbkdf2_sha256\n",
    "#import crypt, getpass, spwd\n",
    "#from Crypto.PublicKey import RSA"
   ]
  },
  {
   "cell_type": "code",
   "execution_count": 49,
   "metadata": {
    "collapsed": false
   },
   "outputs": [],
   "source": [
    "prodirz = ('/home/wcmckee/sellcoffee/products/')"
   ]
  },
  {
   "cell_type": "code",
   "execution_count": 50,
   "metadata": {
    "collapsed": false
   },
   "outputs": [],
   "source": [
    "prolis = os.listdir(prodirz)"
   ]
  },
  {
   "cell_type": "code",
   "execution_count": 51,
   "metadata": {
    "collapsed": false
   },
   "outputs": [
    {
     "name": "stdout",
     "output_type": "stream",
     "text": [
      "['debian', 'internet', 'python', 'hat', 'pepsi', 'fedora', 'coke', 'chips']\n"
     ]
    }
   ],
   "source": [
    "print prolis"
   ]
  },
  {
   "cell_type": "code",
   "execution_count": 52,
   "metadata": {
    "collapsed": false
   },
   "outputs": [
    {
     "name": "stdout",
     "output_type": "stream",
     "text": [
      "Name of product to add: deb\n"
     ]
    }
   ],
   "source": [
    "prodoadd = raw_input('Name of product to add: ')"
   ]
  },
  {
   "cell_type": "code",
   "execution_count": 53,
   "metadata": {
    "collapsed": true
   },
   "outputs": [],
   "source": [
    "prodirc = (prodirz + prodoadd)"
   ]
  },
  {
   "cell_type": "code",
   "execution_count": 54,
   "metadata": {
    "collapsed": false
   },
   "outputs": [],
   "source": [
    "os.mkdir(prodirc)"
   ]
  },
  {
   "cell_type": "code",
   "execution_count": 55,
   "metadata": {
    "collapsed": true
   },
   "outputs": [],
   "source": [
    "opmeta = open(prodirc + '/' +  prodoadd + '-amount', 'w')\n",
    "\n",
    "opmeta.write('0')\n",
    "\n",
    "opmeta.close()"
   ]
  },
  {
   "cell_type": "code",
   "execution_count": 57,
   "metadata": {
    "collapsed": false
   },
   "outputs": [],
   "source": [
    "#id for each item. Starts at 1000 and up to 9999\n",
    "#to make id it gets len of items in products folder and plus\n",
    "#1000.\n",
    "\n",
    "totprods = len(prolis)\n",
    "\n",
    "newids = totprods + 1000\n",
    "\n",
    "opmeta = open(prodirc + '/' +  prodoadd + '-id', 'w')\n",
    "\n",
    "opmeta.write(str(newids))\n",
    "\n",
    "opmeta.close()"
   ]
  },
  {
   "cell_type": "code",
   "execution_count": 38,
   "metadata": {
    "collapsed": true
   },
   "outputs": [],
   "source": [
    "#switching to folders for each product. Inside folder has rsa\n",
    "#and rsa.public.\n"
   ]
  },
  {
   "cell_type": "code",
   "execution_count": 39,
   "metadata": {
    "collapsed": true
   },
   "outputs": [],
   "source": [
    "#opnewp = open(prodirz + prodoadd, 'w')\n",
    "\n",
    "##opnewp.write('0')"
   ]
  },
  {
   "cell_type": "code",
   "execution_count": 43,
   "metadata": {
    "collapsed": false
   },
   "outputs": [],
   "source": [
    "#new_key = RSA.generate(2048, e=65537)\n",
    "#public_key = new_key.publickey().exportKey(\"PEM\")\n",
    "#private_key = new_key.exportKey(\"PEM\")\n",
    "#print private_key \n",
    "#sapriv = open(prodirc + '/' + prodoadd, 'w')\n",
    "#sapriv.write(private_key)\n",
    "#sapriv.close()\n",
    "\n",
    "#print public_key \n",
    "#papriv =  open(prodirc + '/' +  prodoadd + '.pub', 'w')\n",
    "#papriv.write(public_key)\n",
    "#papriv.close()"
   ]
  },
  {
   "cell_type": "code",
   "execution_count": 41,
   "metadata": {
    "collapsed": true
   },
   "outputs": [],
   "source": [
    "#dict that has all the product details. When it was first\n",
    "#created. Price. \n",
    "#amount sold. This value will be zero when a product is created\n",
    "#but add 1 with productsell script. \n",
    "#Store amount sold data in dict\n",
    "#or just a file called productname-amountsold.\n"
   ]
  },
  {
   "cell_type": "code",
   "execution_count": null,
   "metadata": {
    "collapsed": true
   },
   "outputs": [],
   "source": []
  },
  {
   "cell_type": "code",
   "execution_count": null,
   "metadata": {
    "collapsed": true
   },
   "outputs": [],
   "source": [
    "#opnewp.close()"
   ]
  },
  {
   "cell_type": "code",
   "execution_count": 11,
   "metadata": {
    "collapsed": false
   },
   "outputs": [
    {
     "name": "stdout",
     "output_type": "stream",
     "text": [
      "debian\n",
      "internet\n",
      "python\n",
      "coffee\n",
      "tired\n",
      "snake\n",
      "vogals\n",
      "sleep\n"
     ]
    }
   ],
   "source": [
    "#for prol in prolis:\n",
    "#    print prol\n",
    "#    adprod = open(prodirz + prol + '.meta', 'w')\n",
    "#    adprod.write("
   ]
  },
  {
   "cell_type": "code",
   "execution_count": null,
   "metadata": {
    "collapsed": true
   },
   "outputs": [],
   "source": []
  },
  {
   "cell_type": "code",
   "execution_count": null,
   "metadata": {
    "collapsed": true
   },
   "outputs": [],
   "source": [
    "\n",
    "#adprod = open(pro"
   ]
  },
  {
   "cell_type": "code",
   "execution_count": null,
   "metadata": {
    "collapsed": true
   },
   "outputs": [],
   "source": []
  }
 ],
 "metadata": {
  "kernelspec": {
   "display_name": "Python 2",
   "name": "python2"
  },
  "language_info": {
   "codemirror_mode": {
    "name": "ipython",
    "version": 2
   },
   "file_extension": ".py",
   "mimetype": "text/x-python",
   "name": "python",
   "nbconvert_exporter": "python",
   "pygments_lexer": "ipython2",
   "version": "2.7.8"
  }
 },
 "nbformat": 4,
 "nbformat_minor": 0
}
