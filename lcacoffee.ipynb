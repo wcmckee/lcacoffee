{
 "cells": [
  {
   "cell_type": "markdown",
   "metadata": {},
   "source": [
    "<h1>lcacoffee</h1>\n",
    "\n",
    "script that displays coffees sold by hour at lca2015.\n",
    "Currently it opens a .json file and converts it into a python dict. "
   ]
  },
  {
   "cell_type": "code",
   "execution_count": 7,
   "metadata": {
    "collapsed": false
   },
   "outputs": [],
   "source": [
    "import json\n",
    "import os\n",
    "import pandas"
   ]
  },
  {
   "cell_type": "code",
   "execution_count": 8,
   "metadata": {
    "collapsed": true
   },
   "outputs": [],
   "source": [
    "opcvs = open('/home/wcmckee/Downloads/convertcsv.json', 'r')"
   ]
  },
  {
   "cell_type": "code",
   "execution_count": 9,
   "metadata": {
    "collapsed": false
   },
   "outputs": [],
   "source": [
    "opzrd = opcvs.read()"
   ]
  },
  {
   "cell_type": "code",
   "execution_count": 10,
   "metadata": {
    "collapsed": false
   },
   "outputs": [],
   "source": [
    "jdunp = json.loads(opzrd)"
   ]
  },
  {
   "cell_type": "code",
   "execution_count": 11,
   "metadata": {
    "collapsed": true
   },
   "outputs": [],
   "source": [
    "valia = []"
   ]
  },
  {
   "cell_type": "code",
   "execution_count": 12,
   "metadata": {
    "collapsed": false
   },
   "outputs": [],
   "source": [
    "#pandas.read_json(jdunp)"
   ]
  },
  {
   "cell_type": "code",
   "execution_count": 13,
   "metadata": {
    "collapsed": false
   },
   "outputs": [
    {
     "data": {
      "text/plain": [
       "0"
      ]
     },
     "execution_count": 13,
     "metadata": {},
     "output_type": "execute_result"
    }
   ],
   "source": [
    "jdunp.count(int)"
   ]
  },
  {
   "cell_type": "code",
   "execution_count": 14,
   "metadata": {
    "collapsed": false
   },
   "outputs": [
    {
     "data": {
      "text/plain": [
       "7"
      ]
     },
     "execution_count": 14,
     "metadata": {},
     "output_type": "execute_result"
    }
   ],
   "source": [
    "len(jdunp)"
   ]
  },
  {
   "cell_type": "markdown",
   "metadata": {},
   "source": [
    "ok if i cycle through jdunp between 0 and 23 i get the results.\n",
    "\n",
    "cycle through ints but as a string. must add ' '"
   ]
  },
  {
   "cell_type": "code",
   "execution_count": 15,
   "metadata": {
    "collapsed": false
   },
   "outputs": [
    {
     "name": "stdout",
     "output_type": "stream",
     "text": [
      "'0'\n",
      "'1'\n",
      "'2'\n",
      "'3'\n",
      "'4'\n",
      "'5'\n",
      "'6'\n",
      "'7'\n",
      "'8'\n",
      "'9'\n",
      "'10'\n",
      "'11'\n",
      "'12'\n",
      "'13'\n",
      "'14'\n",
      "'15'\n",
      "'16'\n",
      "'17'\n",
      "'18'\n",
      "'19'\n",
      "'20'\n",
      "'21'\n",
      "'22'\n",
      "'23'\n"
     ]
    }
   ],
   "source": [
    "for numtwn in range(0,24):\n",
    "    print \"'\" + str(numtwn) + \"'\""
   ]
  },
  {
   "cell_type": "code",
   "execution_count": 16,
   "metadata": {
    "collapsed": false
   },
   "outputs": [
    {
     "name": "stdout",
     "output_type": "stream",
     "text": [
      "- -\n",
      "- -\n",
      "- -\n",
      "- -\n",
      "- -\n",
      "- -\n",
      "- -\n"
     ]
    }
   ],
   "source": [
    "for jdr in jdunp:\n",
    "    print jdr['0']"
   ]
  },
  {
   "cell_type": "code",
   "execution_count": 17,
   "metadata": {
    "collapsed": false
   },
   "outputs": [
    {
     "name": "stdout",
     "output_type": "stream",
     "text": [
      "'0'\n",
      "'1'\n",
      "'2'\n",
      "'3'\n",
      "'4'\n",
      "'5'\n",
      "'6'\n",
      "'7'\n",
      "'8'\n",
      "'9'\n",
      "'10'\n",
      "'11'\n",
      "'12'\n",
      "'13'\n",
      "'14'\n",
      "'15'\n",
      "'16'\n",
      "'17'\n",
      "'18'\n",
      "'19'\n",
      "'20'\n",
      "'21'\n",
      "'22'\n",
      "'23'\n"
     ]
    }
   ],
   "source": [
    "for numtwn in range(0,24):\n",
    "        print \"'\" + str(numtwn) + \"'\""
   ]
  },
  {
   "cell_type": "code",
   "execution_count": 18,
   "metadata": {
    "collapsed": false
   },
   "outputs": [
    {
     "name": "stdout",
     "output_type": "stream",
     "text": [
      "[u'- -', u'- -', u'- -', u'- -', u'- -', u'- -', u'- -', u'- -', u'- -', u'- -', u'- -', u'- -', u'- -', u'- -', u' 11 Jan 2015', u'', u'Sun', u'- -', u'- -', u'- -', u'4 (1)', u'0 (9)', u'12 (30)', u'0 (3)', u'8 (9)', u'- -', u'- -']\n",
      "[u'- -', u'- -', u'- -', u'- -', u'- -', u'- -', u'- -', u'- -', u'- -', u'- -', u'8 (9)', u'- -', u'40 (31)', u'44 (123)', u' 12 Jan 2015', u'', u'Mon', u'4 (13)', u'20 (118)', u'8 (52)', u'12 (34)', u'12 (46)', u'4 (33)', u'- -', u'0 (1)', u'- -', u'- -']\n",
      "[u'- -', u'- -', u'- -', u'- -', u'- -', u'- -', u'- -', u'- -', u'- -', u'- -', u'4 (17)', u'- -', u'0 (23)', u'24 (109)', u' 13 Jan 2015', u'', u'Tue', u'8 (25)', u'32 (101)', u'12 (55)', u'16 (43)', u'20 (100)', u'12 (43)', u'- -', u'4 (3)', u'- -', u'- -']\n",
      "[u'- -', u'- -', u'- -', u'- -', u'- -', u'- -', u'- -', u'- -', u'- -', u'- -', u'4 (19)', u'- -', u'8 (24)', u'20 (132)', u' 14 Jan 2015', u'', u'Wed', u'12 (39)', u'32 (133)', u'56 (64)', u'16 (36)', u'52 (83)', u'44 (38)', u'- -', u'- -', u'- -', u'- -']\n",
      "[u'- -', u'- -', u'- -', u'- -', u'- -', u'- -', u'- -', u'- -', u'- -', u'- -', u'8 (20)', u'- -', u'20 (25)', u'68 (115)', u' 15 Jan 2015', u'', u'Thu', u'40 (40)', u'132 (136)', u'52 (55)', u'36 (50)', u'72 (103)', u'32 (49)', u'- -', u'4 (6)', u'- -', u'- -']\n",
      "[u'- -', u'- -', u'- -', u'- -', u'- -', u'- -', u'- -', u'- -', u'- -', u'- -', u'12 (21)', u'- -', u'8 (15)', u'104 (128)', u' 16 Jan 2015', u'', u'Fri', u'24 (30)', u'112 (131)', u'- -', u'- -', u'- -', u'- -', u'- -', u'- -', u'- -', u'- -']\n",
      "[u'- -', u'- -', u'- -', u'- -', u'- -', u'- -', u'- -', u'- -', u'- -', u'- -', u'- -', u'- -', u'- -', u'- -', u' 17 Jan 2015', u'', u'Sat', u'- -', u'- -', u'- -', u'- -', u'- -', u'- -', u'- -', u'- -', u'- -', u'- -']\n"
     ]
    }
   ],
   "source": [
    "for dej in jdunp:\n",
    "    print dej.values()\n",
    "    valia.append(dej.values())"
   ]
  },
  {
   "cell_type": "code",
   "execution_count": 18,
   "metadata": {
    "collapsed": true
   },
   "outputs": [],
   "source": []
  },
  {
   "cell_type": "code",
   "execution_count": 19,
   "metadata": {
    "collapsed": false
   },
   "outputs": [],
   "source": [
    "dezrand = len(valia)"
   ]
  },
  {
   "cell_type": "code",
   "execution_count": 20,
   "metadata": {
    "collapsed": true
   },
   "outputs": [],
   "source": [
    "azlis = []"
   ]
  },
  {
   "cell_type": "code",
   "execution_count": 21,
   "metadata": {
    "collapsed": false
   },
   "outputs": [
    {
     "name": "stdout",
     "output_type": "stream",
     "text": [
      "[u'- -', u'- -', u'- -', u'- -', u'- -', u'- -', u'- -', u'- -', u'- -', u'- -', u'- -', u'- -', u'- -', u'- -', u' 11 Jan 2015', u'', u'Sun', u'- -', u'- -', u'- -', u'4 (1)', u'0 (9)', u'12 (30)', u'0 (3)', u'8 (9)', u'- -', u'- -']\n",
      "[u'- -', u'- -', u'- -', u'- -', u'- -', u'- -', u'- -', u'- -', u'- -', u'- -', u'8 (9)', u'- -', u'40 (31)', u'44 (123)', u' 12 Jan 2015', u'', u'Mon', u'4 (13)', u'20 (118)', u'8 (52)', u'12 (34)', u'12 (46)', u'4 (33)', u'- -', u'0 (1)', u'- -', u'- -']\n",
      "[u'- -', u'- -', u'- -', u'- -', u'- -', u'- -', u'- -', u'- -', u'- -', u'- -', u'4 (17)', u'- -', u'0 (23)', u'24 (109)', u' 13 Jan 2015', u'', u'Tue', u'8 (25)', u'32 (101)', u'12 (55)', u'16 (43)', u'20 (100)', u'12 (43)', u'- -', u'4 (3)', u'- -', u'- -']\n",
      "[u'- -', u'- -', u'- -', u'- -', u'- -', u'- -', u'- -', u'- -', u'- -', u'- -', u'4 (19)', u'- -', u'8 (24)', u'20 (132)', u' 14 Jan 2015', u'', u'Wed', u'12 (39)', u'32 (133)', u'56 (64)', u'16 (36)', u'52 (83)', u'44 (38)', u'- -', u'- -', u'- -', u'- -']\n",
      "[u'- -', u'- -', u'- -', u'- -', u'- -', u'- -', u'- -', u'- -', u'- -', u'- -', u'8 (20)', u'- -', u'20 (25)', u'68 (115)', u' 15 Jan 2015', u'', u'Thu', u'40 (40)', u'132 (136)', u'52 (55)', u'36 (50)', u'72 (103)', u'32 (49)', u'- -', u'4 (6)', u'- -', u'- -']\n",
      "[u'- -', u'- -', u'- -', u'- -', u'- -', u'- -', u'- -', u'- -', u'- -', u'- -', u'12 (21)', u'- -', u'8 (15)', u'104 (128)', u' 16 Jan 2015', u'', u'Fri', u'24 (30)', u'112 (131)', u'- -', u'- -', u'- -', u'- -', u'- -', u'- -', u'- -', u'- -']\n",
      "[u'- -', u'- -', u'- -', u'- -', u'- -', u'- -', u'- -', u'- -', u'- -', u'- -', u'- -', u'- -', u'- -', u'- -', u' 17 Jan 2015', u'', u'Sat', u'- -', u'- -', u'- -', u'- -', u'- -', u'- -', u'- -', u'- -', u'- -', u'- -']\n"
     ]
    }
   ],
   "source": [
    "for vals in valia:    \n",
    "    print vals\n",
    "    azlis.append(vals)"
   ]
  },
  {
   "cell_type": "markdown",
   "metadata": {},
   "source": [
    "I need to filter the - - from the results. I really only need the values that have numbers. \n",
    "\n",
    "Take number in brackets away from number not in brackets. \n",
    "The number in brackets is total amount of coffees sold. The number not in brackets is amount of volchers used. \n",
    "The number that I get when i take away is the coffee sold without volchers. \n",
    "\n",
    "New dict that shows only the times that coffee were sold and the amount of coffgfges that were solf. Maybe that would works. "
   ]
  },
  {
   "cell_type": "code",
   "execution_count": 22,
   "metadata": {
    "collapsed": true
   },
   "outputs": [],
   "source": [
    "betra = []"
   ]
  },
  {
   "cell_type": "code",
   "execution_count": 23,
   "metadata": {
    "collapsed": false
   },
   "outputs": [],
   "source": [
    "for azl in azlis:\n",
    "    betra.append(azl)"
   ]
  },
  {
   "cell_type": "code",
   "execution_count": 24,
   "metadata": {
    "collapsed": true
   },
   "outputs": [],
   "source": [
    "anoe = []\n",
    "anez = []"
   ]
  },
  {
   "cell_type": "code",
   "execution_count": 25,
   "metadata": {
    "collapsed": false
   },
   "outputs": [],
   "source": [
    "for betr in betra:\n",
    "    betr.append(anoe)"
   ]
  },
  {
   "cell_type": "code",
   "execution_count": 26,
   "metadata": {
    "collapsed": false
   },
   "outputs": [
    {
     "name": "stdout",
     "output_type": "stream",
     "text": [
      "- -\n",
      "- -\n",
      "- -\n",
      "- -\n",
      "- -\n",
      "- -\n",
      "- -\n",
      "- -\n",
      "- -\n",
      "- -\n",
      "- -\n",
      "- -\n",
      "- -\n",
      "- -\n",
      "- -\n",
      "- -\n",
      "- -\n",
      "- -\n",
      "- -\n",
      "- -\n",
      "- -\n",
      "- -\n",
      "- -\n",
      "- -\n"
     ]
    }
   ],
   "source": [
    "for deta in betr:\n",
    "    #print deta\n",
    "    if '- -' in deta:\n",
    "        print deta\n",
    "    else:\n",
    "        anez.append(deta)"
   ]
  },
  {
   "cell_type": "code",
   "execution_count": 27,
   "metadata": {
    "collapsed": true
   },
   "outputs": [],
   "source": [
    "fdic = []"
   ]
  },
  {
   "cell_type": "code",
   "execution_count": 27,
   "metadata": {
    "collapsed": true
   },
   "outputs": [],
   "source": []
  },
  {
   "cell_type": "code",
   "execution_count": 28,
   "metadata": {
    "collapsed": false
   },
   "outputs": [
    {
     "name": "stdout",
     "output_type": "stream",
     "text": [
      " 17 Jan 2015\n",
      "\n",
      "Sat\n",
      "[]\n"
     ]
    }
   ],
   "source": [
    "for resut in anez:\n",
    "    print resut\n",
    "    fdic.append(resut)"
   ]
  },
  {
   "cell_type": "markdown",
   "metadata": {},
   "source": [
    "How come it is only adding the wednesday data in the results. It needs to have all the datas. \n",
    "\n",
    "Needs to take the number in brackets away from the number not in brackets."
   ]
  },
  {
   "cell_type": "code",
   "execution_count": 29,
   "metadata": {
    "collapsed": false
   },
   "outputs": [
    {
     "data": {
      "text/plain": [
       "[u' 17 Jan 2015', u'', u'Sat', []]"
      ]
     },
     "execution_count": 29,
     "metadata": {},
     "output_type": "execute_result"
    }
   ],
   "source": [
    "fdic"
   ]
  },
  {
   "cell_type": "code",
   "execution_count": 30,
   "metadata": {
    "collapsed": false
   },
   "outputs": [],
   "source": [
    "optue = open('/home/wcmckee/Downloads/saletues.json', 'r')"
   ]
  },
  {
   "cell_type": "code",
   "execution_count": 31,
   "metadata": {
    "collapsed": false
   },
   "outputs": [],
   "source": [
    "rdtue = optue.read()"
   ]
  },
  {
   "cell_type": "code",
   "execution_count": 32,
   "metadata": {
    "collapsed": false
   },
   "outputs": [],
   "source": [
    "tuejs = json.loads(rdtue)"
   ]
  },
  {
   "cell_type": "code",
   "execution_count": 39,
   "metadata": {
    "collapsed": false
   },
   "outputs": [
    {
     "data": {
      "text/plain": [
       "[{u'Brand': u' ',\n",
       "  u'Cost ($)': 2.0,\n",
       "  u'Count': 2,\n",
       "  u'Discount ($)': 0,\n",
       "  u'Margin (%)': 71.24,\n",
       "  u'Outlet': u'LCA',\n",
       "  u'Product': u'Cappuccino',\n",
       "  u'Revenue ($)': 4.95652,\n",
       "  u'SKU': 10001,\n",
       "  u'Sales ($)': 6.95652,\n",
       "  u'Sales incl. tax ($)': 8.0,\n",
       "  u'Supplier': u' ',\n",
       "  u'Supplier Code': u' ',\n",
       "  u'Tags': u' coffee',\n",
       "  u'Tax ($)': 1.04348,\n",
       "  u'Type': u' '},\n",
       " {u'Brand': u' ',\n",
       "  u'Cost ($)': 0.0,\n",
       "  u'Count': 69,\n",
       "  u'Discount ($)': 0,\n",
       "  u'Margin (%)': 0.0,\n",
       "  u'Outlet': u'',\n",
       "  u'Product': u'Cappuccino FREE',\n",
       "  u'Revenue ($)': 0.0,\n",
       "  u'SKU': 10009,\n",
       "  u'Sales ($)': 0.0,\n",
       "  u'Sales incl. tax ($)': 0.0,\n",
       "  u'Supplier': u' ',\n",
       "  u'Supplier Code': u' ',\n",
       "  u'Tags': u' coffee; free',\n",
       "  u'Tax ($)': 0.0,\n",
       "  u'Type': u' '},\n",
       " {u'Brand': u' ',\n",
       "  u'Cost ($)': 0.0,\n",
       "  u'Count': 15,\n",
       "  u'Discount ($)': 0,\n",
       "  u'Margin (%)': 0.0,\n",
       "  u'Outlet': u'',\n",
       "  u'Product': u'Chai Latte FREE',\n",
       "  u'Revenue ($)': 0.0,\n",
       "  u'SKU': 10010,\n",
       "  u'Sales ($)': 0.0,\n",
       "  u'Sales incl. tax ($)': 0.0,\n",
       "  u'Supplier': u' ',\n",
       "  u'Supplier Code': u' ',\n",
       "  u'Tags': u' coffee; free',\n",
       "  u'Tax ($)': 0.0,\n",
       "  u'Type': u' '},\n",
       " {u'Brand': u' ',\n",
       "  u'Cost ($)': 0.0,\n",
       "  u'Count': 7,\n",
       "  u'Discount ($)': 0,\n",
       "  u'Margin (%)': 0.0,\n",
       "  u'Outlet': u'',\n",
       "  u'Product': u'Espresso FREE',\n",
       "  u'Revenue ($)': 0.0,\n",
       "  u'SKU': 10032,\n",
       "  u'Sales ($)': 0.0,\n",
       "  u'Sales incl. tax ($)': 0.0,\n",
       "  u'Supplier': u' ',\n",
       "  u'Supplier Code': u' ',\n",
       "  u'Tags': u' ',\n",
       "  u'Tax ($)': 0.0,\n",
       "  u'Type': u' '},\n",
       " {u'Brand': u' ',\n",
       "  u'Cost ($)': 17.0,\n",
       "  u'Count': 17,\n",
       "  u'Discount ($)': 0,\n",
       "  u'Margin (%)': 71.24,\n",
       "  u'Outlet': u'',\n",
       "  u'Product': u'Flat White',\n",
       "  u'Revenue ($)': 42.13042,\n",
       "  u'SKU': 10000,\n",
       "  u'Sales ($)': 59.13042,\n",
       "  u'Sales incl. tax ($)': 68.0,\n",
       "  u'Supplier': u' ',\n",
       "  u'Supplier Code': u' ',\n",
       "  u'Tags': u' coffee',\n",
       "  u'Tax ($)': 8.86958,\n",
       "  u'Type': u' '},\n",
       " {u'Brand': u' ',\n",
       "  u'Cost ($)': 0.0,\n",
       "  u'Count': 242,\n",
       "  u'Discount ($)': 0,\n",
       "  u'Margin (%)': 0.0,\n",
       "  u'Outlet': u'',\n",
       "  u'Product': u'Flat White FREE',\n",
       "  u'Revenue ($)': 0.0,\n",
       "  u'SKU': 10011,\n",
       "  u'Sales ($)': 0.0,\n",
       "  u'Sales incl. tax ($)': 0.0,\n",
       "  u'Supplier': u' ',\n",
       "  u'Supplier Code': u' ',\n",
       "  u'Tags': u' coffee; free',\n",
       "  u'Tax ($)': 0.0,\n",
       "  u'Type': u' '},\n",
       " {u'Brand': u' ',\n",
       "  u'Cost ($)': 5.0,\n",
       "  u'Count': 5,\n",
       "  u'Discount ($)': 0,\n",
       "  u'Margin (%)': 71.24,\n",
       "  u'Outlet': u'',\n",
       "  u'Product': u'Hot Chocolate',\n",
       "  u'Revenue ($)': 12.3913,\n",
       "  u'SKU': 10005,\n",
       "  u'Sales ($)': 17.3913,\n",
       "  u'Sales incl. tax ($)': 20.0,\n",
       "  u'Supplier': u' ',\n",
       "  u'Supplier Code': u' ',\n",
       "  u'Tags': u' coffee',\n",
       "  u'Tax ($)': 2.6087,\n",
       "  u'Type': u' '},\n",
       " {u'Brand': u' ',\n",
       "  u'Cost ($)': 0.0,\n",
       "  u'Count': 68,\n",
       "  u'Discount ($)': 0,\n",
       "  u'Margin (%)': 0.0,\n",
       "  u'Outlet': u'',\n",
       "  u'Product': u'Hot Chocolate FREE',\n",
       "  u'Revenue ($)': 0.0,\n",
       "  u'SKU': 10012,\n",
       "  u'Sales ($)': 0.0,\n",
       "  u'Sales incl. tax ($)': 0.0,\n",
       "  u'Supplier': u' ',\n",
       "  u'Supplier Code': u' ',\n",
       "  u'Tags': u' coffee; free',\n",
       "  u'Tax ($)': 0.0,\n",
       "  u'Type': u' '},\n",
       " {u'Brand': u' ',\n",
       "  u'Cost ($)': 6.0,\n",
       "  u'Count': 6,\n",
       "  u'Discount ($)': 0,\n",
       "  u'Margin (%)': 71.24,\n",
       "  u'Outlet': u'',\n",
       "  u'Product': u'Long Black',\n",
       "  u'Revenue ($)': 14.86956,\n",
       "  u'SKU': 10006,\n",
       "  u'Sales ($)': 20.86956,\n",
       "  u'Sales incl. tax ($)': 24.0,\n",
       "  u'Supplier': u' ',\n",
       "  u'Supplier Code': u' ',\n",
       "  u'Tags': u' coffee',\n",
       "  u'Tax ($)': 3.13044,\n",
       "  u'Type': u' '},\n",
       " {u'Brand': u' ',\n",
       "  u'Cost ($)': 0.0,\n",
       "  u'Count': 73,\n",
       "  u'Discount ($)': 0,\n",
       "  u'Margin (%)': 0.0,\n",
       "  u'Outlet': u'',\n",
       "  u'Product': u'Long Black FREE',\n",
       "  u'Revenue ($)': 0.0,\n",
       "  u'SKU': 10014,\n",
       "  u'Sales ($)': 0.0,\n",
       "  u'Sales incl. tax ($)': 0.0,\n",
       "  u'Supplier': u' ',\n",
       "  u'Supplier Code': u' ',\n",
       "  u'Tags': u' coffee; free',\n",
       "  u'Tax ($)': 0.0,\n",
       "  u'Type': u' '},\n",
       " {u'Brand': u' ',\n",
       "  u'Cost ($)': 0.0,\n",
       "  u'Count': 4,\n",
       "  u'Discount ($)': 0,\n",
       "  u'Margin (%)': 0.0,\n",
       "  u'Outlet': u'',\n",
       "  u'Product': u'Macchiato FREE',\n",
       "  u'Revenue ($)': 0.0,\n",
       "  u'SKU': 10030,\n",
       "  u'Sales ($)': 0.0,\n",
       "  u'Sales incl. tax ($)': 0.0,\n",
       "  u'Supplier': u' ',\n",
       "  u'Supplier Code': u' ',\n",
       "  u'Tags': u' ',\n",
       "  u'Tax ($)': 0.0,\n",
       "  u'Type': u' '},\n",
       " {u'Brand': u' ',\n",
       "  u'Cost ($)': 3.0,\n",
       "  u'Count': 3,\n",
       "  u'Discount ($)': 0,\n",
       "  u'Margin (%)': 71.24,\n",
       "  u'Outlet': u'',\n",
       "  u'Product': u'Mocha',\n",
       "  u'Revenue ($)': 7.43478,\n",
       "  u'SKU': 10004,\n",
       "  u'Sales ($)': 10.43478,\n",
       "  u'Sales incl. tax ($)': 12.0,\n",
       "  u'Supplier': u' ',\n",
       "  u'Supplier Code': u' ',\n",
       "  u'Tags': u' coffee',\n",
       "  u'Tax ($)': 1.56522,\n",
       "  u'Type': u' '},\n",
       " {u'Brand': u' ',\n",
       "  u'Cost ($)': 0.0,\n",
       "  u'Count': 61,\n",
       "  u'Discount ($)': 0,\n",
       "  u'Margin (%)': 0.0,\n",
       "  u'Outlet': u'',\n",
       "  u'Product': u'Mocha FREE',\n",
       "  u'Revenue ($)': 0.0,\n",
       "  u'SKU': 10015,\n",
       "  u'Sales ($)': 0.0,\n",
       "  u'Sales incl. tax ($)': 0.0,\n",
       "  u'Supplier': u' ',\n",
       "  u'Supplier Code': u' ',\n",
       "  u'Tags': u' coffee; free',\n",
       "  u'Tax ($)': 0.0,\n",
       "  u'Type': u' '},\n",
       " {u'Brand': u'',\n",
       "  u'Cost ($)': 33.0,\n",
       "  u'Count': 572.0,\n",
       "  u'Discount ($)': 0.0,\n",
       "  u'Margin (%)': 71.24433,\n",
       "  u'Outlet': u'',\n",
       "  u'Product': u'Total',\n",
       "  u'Revenue ($)': 81.76,\n",
       "  u'SKU': None,\n",
       "  u'Sales ($)': 114.76,\n",
       "  u'Sales incl. tax ($)': 131.95,\n",
       "  u'Supplier': u'',\n",
       "  u'Supplier Code': u'',\n",
       "  u'Tags': u'',\n",
       "  u'Tax ($)': 17.19,\n",
       "  u'Type': u''},\n",
       " {u'Brand': u'',\n",
       "  u'Cost ($)': 33.0,\n",
       "  u'Count': 572.0,\n",
       "  u'Discount ($)': 0.0,\n",
       "  u'Margin (%)': 71.24433,\n",
       "  u'Outlet': u'',\n",
       "  u'Product': u'Grand Total',\n",
       "  u'Revenue ($)': 81.76,\n",
       "  u'SKU': None,\n",
       "  u'Sales ($)': 114.76,\n",
       "  u'Sales incl. tax ($)': 131.95,\n",
       "  u'Supplier': u'',\n",
       "  u'Supplier Code': u'',\n",
       "  u'Tags': u'',\n",
       "  u'Tax ($)': 17.19,\n",
       "  u'Type': u''}]"
      ]
     },
     "execution_count": 39,
     "metadata": {},
     "output_type": "execute_result"
    }
   ],
   "source": [
    "tuejs"
   ]
  },
  {
   "cell_type": "code",
   "execution_count": 41,
   "metadata": {
    "collapsed": false
   },
   "outputs": [
    {
     "name": "stdout",
     "output_type": "stream",
     "text": [
      "{u'SKU': 10001, u'Count': 2, u'Product': u'Cappuccino', u'Tags': u' coffee', u'Brand': u' ', u'Sales ($)': 6.95652, u'Discount ($)': 0, u'Cost ($)': 2.0, u'Outlet': u'LCA', u'Revenue ($)': 4.95652, u'Supplier': u' ', u'Supplier Code': u' ', u'Sales incl. tax ($)': 8.0, u'Type': u' ', u'Margin (%)': 71.24, u'Tax ($)': 1.04348}\n",
      "{u'SKU': 10009, u'Count': 69, u'Product': u'Cappuccino FREE', u'Tags': u' coffee; free', u'Brand': u' ', u'Sales ($)': 0.0, u'Discount ($)': 0, u'Cost ($)': 0.0, u'Outlet': u'', u'Revenue ($)': 0.0, u'Supplier': u' ', u'Supplier Code': u' ', u'Sales incl. tax ($)': 0.0, u'Type': u' ', u'Margin (%)': 0.0, u'Tax ($)': 0.0}\n",
      "{u'SKU': 10010, u'Count': 15, u'Product': u'Chai Latte FREE', u'Tags': u' coffee; free', u'Brand': u' ', u'Sales ($)': 0.0, u'Discount ($)': 0, u'Cost ($)': 0.0, u'Outlet': u'', u'Revenue ($)': 0.0, u'Supplier': u' ', u'Supplier Code': u' ', u'Sales incl. tax ($)': 0.0, u'Type': u' ', u'Margin (%)': 0.0, u'Tax ($)': 0.0}\n",
      "{u'SKU': 10032, u'Count': 7, u'Product': u'Espresso FREE', u'Tags': u' ', u'Brand': u' ', u'Sales ($)': 0.0, u'Discount ($)': 0, u'Cost ($)': 0.0, u'Outlet': u'', u'Revenue ($)': 0.0, u'Supplier': u' ', u'Supplier Code': u' ', u'Sales incl. tax ($)': 0.0, u'Type': u' ', u'Margin (%)': 0.0, u'Tax ($)': 0.0}\n",
      "{u'SKU': 10000, u'Count': 17, u'Product': u'Flat White', u'Tags': u' coffee', u'Brand': u' ', u'Sales ($)': 59.13042, u'Discount ($)': 0, u'Cost ($)': 17.0, u'Outlet': u'', u'Revenue ($)': 42.13042, u'Supplier': u' ', u'Supplier Code': u' ', u'Sales incl. tax ($)': 68.0, u'Type': u' ', u'Margin (%)': 71.24, u'Tax ($)': 8.86958}\n",
      "{u'SKU': 10011, u'Count': 242, u'Product': u'Flat White FREE', u'Tags': u' coffee; free', u'Brand': u' ', u'Sales ($)': 0.0, u'Discount ($)': 0, u'Cost ($)': 0.0, u'Outlet': u'', u'Revenue ($)': 0.0, u'Supplier': u' ', u'Supplier Code': u' ', u'Sales incl. tax ($)': 0.0, u'Type': u' ', u'Margin (%)': 0.0, u'Tax ($)': 0.0}\n",
      "{u'SKU': 10005, u'Count': 5, u'Product': u'Hot Chocolate', u'Tags': u' coffee', u'Brand': u' ', u'Sales ($)': 17.3913, u'Discount ($)': 0, u'Cost ($)': 5.0, u'Outlet': u'', u'Revenue ($)': 12.3913, u'Supplier': u' ', u'Supplier Code': u' ', u'Sales incl. tax ($)': 20.0, u'Type': u' ', u'Margin (%)': 71.24, u'Tax ($)': 2.6087}\n",
      "{u'SKU': 10012, u'Count': 68, u'Product': u'Hot Chocolate FREE', u'Tags': u' coffee; free', u'Brand': u' ', u'Sales ($)': 0.0, u'Discount ($)': 0, u'Cost ($)': 0.0, u'Outlet': u'', u'Revenue ($)': 0.0, u'Supplier': u' ', u'Supplier Code': u' ', u'Sales incl. tax ($)': 0.0, u'Type': u' ', u'Margin (%)': 0.0, u'Tax ($)': 0.0}\n",
      "{u'SKU': 10006, u'Count': 6, u'Product': u'Long Black', u'Tags': u' coffee', u'Brand': u' ', u'Sales ($)': 20.86956, u'Discount ($)': 0, u'Cost ($)': 6.0, u'Outlet': u'', u'Revenue ($)': 14.86956, u'Supplier': u' ', u'Supplier Code': u' ', u'Sales incl. tax ($)': 24.0, u'Type': u' ', u'Margin (%)': 71.24, u'Tax ($)': 3.13044}\n",
      "{u'SKU': 10014, u'Count': 73, u'Product': u'Long Black FREE', u'Tags': u' coffee; free', u'Brand': u' ', u'Sales ($)': 0.0, u'Discount ($)': 0, u'Cost ($)': 0.0, u'Outlet': u'', u'Revenue ($)': 0.0, u'Supplier': u' ', u'Supplier Code': u' ', u'Sales incl. tax ($)': 0.0, u'Type': u' ', u'Margin (%)': 0.0, u'Tax ($)': 0.0}\n",
      "{u'SKU': 10030, u'Count': 4, u'Product': u'Macchiato FREE', u'Tags': u' ', u'Brand': u' ', u'Sales ($)': 0.0, u'Discount ($)': 0, u'Cost ($)': 0.0, u'Outlet': u'', u'Revenue ($)': 0.0, u'Supplier': u' ', u'Supplier Code': u' ', u'Sales incl. tax ($)': 0.0, u'Type': u' ', u'Margin (%)': 0.0, u'Tax ($)': 0.0}\n",
      "{u'SKU': 10004, u'Count': 3, u'Product': u'Mocha', u'Tags': u' coffee', u'Brand': u' ', u'Sales ($)': 10.43478, u'Discount ($)': 0, u'Cost ($)': 3.0, u'Outlet': u'', u'Revenue ($)': 7.43478, u'Supplier': u' ', u'Supplier Code': u' ', u'Sales incl. tax ($)': 12.0, u'Type': u' ', u'Margin (%)': 71.24, u'Tax ($)': 1.56522}\n",
      "{u'SKU': 10015, u'Count': 61, u'Product': u'Mocha FREE', u'Tags': u' coffee; free', u'Brand': u' ', u'Sales ($)': 0.0, u'Discount ($)': 0, u'Cost ($)': 0.0, u'Outlet': u'', u'Revenue ($)': 0.0, u'Supplier': u' ', u'Supplier Code': u' ', u'Sales incl. tax ($)': 0.0, u'Type': u' ', u'Margin (%)': 0.0, u'Tax ($)': 0.0}\n",
      "{u'SKU': None, u'Count': 572.0, u'Product': u'Total', u'Tags': u'', u'Brand': u'', u'Sales ($)': 114.76, u'Discount ($)': 0.0, u'Cost ($)': 33.0, u'Outlet': u'', u'Revenue ($)': 81.76, u'Supplier': u'', u'Supplier Code': u'', u'Sales incl. tax ($)': 131.95, u'Type': u'', u'Margin (%)': 71.24433, u'Tax ($)': 17.19}\n",
      "{u'SKU': None, u'Count': 572.0, u'Product': u'Grand Total', u'Tags': u'', u'Brand': u'', u'Sales ($)': 114.76, u'Discount ($)': 0.0, u'Cost ($)': 33.0, u'Outlet': u'', u'Revenue ($)': 81.76, u'Supplier': u'', u'Supplier Code': u'', u'Sales incl. tax ($)': 131.95, u'Type': u'', u'Margin (%)': 71.24433, u'Tax ($)': 17.19}\n"
     ]
    }
   ],
   "source": [
    "for bran in tuejs:\n",
    "    print bran"
   ]
  },
  {
   "cell_type": "code",
   "execution_count": null,
   "metadata": {
    "collapsed": true
   },
   "outputs": [],
   "source": []
  }
 ],
 "metadata": {
  "kernelspec": {
   "display_name": "Python 2",
   "name": "python2"
  },
  "language_info": {
   "codemirror_mode": {
    "name": "ipython",
    "version": 2
   },
   "file_extension": ".py",
   "mimetype": "text/x-python",
   "name": "python",
   "nbconvert_exporter": "python",
   "pygments_lexer": "ipython2",
   "version": "2.7.6"
  }
 },
 "nbformat": 4,
 "nbformat_minor": 0
}