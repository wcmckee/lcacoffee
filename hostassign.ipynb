{
 "cells": [
  {
   "cell_type": "markdown",
   "metadata": {},
   "source": [
    "script to assign hostname and ip address to machine"
   ]
  },
  {
   "cell_type": "code",
   "execution_count": 63,
   "metadata": {
    "collapsed": true
   },
   "outputs": [],
   "source": [
    "import os\n",
    "import random\n",
    "import json\n",
    "import shutil"
   ]
  },
  {
   "cell_type": "code",
   "execution_count": 37,
   "metadata": {
    "collapsed": true
   },
   "outputs": [],
   "source": [
    "colordir = os.listdir('/home/wcmckee/colortest/')"
   ]
  },
  {
   "cell_type": "code",
   "execution_count": 42,
   "metadata": {
    "collapsed": true
   },
   "outputs": [],
   "source": [
    "alcolrz = []"
   ]
  },
  {
   "cell_type": "code",
   "execution_count": 43,
   "metadata": {
    "collapsed": false
   },
   "outputs": [
    {
     "name": "stdout",
     "output_type": "stream",
     "text": [
      "sandwashed.json\n",
      "fire-in-the-rain.json\n",
      "lake-moss.json\n"
     ]
    }
   ],
   "source": [
    "for cold in colordir:\n",
    "    #print cold\n",
    "    if '.json' in cold:\n",
    "        print cold\n",
    "        alcolrz.append(cold)"
   ]
  },
  {
   "cell_type": "code",
   "execution_count": 47,
   "metadata": {
    "collapsed": false
   },
   "outputs": [],
   "source": [
    "alranza = random.choice(alcolrz)"
   ]
  },
  {
   "cell_type": "code",
   "execution_count": 48,
   "metadata": {
    "collapsed": false
   },
   "outputs": [
    {
     "data": {
      "text/plain": [
       "'fire-in-the-rain.json'"
      ]
     },
     "execution_count": 48,
     "metadata": {},
     "output_type": "execute_result"
    }
   ],
   "source": [
    "alranza"
   ]
  },
  {
   "cell_type": "code",
   "execution_count": 71,
   "metadata": {
    "collapsed": true
   },
   "outputs": [],
   "source": [
    "checkexist = os.listdir('/home/wcmckee/colortest/assignedhosts/')\n",
    "assignedh = []\n"
   ]
  },
  {
   "cell_type": "code",
   "execution_count": 72,
   "metadata": {
    "collapsed": false
   },
   "outputs": [
    {
     "name": "stdout",
     "output_type": "stream",
     "text": [
      "a2b1bb.json\n",
      "fire-in-the-rain.json\n",
      "lake-moss.json\n"
     ]
    }
   ],
   "source": [
    "for chex in checkexist:\n",
    "    print chex\n",
    "    assignedh.append(chex)\n",
    "    #os.remove('/home/wcmckee/colortest/' + chex)"
   ]
  },
  {
   "cell_type": "code",
   "execution_count": 73,
   "metadata": {
    "collapsed": false
   },
   "outputs": [
    {
     "data": {
      "text/plain": [
       "['Sandwashed.png',\n",
       " 'Fire-in-the-Rain.png',\n",
       " 'sandwashed.json',\n",
       " 'Lake-Moss.png',\n",
       " 'freeip.txt',\n",
       " 'fire-in-the-rain.json',\n",
       " 'lake-moss.json']"
      ]
     },
     "execution_count": 73,
     "metadata": {},
     "output_type": "execute_result"
    }
   ],
   "source": [
    "colordir"
   ]
  },
  {
   "cell_type": "code",
   "execution_count": 80,
   "metadata": {
    "collapsed": false
   },
   "outputs": [
    {
     "data": {
      "text/plain": [
       "['a2b1bb.json', 'fire-in-the-rain.json', 'lake-moss.json']"
      ]
     },
     "execution_count": 80,
     "metadata": {},
     "output_type": "execute_result"
    }
   ],
   "source": [
    "assignedh"
   ]
  },
  {
   "cell_type": "code",
   "execution_count": 83,
   "metadata": {
    "collapsed": false
   },
   "outputs": [],
   "source": [
    "toremvz = set(colordir) & set(assignedh)"
   ]
  },
  {
   "cell_type": "code",
   "execution_count": 88,
   "metadata": {
    "collapsed": false
   },
   "outputs": [],
   "source": [
    "tolidt = list(toremvz)"
   ]
  },
  {
   "cell_type": "code",
   "execution_count": 91,
   "metadata": {
    "collapsed": false
   },
   "outputs": [
    {
     "name": "stdout",
     "output_type": "stream",
     "text": [
      "fire-in-the-rain.json\n"
     ]
    },
    {
     "ename": "OSError",
     "evalue": "[Errno 2] No such file or directory: '/home/wcmckee/colortest/fire-in-the-rain.json'",
     "output_type": "error",
     "traceback": [
      "\u001b[1;31m---------------------------------------------------------------------------\u001b[0m",
      "\u001b[1;31mOSError\u001b[0m                                   Traceback (most recent call last)",
      "\u001b[1;32m<ipython-input-91-2cf3bcc621b4>\u001b[0m in \u001b[0;36m<module>\u001b[1;34m()\u001b[0m\n\u001b[0;32m      1\u001b[0m \u001b[1;32mfor\u001b[0m \u001b[0mtolid\u001b[0m \u001b[1;32min\u001b[0m \u001b[0mtolidt\u001b[0m\u001b[1;33m:\u001b[0m\u001b[1;33m\u001b[0m\u001b[0m\n\u001b[0;32m      2\u001b[0m     \u001b[1;32mprint\u001b[0m \u001b[0mtolid\u001b[0m\u001b[1;33m\u001b[0m\u001b[0m\n\u001b[1;32m----> 3\u001b[1;33m     \u001b[0mos\u001b[0m\u001b[1;33m.\u001b[0m\u001b[0mremove\u001b[0m\u001b[1;33m(\u001b[0m\u001b[1;34m'/home/wcmckee/colortest/'\u001b[0m \u001b[1;33m+\u001b[0m \u001b[0mtolid\u001b[0m\u001b[1;33m)\u001b[0m\u001b[1;33m\u001b[0m\u001b[0m\n\u001b[0m",
      "\u001b[1;31mOSError\u001b[0m: [Errno 2] No such file or directory: '/home/wcmckee/colortest/fire-in-the-rain.json'"
     ]
    }
   ],
   "source": [
    "for tolid in tolidt:\n",
    "    print tolid\n",
    "    os.remove('/home/wcmckee/colortest/' + tolid)"
   ]
  },
  {
   "cell_type": "code",
   "execution_count": null,
   "metadata": {
    "collapsed": true
   },
   "outputs": [],
   "source": []
  },
  {
   "cell_type": "code",
   "execution_count": null,
   "metadata": {
    "collapsed": true
   },
   "outputs": [],
   "source": []
  },
  {
   "cell_type": "code",
   "execution_count": 89,
   "metadata": {
    "collapsed": false
   },
   "outputs": [
    {
     "data": {
      "text/plain": [
       "['fire-in-the-rain.json', 'lake-moss.json']"
      ]
     },
     "execution_count": 89,
     "metadata": {},
     "output_type": "execute_result"
    }
   ],
   "source": [
    "tolidt"
   ]
  },
  {
   "cell_type": "code",
   "execution_count": 50,
   "metadata": {
    "collapsed": true
   },
   "outputs": [],
   "source": [
    "opjsflz = open('/home/wcmckee/colortest/' + alranza, 'r')"
   ]
  },
  {
   "cell_type": "code",
   "execution_count": 51,
   "metadata": {
    "collapsed": true
   },
   "outputs": [],
   "source": [
    "nerza = opjsflz.read()"
   ]
  },
  {
   "cell_type": "code",
   "execution_count": 53,
   "metadata": {
    "collapsed": false
   },
   "outputs": [
    {
     "data": {
      "text/plain": [
       "'{\"midsens-num\": 2, \"description\": null, \"intense-num\": 1, \"title\": \"Fire in the Rain\", \"ftitle\": \"fire-in-the-rain\", \"locurl\": \"/home/wcmckee/colortest/Fire-in-the-Rain.png\", \"hex\": \"#9f3700\", \"absens-num\": 3, \"generalfeel\": \"absense\"}'"
      ]
     },
     "execution_count": 53,
     "metadata": {},
     "output_type": "execute_result"
    }
   ],
   "source": [
    "nerza"
   ]
  },
  {
   "cell_type": "code",
   "execution_count": 55,
   "metadata": {
    "collapsed": true
   },
   "outputs": [],
   "source": [
    "neadict = json.loads(nerza)"
   ]
  },
  {
   "cell_type": "code",
   "execution_count": 8,
   "metadata": {
    "collapsed": false
   },
   "outputs": [],
   "source": [
    "opipdy = open('/home/wcmckee/colortest/freeip.txt', 'r')\n",
    "iprdy = opipdy.read()"
   ]
  },
  {
   "cell_type": "code",
   "execution_count": 12,
   "metadata": {
    "collapsed": false
   },
   "outputs": [],
   "source": [
    "ipclean = iprdy.replace('\\n', ', ')"
   ]
  },
  {
   "cell_type": "code",
   "execution_count": 13,
   "metadata": {
    "collapsed": false
   },
   "outputs": [
    {
     "data": {
      "text/plain": [
       "'192.168.1.130, 192.168.1.131, 192.168.1.132, 192.168.1.133, 192.168.1.134, 192.168.1.135, 192.168.1.136, 192.168.1.137, 192.168.1.138, 192.168.1.139, 192.168.1.140, 192.168.1.141, 192.168.1.142, 192.168.1.143, 192.168.1.144, 192.168.1.145, 192.168.1.146, 192.168.1.147, 192.168.1.148, 192.168.1.149, 192.168.1.150, 192.168.1.151, 192.168.1.152, 192.168.1.153, 192.168.1.154, 192.168.1.155, 192.168.1.156, 192.168.1.157, 192.168.1.158, 192.168.1.159, 192.168.1.160, 192.168.1.161, 192.168.1.162, 192.168.1.163, 192.168.1.164, 192.168.1.165, 192.168.1.166, 192.168.1.167, 192.168.1.168, 192.168.1.169, 192.168.1.170, 192.168.1.171, 192.168.1.172, 192.168.1.173, 192.168.1.174, 192.168.1.175, 192.168.1.176, 192.168.1.177, 192.168.1.178, 192.168.1.179, 192.168.1.130, 192.168.1.131, 192.168.1.132, 192.168.1.133, 192.168.1.134, 192.168.1.135, 192.168.1.136, 192.168.1.137, 192.168.1.138, 192.168.1.139, 192.168.1.140, 192.168.1.141, 192.168.1.142, 192.168.1.143, 192.168.1.144, 192.168.1.145, 192.168.1.146, 192.168.1.147, 192.168.1.148, 192.168.1.149, 192.168.1.150, 192.168.1.151, 192.168.1.152, 192.168.1.153, 192.168.1.154, 192.168.1.155, 192.168.1.156, 192.168.1.157, 192.168.1.158, 192.168.1.159, 192.168.1.160, 192.168.1.161, 192.168.1.162, 192.168.1.163, 192.168.1.164, 192.168.1.165, 192.168.1.166, 192.168.1.167, 192.168.1.168, 192.168.1.169, 192.168.1.170, 192.168.1.171, 192.168.1.172, 192.168.1.173, 192.168.1.174, 192.168.1.175, 192.168.1.176, 192.168.1.177, 192.168.1.178, 192.168.1.179, '"
      ]
     },
     "execution_count": 13,
     "metadata": {},
     "output_type": "execute_result"
    }
   ],
   "source": [
    "ipclean"
   ]
  },
  {
   "cell_type": "code",
   "execution_count": 15,
   "metadata": {
    "collapsed": false
   },
   "outputs": [],
   "source": [
    "ipliszq = ipclean.split(',')"
   ]
  },
  {
   "cell_type": "code",
   "execution_count": 23,
   "metadata": {
    "collapsed": false
   },
   "outputs": [],
   "source": [
    "#New hostname is zero on the list. Need to remove this now\n",
    "\n",
    "newhos = ipliszq[0]"
   ]
  },
  {
   "cell_type": "code",
   "execution_count": 24,
   "metadata": {
    "collapsed": false
   },
   "outputs": [
    {
     "data": {
      "text/plain": [
       "'192.168.1.130'"
      ]
     },
     "execution_count": 24,
     "metadata": {},
     "output_type": "execute_result"
    }
   ],
   "source": [
    "newhos"
   ]
  },
  {
   "cell_type": "code",
   "execution_count": 57,
   "metadata": {
    "collapsed": false
   },
   "outputs": [],
   "source": [
    "neadict.update({'ipaddress' : newhos})"
   ]
  },
  {
   "cell_type": "code",
   "execution_count": 58,
   "metadata": {
    "collapsed": false
   },
   "outputs": [
    {
     "data": {
      "text/plain": [
       "{u'absens-num': 3,\n",
       " u'description': None,\n",
       " u'ftitle': u'fire-in-the-rain',\n",
       " u'generalfeel': u'absense',\n",
       " u'hex': u'#9f3700',\n",
       " u'intense-num': 1,\n",
       " 'ipaddress': '192.168.1.130',\n",
       " u'locurl': u'/home/wcmckee/colortest/Fire-in-the-Rain.png',\n",
       " u'midsens-num': 2,\n",
       " u'title': u'Fire in the Rain'}"
      ]
     },
     "execution_count": 58,
     "metadata": {},
     "output_type": "execute_result"
    }
   ],
   "source": [
    "neadict"
   ]
  },
  {
   "cell_type": "code",
   "execution_count": 60,
   "metadata": {
    "collapsed": false
   },
   "outputs": [],
   "source": [
    "convjsn = json.dumps(neadict)"
   ]
  },
  {
   "cell_type": "code",
   "execution_count": 62,
   "metadata": {
    "collapsed": false
   },
   "outputs": [],
   "source": [
    "convjsn\n",
    "convipdy = open('/home/wcmckee/colortest/' + alranza, 'w')\n",
    "convipdy.write(convjsn)\n",
    "convipdy.close()\n"
   ]
  },
  {
   "cell_type": "code",
   "execution_count": 64,
   "metadata": {
    "collapsed": true
   },
   "outputs": [],
   "source": [
    "shutil.move('/home/wcmckee/colortest/' + alranza, '/home/wcmckee/colortest/assignedhosts/')"
   ]
  },
  {
   "cell_type": "code",
   "execution_count": null,
   "metadata": {
    "collapsed": true
   },
   "outputs": [],
   "source": [
    "#shutil.move('/home/wcmckee/colortest/' + alranza, '/home/wcmckee/colortest/assignedhosts/')"
   ]
  },
  {
   "cell_type": "code",
   "execution_count": 29,
   "metadata": {
    "collapsed": false
   },
   "outputs": [],
   "source": [
    "newlisav = ipliszq[1:]"
   ]
  },
  {
   "cell_type": "code",
   "execution_count": 35,
   "metadata": {
    "collapsed": false
   },
   "outputs": [],
   "source": [
    "newlisav\n",
    "\n",
    "newfre = open('/home/wcmckee/colortest/freeip.txt', 'w')\n",
    "\n",
    "for lisaw in newlisav:\n",
    "    #print lispo\n",
    "    newfre.write(str(lisaw))\n",
    "    newfre.write('\\n')\n",
    "\n",
    "newfre.close()"
   ]
  },
  {
   "cell_type": "code",
   "execution_count": 19,
   "metadata": {
    "collapsed": false
   },
   "outputs": [
    {
     "name": "stdout",
     "output_type": "stream",
     "text": [
      "192.168.1.130\n",
      " 192.168.1.131\n",
      " 192.168.1.132\n",
      " 192.168.1.133\n",
      " 192.168.1.134\n",
      " 192.168.1.135\n",
      " 192.168.1.136\n",
      " 192.168.1.137\n",
      " 192.168.1.138\n",
      " 192.168.1.139\n",
      " 192.168.1.140\n",
      " 192.168.1.141\n",
      " 192.168.1.142\n",
      " 192.168.1.143\n",
      " 192.168.1.144\n",
      " 192.168.1.145\n",
      " 192.168.1.146\n",
      " 192.168.1.147\n",
      " 192.168.1.148\n",
      " 192.168.1.149\n",
      " 192.168.1.150\n",
      " 192.168.1.151\n",
      " 192.168.1.152\n",
      " 192.168.1.153\n",
      " 192.168.1.154\n",
      " 192.168.1.155\n",
      " 192.168.1.156\n",
      " 192.168.1.157\n",
      " 192.168.1.158\n",
      " 192.168.1.159\n",
      " 192.168.1.160\n",
      " 192.168.1.161\n",
      " 192.168.1.162\n",
      " 192.168.1.163\n",
      " 192.168.1.164\n",
      " 192.168.1.165\n",
      " 192.168.1.166\n",
      " 192.168.1.167\n",
      " 192.168.1.168\n",
      " 192.168.1.169\n",
      " 192.168.1.170\n",
      " 192.168.1.171\n",
      " 192.168.1.172\n",
      " 192.168.1.173\n",
      " 192.168.1.174\n",
      " 192.168.1.175\n",
      " 192.168.1.176\n",
      " 192.168.1.177\n",
      " 192.168.1.178\n",
      " 192.168.1.179\n",
      " 192.168.1.130\n",
      " 192.168.1.131\n",
      " 192.168.1.132\n",
      " 192.168.1.133\n",
      " 192.168.1.134\n",
      " 192.168.1.135\n",
      " 192.168.1.136\n",
      " 192.168.1.137\n",
      " 192.168.1.138\n",
      " 192.168.1.139\n",
      " 192.168.1.140\n",
      " 192.168.1.141\n",
      " 192.168.1.142\n",
      " 192.168.1.143\n",
      " 192.168.1.144\n",
      " 192.168.1.145\n",
      " 192.168.1.146\n",
      " 192.168.1.147\n",
      " 192.168.1.148\n",
      " 192.168.1.149\n",
      " 192.168.1.150\n",
      " 192.168.1.151\n",
      " 192.168.1.152\n",
      " 192.168.1.153\n",
      " 192.168.1.154\n",
      " 192.168.1.155\n",
      " 192.168.1.156\n",
      " 192.168.1.157\n",
      " 192.168.1.158\n",
      " 192.168.1.159\n",
      " 192.168.1.160\n",
      " 192.168.1.161\n",
      " 192.168.1.162\n",
      " 192.168.1.163\n",
      " 192.168.1.164\n",
      " 192.168.1.165\n",
      " 192.168.1.166\n",
      " 192.168.1.167\n",
      " 192.168.1.168\n",
      " 192.168.1.169\n",
      " 192.168.1.170\n",
      " 192.168.1.171\n",
      " 192.168.1.172\n",
      " 192.168.1.173\n",
      " 192.168.1.174\n",
      " 192.168.1.175\n",
      " 192.168.1.176\n",
      " 192.168.1.177\n",
      " 192.168.1.178\n",
      " 192.168.1.179\n",
      " \n"
     ]
    }
   ],
   "source": [
    "for ipzq in ipliszq:\n",
    "    print ipzq"
   ]
  },
  {
   "cell_type": "code",
   "execution_count": null,
   "metadata": {
    "collapsed": true
   },
   "outputs": [],
   "source": []
  }
 ],
 "metadata": {
  "kernelspec": {
   "display_name": "Python 2",
   "language": "python",
   "name": "python2"
  },
  "language_info": {
   "codemirror_mode": {
    "name": "ipython",
    "version": 2
   },
   "file_extension": ".py",
   "mimetype": "text/x-python",
   "name": "python",
   "nbconvert_exporter": "python",
   "pygments_lexer": "ipython2",
   "version": "2.7.3"
  }
 },
 "nbformat": 4,
 "nbformat_minor": 0
}
